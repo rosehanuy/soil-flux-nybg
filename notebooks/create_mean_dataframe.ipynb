{
 "cells": [
  {
   "cell_type": "code",
   "execution_count": 1,
   "id": "83ffc1bb-f435-45a2-9d52-d70c5889920b",
   "metadata": {},
   "outputs": [],
   "source": [
    "import pandas as pd\n",
    "import os\n",
    "import numpy as np"
   ]
  },
  {
   "cell_type": "markdown",
   "id": "486b36a3-029a-41ed-a29c-562da0003f70",
   "metadata": {},
   "source": [
    "### Get mean respiration and temperature values for each land type"
   ]
  },
  {
   "cell_type": "code",
   "execution_count": 2,
   "id": "b6edc6b8-2496-4b16-a717-4062d5badca3",
   "metadata": {},
   "outputs": [],
   "source": [
    "data_path = r'C:\\Users\\roseh\\Desktop\\NYBG_R\\data'"
   ]
  },
  {
   "cell_type": "code",
   "execution_count": 3,
   "id": "01fbc802-bf4b-4dd0-ae8d-31ae920d6c52",
   "metadata": {},
   "outputs": [
    {
     "name": "stdout",
     "output_type": "stream",
     "text": [
      "<class 'pandas.core.frame.DataFrame'>\n",
      "RangeIndex: 373 entries, 0 to 372\n",
      "Data columns (total 17 columns):\n",
      " #   Column            Non-Null Count  Dtype         \n",
      "---  ------            --------------  -----         \n",
      " 0   Unnamed: 0.1      373 non-null    int64         \n",
      " 1   Unnamed: 0        373 non-null    int64         \n",
      " 2   date              373 non-null    datetime64[ns]\n",
      " 3   Label             373 non-null    object        \n",
      " 4   Res               245 non-null    float64       \n",
      " 5   NEE               71 non-null     float64       \n",
      " 6   GEE               77 non-null     float64       \n",
      " 7   PAR               64 non-null     float64       \n",
      " 8   Soil temperature  203 non-null    float64       \n",
      " 9   Soil_moist        204 non-null    float64       \n",
      " 10  type              373 non-null    object        \n",
      " 11  Chamber_Temp      234 non-null    float64       \n",
      " 12  sentinel_ndvi     134 non-null    float64       \n",
      " 13  hh_ndvi           28 non-null     float64       \n",
      " 14  sentinel_evi      134 non-null    float64       \n",
      " 15  landsat_ndvi      121 non-null    float64       \n",
      " 16  Number            373 non-null    object        \n",
      "dtypes: datetime64[ns](1), float64(11), int64(2), object(3)\n",
      "memory usage: 49.7+ KB\n",
      "<class 'pandas.core.frame.DataFrame'>\n",
      "RangeIndex: 78 entries, 0 to 77\n",
      "Data columns (total 9 columns):\n",
      " #   Column              Non-Null Count  Dtype         \n",
      "---  ------              --------------  -----         \n",
      " 0   Date                78 non-null     datetime64[ns]\n",
      " 1   Type                78 non-null     object        \n",
      " 2   Mean_Respiration    66 non-null     float64       \n",
      " 3   Mean_Temp           55 non-null     float64       \n",
      " 4   Mean_Chamber        66 non-null     float64       \n",
      " 5   Mean_sentinel_ndvi  51 non-null     float64       \n",
      " 6   Mean_sentinel_evi   51 non-null     float64       \n",
      " 7   Mean_landsat_ndvi   48 non-null     float64       \n",
      " 8   Mean_hh_ndvi        9 non-null      float64       \n",
      "dtypes: datetime64[ns](1), float64(7), object(1)\n",
      "memory usage: 5.6+ KB\n"
     ]
    }
   ],
   "source": [
    "df = pd.read_csv(os.path.join(data_path,'nybg_all_main.csv'), parse_dates=['date'])\n",
    "df['Number'] = df['Label'].str[-1]\n",
    "df.info()\n",
    "\n",
    "grouped_dates = df.groupby(['date','type'])\n",
    "\n",
    "dates = []\n",
    "types = []\n",
    "resp_mean = []\n",
    "temp_mean = []\n",
    "chamber_mean = []\n",
    "sndvi_mean = []\n",
    "evi_mean = []\n",
    "lndvi_mean = []\n",
    "hndvi_mean = []\n",
    "\n",
    "for name, group in grouped_dates:\n",
    "    if name[1] in ['TP', 'SV', 'UL', 'ML']:\n",
    "        dates.append(name[0])\n",
    "        types.append(name[1])\n",
    "        resp_mean.append(group['Res'].mean())\n",
    "        temp_mean.append(group['Soil temperature'].mean())\n",
    "        chamber_mean.append(group['Chamber_Temp'].mean())\n",
    "        sndvi_mean.append(group['sentinel_ndvi'].mean())\n",
    "        evi_mean.append(group['sentinel_evi'].mean())\n",
    "        lndvi_mean.append(group['landsat_ndvi'].mean())\n",
    "        hndvi_mean.append(group['hh_ndvi'].mean())\n",
    "       \n",
    "        \n",
    "    elif name[1] in ['FE', 'FI']:\n",
    "        group = grouped_dates.get_group(name)\n",
    "        mean_34 = group['Res'].loc[(group['Number']=='3') | (group['Number']=='4')].mean()\n",
    "        mean_12 = group['Res'].loc[(group['Number']=='1') | (group['Number']=='2')].mean()\n",
    "        mean_array = np.array([mean_34,mean_12])\n",
    "        \n",
    "        temp_34 = group['Soil temperature'].loc[(group['Number']=='3') | (group['Number']=='4')].mean()\n",
    "        temp_12 = group['Soil temperature'].loc[(group['Number']=='1') | (group['Number']=='2')].mean()\n",
    "        temp_array = np.array([temp_34,temp_12])\n",
    "        \n",
    "        ctemp_34 = group['Chamber_Temp'].loc[(group['Number']=='3') | (group['Number']=='4')].mean()\n",
    "        ctemp_12 = group['Chamber_Temp'].loc[(group['Number']=='1') | (group['Number']=='2')].mean()\n",
    "        ctemp_array = np.array([ctemp_34,ctemp_12])\n",
    "        \n",
    "        sndvi_34 = group['sentinel_ndvi'].loc[(group['Number']=='3') | (group['Number']=='4')].mean()\n",
    "        sndvi_12 = group['sentinel_ndvi'].loc[(group['Number']=='1') | (group['Number']=='2')].mean()\n",
    "        sndvi_array = np.array([sndvi_34,sndvi_12])\n",
    "        \n",
    "        evi_34 = group['sentinel_evi'].loc[(group['Number']=='3') | (group['Number']=='4')].mean()\n",
    "        evi_12 = group['sentinel_evi'].loc[(group['Number']=='1') | (group['Number']=='2')].mean()\n",
    "        evi_array = np.array([evi_34,evi_12])\n",
    "        \n",
    "        ndvi_34 = group['sentinel_ndvi'].loc[(group['Number']=='3') | (group['Number']=='4')].mean()\n",
    "        ndvi_12 = group['sentinel_ndvi'].loc[(group['Number']=='1') | (group['Number']=='2')].mean()\n",
    "        ndvi_array = np.array([ndvi_34,ndvi_12])\n",
    "        \n",
    "        hndvi_34 = group['hh_ndvi'].loc[(group['Number']=='3') | (group['Number']=='4')].mean()\n",
    "        hndvi_12 = group['hh_ndvi'].loc[(group['Number']=='1') | (group['Number']=='2')].mean()\n",
    "        hndvi_array = np.array([hndvi_34,hndvi_12])\n",
    "                              \n",
    "        dates.append(name[0])\n",
    "        types.append(name[1])\n",
    "        resp_mean.append(mean_array.mean())\n",
    "        temp_mean.append(temp_array.mean())\n",
    "        chamber_mean.append(ctemp_array.mean())\n",
    "        sndvi_mean.append(sndvi_array.mean())\n",
    "        evi_mean.append(evi_array.mean())\n",
    "        lndvi_mean.append(ndvi_array.mean())\n",
    "        hndvi_mean.append(hndvi_array.mean())\n",
    "        \n",
    "means_df = pd.DataFrame({'Date':dates, 'Type':types, 'Mean_Respiration':resp_mean, 'Mean_Temp':temp_mean, 'Mean_Chamber':chamber_mean,\n",
    "                        'Mean_sentinel_ndvi':sndvi_mean,'Mean_sentinel_evi':evi_mean, 'Mean_landsat_ndvi':lndvi_mean,'Mean_hh_ndvi':hndvi_mean})\n",
    "\n",
    "\n",
    "means_df.info()"
   ]
  },
  {
   "cell_type": "code",
   "execution_count": 4,
   "id": "fd78ec66-3027-432b-a01d-dc080553dab8",
   "metadata": {},
   "outputs": [],
   "source": [
    "filename = 'nybg_all_main_means.csv'\n",
    "\n",
    "means_df.to_csv(os.path.join(data_path,filename))"
   ]
  },
  {
   "cell_type": "code",
   "execution_count": null,
   "id": "22537cfe-8de6-4112-b608-72d936491686",
   "metadata": {},
   "outputs": [],
   "source": []
  }
 ],
 "metadata": {
  "kernelspec": {
   "display_name": "Python 3 (ipykernel)",
   "language": "python",
   "name": "python3"
  },
  "language_info": {
   "codemirror_mode": {
    "name": "ipython",
    "version": 3
   },
   "file_extension": ".py",
   "mimetype": "text/x-python",
   "name": "python",
   "nbconvert_exporter": "python",
   "pygments_lexer": "ipython3",
   "version": "3.9.13"
  }
 },
 "nbformat": 4,
 "nbformat_minor": 5
}
