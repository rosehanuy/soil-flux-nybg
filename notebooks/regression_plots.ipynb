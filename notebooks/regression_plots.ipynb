{
 "cells": [
  {
   "cell_type": "code",
   "execution_count": 1,
   "id": "43cc37f1-18fa-41a3-8ca4-6751423aac8a",
   "metadata": {},
   "outputs": [],
   "source": [
    "import pandas as pd\n",
    "import statsmodels.api as sm\n",
    "from patsy import dmatrices\n",
    "import os\n",
    "import matplotlib.pyplot as plt"
   ]
  },
  {
   "cell_type": "code",
   "execution_count": 2,
   "id": "ee02468f-24a0-40dc-81c8-700b13684f40",
   "metadata": {},
   "outputs": [],
   "source": [
    "import numpy as np"
   ]
  },
  {
   "cell_type": "code",
   "execution_count": 3,
   "id": "f2b0dcc7-c64e-49e1-9b41-19a759f87f59",
   "metadata": {},
   "outputs": [],
   "source": [
    "basepath = 'C:/Users/roseh/Desktop/NYBG_R/'\n",
    "file_location = 'data/processed/QC2'\n",
    "os.chdir(os.path.join(basepath, file_location))"
   ]
  },
  {
   "cell_type": "markdown",
   "id": "40eed478-51e0-4453-b954-f5e8b427a211",
   "metadata": {},
   "source": [
    "#### Create Regression Plots for NYBG data - co2 flux vs. soil temp and co2 flux vs. chamber temp"
   ]
  },
  {
   "cell_type": "code",
   "execution_count": 4,
   "id": "fa262da4-7bcf-49b6-b1e2-78a125f5cac9",
   "metadata": {},
   "outputs": [],
   "source": [
    "df = pd.read_csv('NYBG_CO2_Flux_and_Temps.csv')\n",
    "df.drop(22,axis=0,inplace=True)\n",
    "df.drop('Unnamed: 0',axis=1,inplace=True)\n",
    "grouped = df.groupby('Collar')"
   ]
  },
  {
   "cell_type": "code",
   "execution_count": 8,
   "id": "f985e7bf-1a39-45b0-b432-93bdda9c176d",
   "metadata": {},
   "outputs": [],
   "source": [
    "bw_tp1 = grouped.get_group('BW_TP1')"
   ]
  },
  {
   "cell_type": "code",
   "execution_count": 16,
   "id": "4c0197ac-f5b4-4b21-90a0-86e5d62f82f6",
   "metadata": {},
   "outputs": [],
   "source": [
    "bw_hl1 = grouped.get_group('BW_HL1')"
   ]
  },
  {
   "cell_type": "code",
   "execution_count": 6,
   "id": "092661a5-1de8-4f75-b5db-d451c268d04f",
   "metadata": {},
   "outputs": [
    {
     "data": {
      "text/html": [
       "<div>\n",
       "<style scoped>\n",
       "    .dataframe tbody tr th:only-of-type {\n",
       "        vertical-align: middle;\n",
       "    }\n",
       "\n",
       "    .dataframe tbody tr th {\n",
       "        vertical-align: top;\n",
       "    }\n",
       "\n",
       "    .dataframe thead th {\n",
       "        text-align: right;\n",
       "    }\n",
       "</style>\n",
       "<table border=\"1\" class=\"dataframe\">\n",
       "  <thead>\n",
       "    <tr style=\"text-align: right;\">\n",
       "      <th></th>\n",
       "      <th>Date</th>\n",
       "      <th>Chamber_Temp</th>\n",
       "      <th>Collar</th>\n",
       "      <th>CO2_Flux</th>\n",
       "      <th>Site</th>\n",
       "      <th>Type</th>\n",
       "      <th>Chamber Used</th>\n",
       "      <th>Temperature</th>\n",
       "      <th>Moisture</th>\n",
       "    </tr>\n",
       "  </thead>\n",
       "  <tbody>\n",
       "    <tr>\n",
       "      <th>0</th>\n",
       "      <td>5/31/2022 8:13</td>\n",
       "      <td>31.95000</td>\n",
       "      <td>BW_TP1</td>\n",
       "      <td>33.04108</td>\n",
       "      <td>BW</td>\n",
       "      <td>TP</td>\n",
       "      <td>R</td>\n",
       "      <td>23.1</td>\n",
       "      <td>38.0</td>\n",
       "    </tr>\n",
       "    <tr>\n",
       "      <th>1</th>\n",
       "      <td>5/31/2022 8:17</td>\n",
       "      <td>31.07364</td>\n",
       "      <td>BW_TP2</td>\n",
       "      <td>21.48947</td>\n",
       "      <td>BW</td>\n",
       "      <td>TP</td>\n",
       "      <td>R</td>\n",
       "      <td>23.4</td>\n",
       "      <td>38.0</td>\n",
       "    </tr>\n",
       "    <tr>\n",
       "      <th>2</th>\n",
       "      <td>5/31/2022 8:22</td>\n",
       "      <td>32.25500</td>\n",
       "      <td>BW_TP3</td>\n",
       "      <td>15.38946</td>\n",
       "      <td>BW</td>\n",
       "      <td>TP</td>\n",
       "      <td>R</td>\n",
       "      <td>23.6</td>\n",
       "      <td>51.1</td>\n",
       "    </tr>\n",
       "    <tr>\n",
       "      <th>3</th>\n",
       "      <td>5/31/2022 8:55</td>\n",
       "      <td>30.45091</td>\n",
       "      <td>BR_HL3</td>\n",
       "      <td>22.07139</td>\n",
       "      <td>BR</td>\n",
       "      <td>HL</td>\n",
       "      <td>R</td>\n",
       "      <td>22.3</td>\n",
       "      <td>47.1</td>\n",
       "    </tr>\n",
       "    <tr>\n",
       "      <th>4</th>\n",
       "      <td>5/31/2022 9:49</td>\n",
       "      <td>33.74273</td>\n",
       "      <td>BW_HL1</td>\n",
       "      <td>24.25844</td>\n",
       "      <td>BW</td>\n",
       "      <td>HL</td>\n",
       "      <td>R</td>\n",
       "      <td>23.0</td>\n",
       "      <td>32.3</td>\n",
       "    </tr>\n",
       "  </tbody>\n",
       "</table>\n",
       "</div>"
      ],
      "text/plain": [
       "             Date  Chamber_Temp  Collar  CO2_Flux Site Type Chamber Used  \\\n",
       "0  5/31/2022 8:13      31.95000  BW_TP1  33.04108   BW   TP            R   \n",
       "1  5/31/2022 8:17      31.07364  BW_TP2  21.48947   BW   TP            R   \n",
       "2  5/31/2022 8:22      32.25500  BW_TP3  15.38946   BW   TP            R   \n",
       "3  5/31/2022 8:55      30.45091  BR_HL3  22.07139   BR   HL            R   \n",
       "4  5/31/2022 9:49      33.74273  BW_HL1  24.25844   BW   HL            R   \n",
       "\n",
       "   Temperature  Moisture  \n",
       "0         23.1      38.0  \n",
       "1         23.4      38.0  \n",
       "2         23.6      51.1  \n",
       "3         22.3      47.1  \n",
       "4         23.0      32.3  "
      ]
     },
     "execution_count": 6,
     "metadata": {},
     "output_type": "execute_result"
    }
   ],
   "source": [
    "df.head()"
   ]
  },
  {
   "cell_type": "code",
   "execution_count": 7,
   "id": "4d53b0cb-747d-4380-b3dd-36488200b065",
   "metadata": {},
   "outputs": [
    {
     "name": "stdout",
     "output_type": "stream",
     "text": [
      "<class 'pandas.core.frame.DataFrame'>\n",
      "Int64Index: 175 entries, 0 to 175\n",
      "Data columns (total 9 columns):\n",
      " #   Column        Non-Null Count  Dtype  \n",
      "---  ------        --------------  -----  \n",
      " 0   Date          175 non-null    object \n",
      " 1   Chamber_Temp  175 non-null    float64\n",
      " 2   Collar        175 non-null    object \n",
      " 3   CO2_Flux      175 non-null    float64\n",
      " 4   Site          175 non-null    object \n",
      " 5   Type          175 non-null    object \n",
      " 6   Chamber Used  175 non-null    object \n",
      " 7   Temperature   171 non-null    float64\n",
      " 8   Moisture      172 non-null    float64\n",
      "dtypes: float64(4), object(5)\n",
      "memory usage: 13.7+ KB\n"
     ]
    }
   ],
   "source": [
    "df.info()"
   ]
  },
  {
   "cell_type": "code",
   "execution_count": 75,
   "id": "640e91b6-cd94-43fe-93b0-b476194d991d",
   "metadata": {},
   "outputs": [],
   "source": [
    "def regression_soil_temp(group):\n",
    "    y, X = dmatrices('CO2_Flux ~ Temperature', data=group[1], return_type='dataframe')\n",
    "    model = sm.OLS(y, X)\n",
    "    result = model.fit()\n",
    "    \n",
    "    fig, ax = plt.subplots()\n",
    "    fig = sm.graphics.plot_fit(result, 1, ax=ax, vlines=False)\n",
    "    ax.plot(X['Temperature'], result.fittedvalues, 'red')\n",
    "    ax.set_title(f'Collar: {group[0]}      r-squared:{np.around(result.rsquared,4)}')\n",
    "    ax.legend(['Observed','Fitted'])\n",
    "    \n",
    "    filepath = 'C:/Users/roseh/Desktop/NYBG_R/data/processed/QC2/plots/regression_plots'\n",
    "    filename = '{}_soil_temp_regression.png'.format(group[0])\n",
    "    plt.savefig(os.path.join(filepath,filename))\n",
    "    \n",
    "\n",
    "    plt.show()"
   ]
  },
  {
   "cell_type": "code",
   "execution_count": 79,
   "id": "182bcfa6-608b-48ef-838c-00b8bb31bbbf",
   "metadata": {},
   "outputs": [],
   "source": [
    "def regression_chamber_temp(group):\n",
    "    y, X = dmatrices('CO2_Flux ~ Chamber_Temp', data=group[1], return_type='dataframe')\n",
    "    model = sm.OLS(y, X)\n",
    "    result = model.fit()\n",
    "    \n",
    "    fig, ax = plt.subplots()\n",
    "    fig = sm.graphics.plot_fit(result, 1, ax=ax, vlines=False)\n",
    "    ax.plot(X['Chamber_Temp'], result.fittedvalues, 'red')\n",
    "    ax.set_title(f'Collar: {group[0]}      r-squared:{np.around(result.rsquared,4)}')\n",
    "    ax.legend(['Observed','Fitted'])\n",
    "    \n",
    "    filepath = 'C:/Users/roseh/Desktop/NYBG_R/data/processed/QC2/plots/regression_plots'\n",
    "    filename = '{}_chamber_temp_regression.png'.format(group[0])\n",
    "    plt.savefig(os.path.join(filepath,filename))\n",
    "    \n",
    "\n",
    "    plt.show()"
   ]
  },
  {
   "cell_type": "code",
   "execution_count": null,
   "id": "5fc9a07c-e3d7-471c-b90b-76e07718247f",
   "metadata": {},
   "outputs": [],
   "source": [
    "#for group in grouped:\n",
    "    #regression_chamber_temp(group)"
   ]
  },
  {
   "cell_type": "code",
   "execution_count": 26,
   "id": "0917cc2d-6cf2-4257-8d3c-d78ab5a85d3b",
   "metadata": {},
   "outputs": [],
   "source": [
    "result = model.fit()"
   ]
  },
  {
   "cell_type": "code",
   "execution_count": 27,
   "id": "30313f60-4a37-45f7-bc21-b19184048ec5",
   "metadata": {},
   "outputs": [
    {
     "name": "stdout",
     "output_type": "stream",
     "text": [
      "Regression slope: m = 0.789 +/- 1.089\n",
      "Regression intercept: b = 3.813 +/- 27.562\n",
      "Regression R-squared: R^2 = 0.070\n",
      "Regression p-value: p(>|t|) = 4.92e-01\n"
     ]
    }
   ],
   "source": [
    "b_coef, m_coef = result.params\n",
    "b_err, m_err = result.bse\n",
    "print(f'Regression slope: m = {m_coef:.3f} +/- {m_err:.3f}')\n",
    "print(f'Regression intercept: b = {b_coef:.3f} +/- {b_err:.3f}')\n",
    "print(f'Regression R-squared: R^2 = {result.rsquared:.3f}')\n",
    "print(f'Regression p-value: p(>|t|) = {result.pvalues[1]:.2e}')"
   ]
  },
  {
   "cell_type": "code",
   "execution_count": 30,
   "id": "9dc84b78-1cca-4f44-98a6-cd19205a99f6",
   "metadata": {},
   "outputs": [],
   "source": [
    "def plot_regression(df, result):\n",
    "    fig,ax = plt.subplots(figsize=(8,6))\n",
    "    ax.plot(df['Soil_Temp'],df['CO2_Flux'],'o')\n",
    "    ax.plot(df['Soil_Temp'],result.fittedvalues, \"r--.\")"
   ]
  },
  {
   "cell_type": "markdown",
   "id": "79fd678a-7a45-40e7-abf5-13f4f22ef3e7",
   "metadata": {},
   "source": [
    "#### Plot regression for 7810 and 8100 measurements separately"
   ]
  },
  {
   "cell_type": "code",
   "execution_count": 24,
   "id": "8d31c276-cd30-432d-81d4-a47a8fda6365",
   "metadata": {},
   "outputs": [],
   "source": [
    "df_7810 = pd.read_csv('7810_NYBG.csv')\n",
    "df_7810.drop('Unnamed: 0',axis=1, inplace=True)"
   ]
  },
  {
   "cell_type": "code",
   "execution_count": 44,
   "id": "2745ba70-7f85-46d4-884a-ba83e8a7b430",
   "metadata": {},
   "outputs": [],
   "source": [
    "df_8100 = pd.read_csv('8100_NYBG.csv')\n",
    "df_8100.drop('Unnamed: 0',axis=1, inplace=True)"
   ]
  },
  {
   "cell_type": "code",
   "execution_count": 45,
   "id": "7171f8de-b4f2-48f2-8fef-253c30cb4bd4",
   "metadata": {},
   "outputs": [
    {
     "data": {
      "text/html": [
       "<div>\n",
       "<style scoped>\n",
       "    .dataframe tbody tr th:only-of-type {\n",
       "        vertical-align: middle;\n",
       "    }\n",
       "\n",
       "    .dataframe tbody tr th {\n",
       "        vertical-align: top;\n",
       "    }\n",
       "\n",
       "    .dataframe thead th {\n",
       "        text-align: right;\n",
       "    }\n",
       "</style>\n",
       "<table border=\"1\" class=\"dataframe\">\n",
       "  <thead>\n",
       "    <tr style=\"text-align: right;\">\n",
       "      <th></th>\n",
       "      <th>Date</th>\n",
       "      <th>Chamber_Temp</th>\n",
       "      <th>Collar</th>\n",
       "      <th>CO2_Flux</th>\n",
       "      <th>Site</th>\n",
       "      <th>Type</th>\n",
       "      <th>Chamber Used</th>\n",
       "      <th>Soil_Temp</th>\n",
       "      <th>Soil Moisture</th>\n",
       "    </tr>\n",
       "  </thead>\n",
       "  <tbody>\n",
       "    <tr>\n",
       "      <th>0</th>\n",
       "      <td>5/31/2022 8:13</td>\n",
       "      <td>31.95000</td>\n",
       "      <td>BW_TP1</td>\n",
       "      <td>33.04108</td>\n",
       "      <td>BW</td>\n",
       "      <td>TP</td>\n",
       "      <td>R</td>\n",
       "      <td>23.1</td>\n",
       "      <td>38.0</td>\n",
       "    </tr>\n",
       "    <tr>\n",
       "      <th>1</th>\n",
       "      <td>5/31/2022 8:17</td>\n",
       "      <td>31.07364</td>\n",
       "      <td>BW_TP2</td>\n",
       "      <td>21.48947</td>\n",
       "      <td>BW</td>\n",
       "      <td>TP</td>\n",
       "      <td>R</td>\n",
       "      <td>23.4</td>\n",
       "      <td>38.0</td>\n",
       "    </tr>\n",
       "    <tr>\n",
       "      <th>2</th>\n",
       "      <td>5/31/2022 8:22</td>\n",
       "      <td>32.25500</td>\n",
       "      <td>BW_TP3</td>\n",
       "      <td>15.38946</td>\n",
       "      <td>BW</td>\n",
       "      <td>TP</td>\n",
       "      <td>R</td>\n",
       "      <td>23.6</td>\n",
       "      <td>51.1</td>\n",
       "    </tr>\n",
       "    <tr>\n",
       "      <th>3</th>\n",
       "      <td>5/31/2022 8:55</td>\n",
       "      <td>30.45091</td>\n",
       "      <td>BR_HL3</td>\n",
       "      <td>22.07139</td>\n",
       "      <td>BR</td>\n",
       "      <td>HL</td>\n",
       "      <td>R</td>\n",
       "      <td>22.3</td>\n",
       "      <td>47.1</td>\n",
       "    </tr>\n",
       "    <tr>\n",
       "      <th>4</th>\n",
       "      <td>5/31/2022 9:49</td>\n",
       "      <td>33.74273</td>\n",
       "      <td>BW_HL1</td>\n",
       "      <td>24.25844</td>\n",
       "      <td>BW</td>\n",
       "      <td>HL</td>\n",
       "      <td>R</td>\n",
       "      <td>23.0</td>\n",
       "      <td>32.3</td>\n",
       "    </tr>\n",
       "  </tbody>\n",
       "</table>\n",
       "</div>"
      ],
      "text/plain": [
       "             Date  Chamber_Temp  Collar  CO2_Flux Site Type Chamber Used  \\\n",
       "0  5/31/2022 8:13      31.95000  BW_TP1  33.04108   BW   TP            R   \n",
       "1  5/31/2022 8:17      31.07364  BW_TP2  21.48947   BW   TP            R   \n",
       "2  5/31/2022 8:22      32.25500  BW_TP3  15.38946   BW   TP            R   \n",
       "3  5/31/2022 8:55      30.45091  BR_HL3  22.07139   BR   HL            R   \n",
       "4  5/31/2022 9:49      33.74273  BW_HL1  24.25844   BW   HL            R   \n",
       "\n",
       "   Soil_Temp  Soil Moisture  \n",
       "0       23.1           38.0  \n",
       "1       23.4           38.0  \n",
       "2       23.6           51.1  \n",
       "3       22.3           47.1  \n",
       "4       23.0           32.3  "
      ]
     },
     "execution_count": 45,
     "metadata": {},
     "output_type": "execute_result"
    }
   ],
   "source": [
    "df_8100.head()"
   ]
  },
  {
   "cell_type": "code",
   "execution_count": 35,
   "id": "c973034e-f1d4-4128-bf19-bffadd299daf",
   "metadata": {},
   "outputs": [],
   "source": [
    "def regression_soil_temp_7810(group):\n",
    "    y, X = dmatrices('CO2_Flux ~ Soil_Temp', data=group[1], return_type='dataframe')\n",
    "    model = sm.OLS(y, X)\n",
    "    result = model.fit()\n",
    "    \n",
    "    fig, ax = plt.subplots()\n",
    "    fig = sm.graphics.plot_fit(result, 1, ax=ax, vlines=False)\n",
    "    ax.plot(X['Soil_Temp'], result.fittedvalues, 'red')\n",
    "    ax.get_lines()[0].set_markerfacecolor('g')\n",
    "    ax.get_lines()[0].set_markeredgecolor('g')\n",
    "    ax.set_title(f'7810. Collar: {group[0]}      r-squared:{np.around(result.rsquared,4)}')\n",
    "    ax.legend(['Observed','Fitted'])\n",
    "    \n",
    "    filepath = 'C:/Users/roseh/Desktop/NYBG_R/data/processed/QC2/plots/regression_plots'\n",
    "    filename = '{}7810_soil_temp_regression.png'.format(group[0])\n",
    "    plt.savefig(os.path.join(filepath,filename))\n",
    "    \n",
    "\n",
    "    plt.show()"
   ]
  },
  {
   "cell_type": "code",
   "execution_count": 54,
   "id": "758caa76-eb3c-4fc8-86ed-892b3d2412fc",
   "metadata": {},
   "outputs": [],
   "source": [
    "def regression_soil_temp_8100(group):\n",
    "    y, X = dmatrices('CO2_Flux ~ Soil_Temp', data=group[1], return_type='dataframe')\n",
    "    model = sm.OLS(y, X)\n",
    "    result = model.fit()\n",
    "    \n",
    "    fig, ax = plt.subplots()\n",
    "    fig = sm.graphics.plot_fit(result, 1, ax=ax, vlines=False)\n",
    "    ax.plot(X['Soil_Temp'], result.fittedvalues, 'red')\n",
    "    ax.get_lines()[0].set_markerfacecolor('purple')\n",
    "    ax.get_lines()[0].set_markeredgecolor('purple')\n",
    "    ax.set_title(f'8100. Collar: {group[0]}      r-squared:{np.around(result.rsquared,4)}')\n",
    "    ax.legend(['Observed','Fitted'])\n",
    "    \n",
    "    filepath = 'C:/Users/roseh/Desktop/NYBG_R/data/processed/QC2/plots/regression_plots'\n",
    "    filename = '{}8100_soil_temp_regression.png'.format(group[0])\n",
    "    plt.savefig(os.path.join(filepath,filename))\n",
    "    \n",
    "\n",
    "    plt.show()"
   ]
  },
  {
   "cell_type": "code",
   "execution_count": 38,
   "id": "7be6374a-265f-4095-b84c-a391f63319f2",
   "metadata": {},
   "outputs": [],
   "source": [
    "def regression_chamber_temp_8100(group):\n",
    "    y, X = dmatrices('CO2_Flux ~ Chamber_Temp', data=group[1], return_type='dataframe')\n",
    "    model = sm.OLS(y, X)\n",
    "    result = model.fit()\n",
    "    \n",
    "    fig, ax = plt.subplots()\n",
    "    fig = sm.graphics.plot_fit(result, 1, ax=ax, vlines=False)\n",
    "    ax.plot(X['Chamber_Temp'], result.fittedvalues, 'red')\n",
    "    ax.get_lines()[0].set_markerfacecolor('g')\n",
    "    ax.get_lines()[0].set_markeredgecolor('g')\n",
    "    ax.set_title(f'8100. Collar: {group[0]}      r-squared:{np.around(result.rsquared,4)}')\n",
    "    ax.legend(['Observed','Fitted'])\n",
    "    \n",
    "    filepath = 'C:/Users/roseh/Desktop/NYBG_R/data/processed/QC2/plots/regression_plots'\n",
    "    filename = '{}8100_chamber_temp_regression.png'.format(group[0])\n",
    "    plt.savefig(os.path.join(filepath,filename))\n",
    "    \n",
    "\n",
    "    plt.show()"
   ]
  },
  {
   "cell_type": "code",
   "execution_count": 74,
   "id": "0a752a5a-a099-4126-b031-4be5459f4755",
   "metadata": {},
   "outputs": [],
   "source": [
    "grouped = df_7810.groupby('Collar')"
   ]
  },
  {
   "cell_type": "code",
   "execution_count": null,
   "id": "5c3bcd1f-237e-42c6-ae53-eb8a702384e6",
   "metadata": {},
   "outputs": [],
   "source": [
    "for group in grouped:\n",
    "    regression_soil_temp_7810(group)"
   ]
  },
  {
   "cell_type": "code",
   "execution_count": 50,
   "id": "92f8589b-3a50-431f-97ac-df3dc6862205",
   "metadata": {},
   "outputs": [],
   "source": [
    "grouped2 = df_8100.groupby('Type')"
   ]
  },
  {
   "cell_type": "code",
   "execution_count": null,
   "id": "56699e5d-6e2f-4cbf-927f-e528b917f872",
   "metadata": {},
   "outputs": [],
   "source": [
    "for group in grouped2:\n",
    "    regression_soil_temp_8100(group)"
   ]
  },
  {
   "cell_type": "markdown",
   "id": "e61a75b4-a2e2-4b5b-8ec8-0329cffce912",
   "metadata": {},
   "source": [
    "#### Time series plot"
   ]
  },
  {
   "cell_type": "code",
   "execution_count": 85,
   "id": "c359ca6d-1205-4eb2-b9ae-b4e8ca2f112a",
   "metadata": {},
   "outputs": [],
   "source": [
    "df_7810['Date'] = pd.to_datetime(df_7810['Date'])"
   ]
  },
  {
   "cell_type": "code",
   "execution_count": 86,
   "id": "606c2e12-b7df-48ad-9e09-71deffff42ac",
   "metadata": {},
   "outputs": [],
   "source": [
    "df_7810['day'] = df_7810['Date'].dt.date"
   ]
  },
  {
   "cell_type": "code",
   "execution_count": 87,
   "id": "3eb56beb-48a5-45c6-bf99-a49203ee72f9",
   "metadata": {},
   "outputs": [
    {
     "data": {
      "text/html": [
       "<div>\n",
       "<style scoped>\n",
       "    .dataframe tbody tr th:only-of-type {\n",
       "        vertical-align: middle;\n",
       "    }\n",
       "\n",
       "    .dataframe tbody tr th {\n",
       "        vertical-align: top;\n",
       "    }\n",
       "\n",
       "    .dataframe thead th {\n",
       "        text-align: right;\n",
       "    }\n",
       "</style>\n",
       "<table border=\"1\" class=\"dataframe\">\n",
       "  <thead>\n",
       "    <tr style=\"text-align: right;\">\n",
       "      <th></th>\n",
       "      <th>Chamber_Temp</th>\n",
       "      <th>CO2_Flux</th>\n",
       "      <th>Collar</th>\n",
       "      <th>Date</th>\n",
       "      <th>Site</th>\n",
       "      <th>Type</th>\n",
       "      <th>Chamber Used</th>\n",
       "      <th>Soil_Temp</th>\n",
       "      <th>Soil Moisture</th>\n",
       "      <th>day</th>\n",
       "    </tr>\n",
       "  </thead>\n",
       "  <tbody>\n",
       "    <tr>\n",
       "      <th>0</th>\n",
       "      <td>24.40253</td>\n",
       "      <td>18.37848</td>\n",
       "      <td>BR_HL4</td>\n",
       "      <td>2022-07-01 08:01:00</td>\n",
       "      <td>BR</td>\n",
       "      <td>HL</td>\n",
       "      <td>R</td>\n",
       "      <td>22.9</td>\n",
       "      <td>57.4</td>\n",
       "      <td>2022-07-01</td>\n",
       "    </tr>\n",
       "    <tr>\n",
       "      <th>1</th>\n",
       "      <td>24.33798</td>\n",
       "      <td>19.30210</td>\n",
       "      <td>BR_HL3</td>\n",
       "      <td>2022-07-01 08:06:00</td>\n",
       "      <td>BR</td>\n",
       "      <td>HL</td>\n",
       "      <td>R</td>\n",
       "      <td>23.4</td>\n",
       "      <td>46.5</td>\n",
       "      <td>2022-07-01</td>\n",
       "    </tr>\n",
       "    <tr>\n",
       "      <th>2</th>\n",
       "      <td>28.40231</td>\n",
       "      <td>5.90584</td>\n",
       "      <td>BE_SV3</td>\n",
       "      <td>2022-07-01 08:36:00</td>\n",
       "      <td>BE</td>\n",
       "      <td>SV</td>\n",
       "      <td>R</td>\n",
       "      <td>21.5</td>\n",
       "      <td>34.6</td>\n",
       "      <td>2022-07-01</td>\n",
       "    </tr>\n",
       "    <tr>\n",
       "      <th>3</th>\n",
       "      <td>26.27136</td>\n",
       "      <td>8.86818</td>\n",
       "      <td>BE_UL2</td>\n",
       "      <td>2022-07-01 08:45:00</td>\n",
       "      <td>BE</td>\n",
       "      <td>UL</td>\n",
       "      <td>R</td>\n",
       "      <td>22.6</td>\n",
       "      <td>37.4</td>\n",
       "      <td>2022-07-01</td>\n",
       "    </tr>\n",
       "    <tr>\n",
       "      <th>4</th>\n",
       "      <td>26.03414</td>\n",
       "      <td>9.84708</td>\n",
       "      <td>BE_UL1</td>\n",
       "      <td>2022-07-01 08:50:00</td>\n",
       "      <td>BE</td>\n",
       "      <td>UL</td>\n",
       "      <td>R</td>\n",
       "      <td>21.5</td>\n",
       "      <td>40.3</td>\n",
       "      <td>2022-07-01</td>\n",
       "    </tr>\n",
       "  </tbody>\n",
       "</table>\n",
       "</div>"
      ],
      "text/plain": [
       "   Chamber_Temp  CO2_Flux  Collar                Date Site Type Chamber Used  \\\n",
       "0      24.40253  18.37848  BR_HL4 2022-07-01 08:01:00   BR   HL            R   \n",
       "1      24.33798  19.30210  BR_HL3 2022-07-01 08:06:00   BR   HL            R   \n",
       "2      28.40231   5.90584  BE_SV3 2022-07-01 08:36:00   BE   SV            R   \n",
       "3      26.27136   8.86818  BE_UL2 2022-07-01 08:45:00   BE   UL            R   \n",
       "4      26.03414   9.84708  BE_UL1 2022-07-01 08:50:00   BE   UL            R   \n",
       "\n",
       "   Soil_Temp  Soil Moisture         day  \n",
       "0       22.9           57.4  2022-07-01  \n",
       "1       23.4           46.5  2022-07-01  \n",
       "2       21.5           34.6  2022-07-01  \n",
       "3       22.6           37.4  2022-07-01  \n",
       "4       21.5           40.3  2022-07-01  "
      ]
     },
     "execution_count": 87,
     "metadata": {},
     "output_type": "execute_result"
    }
   ],
   "source": [
    "df_7810.head()"
   ]
  },
  {
   "cell_type": "code",
   "execution_count": 5,
   "id": "fefe2934-38ba-4696-8890-37dd9ce19591",
   "metadata": {},
   "outputs": [
    {
     "ename": "NameError",
     "evalue": "name 'df_7810' is not defined",
     "output_type": "error",
     "traceback": [
      "\u001b[1;31m---------------------------------------------------------------------------\u001b[0m",
      "\u001b[1;31mNameError\u001b[0m                                 Traceback (most recent call last)",
      "Input \u001b[1;32mIn [5]\u001b[0m, in \u001b[0;36m<cell line: 1>\u001b[1;34m()\u001b[0m\n\u001b[1;32m----> 1\u001b[0m grouped \u001b[38;5;241m=\u001b[39m \u001b[43mdf_7810\u001b[49m\u001b[38;5;241m.\u001b[39mgroupby(\u001b[38;5;124m'\u001b[39m\u001b[38;5;124mType\u001b[39m\u001b[38;5;124m'\u001b[39m)\n",
      "\u001b[1;31mNameError\u001b[0m: name 'df_7810' is not defined"
     ]
    }
   ],
   "source": [
    "grouped = df_7810.groupby('Type')"
   ]
  },
  {
   "cell_type": "code",
   "execution_count": 37,
   "id": "09c10c2c-14e0-4e56-b371-4be587d92645",
   "metadata": {},
   "outputs": [],
   "source": [
    "df['Date'] = pd.to_datetime(df['Date'])\n",
    "df['day'] = df['Date'].dt.date\n",
    "grouped = df.groupby('Type')"
   ]
  },
  {
   "cell_type": "code",
   "execution_count": 38,
   "id": "463fac75-bc49-4d34-a20e-df95252e6095",
   "metadata": {},
   "outputs": [
    {
     "ename": "KeyError",
     "evalue": "datetime.date(2022, 5, 31)",
     "output_type": "error",
     "traceback": [
      "\u001b[1;31m---------------------------------------------------------------------------\u001b[0m",
      "\u001b[1;31mKeyError\u001b[0m                                  Traceback (most recent call last)",
      "File \u001b[1;32m~\\miniconda3\\envs\\sr-env\\lib\\site-packages\\pandas\\core\\indexes\\base.py:3629\u001b[0m, in \u001b[0;36mIndex.get_loc\u001b[1;34m(self, key, method, tolerance)\u001b[0m\n\u001b[0;32m   3628\u001b[0m \u001b[38;5;28;01mtry\u001b[39;00m:\n\u001b[1;32m-> 3629\u001b[0m     \u001b[38;5;28;01mreturn\u001b[39;00m \u001b[38;5;28;43mself\u001b[39;49m\u001b[38;5;241;43m.\u001b[39;49m\u001b[43m_engine\u001b[49m\u001b[38;5;241;43m.\u001b[39;49m\u001b[43mget_loc\u001b[49m\u001b[43m(\u001b[49m\u001b[43mcasted_key\u001b[49m\u001b[43m)\u001b[49m\n\u001b[0;32m   3630\u001b[0m \u001b[38;5;28;01mexcept\u001b[39;00m \u001b[38;5;167;01mKeyError\u001b[39;00m \u001b[38;5;28;01mas\u001b[39;00m err:\n",
      "File \u001b[1;32m~\\miniconda3\\envs\\sr-env\\lib\\site-packages\\pandas\\_libs\\index.pyx:136\u001b[0m, in \u001b[0;36mpandas._libs.index.IndexEngine.get_loc\u001b[1;34m()\u001b[0m\n",
      "File \u001b[1;32m~\\miniconda3\\envs\\sr-env\\lib\\site-packages\\pandas\\_libs\\index.pyx:144\u001b[0m, in \u001b[0;36mpandas._libs.index.IndexEngine.get_loc\u001b[1;34m()\u001b[0m\n",
      "File \u001b[1;32mpandas\\_libs\\index_class_helper.pxi:41\u001b[0m, in \u001b[0;36mpandas._libs.index.Int64Engine._check_type\u001b[1;34m()\u001b[0m\n",
      "\u001b[1;31mKeyError\u001b[0m: datetime.date(2022, 5, 31)",
      "\nThe above exception was the direct cause of the following exception:\n",
      "\u001b[1;31mKeyError\u001b[0m                                  Traceback (most recent call last)",
      "Input \u001b[1;32mIn [38]\u001b[0m, in \u001b[0;36m<cell line: 3>\u001b[1;34m()\u001b[0m\n\u001b[0;32m      3\u001b[0m \u001b[38;5;28;01mfor\u001b[39;00m group \u001b[38;5;129;01min\u001b[39;00m grouped:\n\u001b[0;32m      4\u001b[0m     \u001b[38;5;28;01mfor\u001b[39;00m day \u001b[38;5;129;01min\u001b[39;00m group[\u001b[38;5;241m1\u001b[39m][\u001b[38;5;124m'\u001b[39m\u001b[38;5;124mday\u001b[39m\u001b[38;5;124m'\u001b[39m]\u001b[38;5;241m.\u001b[39munique():\n\u001b[1;32m----> 5\u001b[0m         ax\u001b[38;5;241m.\u001b[39mscatter(day, \u001b[43mgroup\u001b[49m\u001b[43m[\u001b[49m\u001b[38;5;241;43m1\u001b[39;49m\u001b[43m]\u001b[49m\u001b[38;5;241;43m.\u001b[39;49m\u001b[43mloc\u001b[49m\u001b[43m[\u001b[49m\u001b[43mday\u001b[49m\u001b[43m,\u001b[49m\u001b[43m[\u001b[49m\u001b[38;5;124;43m'\u001b[39;49m\u001b[38;5;124;43mCO2_Flux\u001b[39;49m\u001b[38;5;124;43m'\u001b[39;49m\u001b[43m]\u001b[49m\u001b[43m]\u001b[49m\u001b[38;5;241m.\u001b[39mmean())\n\u001b[0;32m      6\u001b[0m     plt\u001b[38;5;241m.\u001b[39mxticks(rotation\u001b[38;5;241m=\u001b[39m\u001b[38;5;241m90\u001b[39m)\n",
      "File \u001b[1;32m~\\miniconda3\\envs\\sr-env\\lib\\site-packages\\pandas\\core\\indexing.py:961\u001b[0m, in \u001b[0;36m_LocationIndexer.__getitem__\u001b[1;34m(self, key)\u001b[0m\n\u001b[0;32m    959\u001b[0m     \u001b[38;5;28;01mif\u001b[39;00m \u001b[38;5;28mself\u001b[39m\u001b[38;5;241m.\u001b[39m_is_scalar_access(key):\n\u001b[0;32m    960\u001b[0m         \u001b[38;5;28;01mreturn\u001b[39;00m \u001b[38;5;28mself\u001b[39m\u001b[38;5;241m.\u001b[39mobj\u001b[38;5;241m.\u001b[39m_get_value(\u001b[38;5;241m*\u001b[39mkey, takeable\u001b[38;5;241m=\u001b[39m\u001b[38;5;28mself\u001b[39m\u001b[38;5;241m.\u001b[39m_takeable)\n\u001b[1;32m--> 961\u001b[0m     \u001b[38;5;28;01mreturn\u001b[39;00m \u001b[38;5;28;43mself\u001b[39;49m\u001b[38;5;241;43m.\u001b[39;49m\u001b[43m_getitem_tuple\u001b[49m\u001b[43m(\u001b[49m\u001b[43mkey\u001b[49m\u001b[43m)\u001b[49m\n\u001b[0;32m    962\u001b[0m \u001b[38;5;28;01melse\u001b[39;00m:\n\u001b[0;32m    963\u001b[0m     \u001b[38;5;66;03m# we by definition only have the 0th axis\u001b[39;00m\n\u001b[0;32m    964\u001b[0m     axis \u001b[38;5;241m=\u001b[39m \u001b[38;5;28mself\u001b[39m\u001b[38;5;241m.\u001b[39maxis \u001b[38;5;129;01mor\u001b[39;00m \u001b[38;5;241m0\u001b[39m\n",
      "File \u001b[1;32m~\\miniconda3\\envs\\sr-env\\lib\\site-packages\\pandas\\core\\indexing.py:1140\u001b[0m, in \u001b[0;36m_LocIndexer._getitem_tuple\u001b[1;34m(self, tup)\u001b[0m\n\u001b[0;32m   1138\u001b[0m \u001b[38;5;28;01mwith\u001b[39;00m suppress(IndexingError):\n\u001b[0;32m   1139\u001b[0m     tup \u001b[38;5;241m=\u001b[39m \u001b[38;5;28mself\u001b[39m\u001b[38;5;241m.\u001b[39m_expand_ellipsis(tup)\n\u001b[1;32m-> 1140\u001b[0m     \u001b[38;5;28;01mreturn\u001b[39;00m \u001b[38;5;28;43mself\u001b[39;49m\u001b[38;5;241;43m.\u001b[39;49m\u001b[43m_getitem_lowerdim\u001b[49m\u001b[43m(\u001b[49m\u001b[43mtup\u001b[49m\u001b[43m)\u001b[49m\n\u001b[0;32m   1142\u001b[0m \u001b[38;5;66;03m# no multi-index, so validate all of the indexers\u001b[39;00m\n\u001b[0;32m   1143\u001b[0m tup \u001b[38;5;241m=\u001b[39m \u001b[38;5;28mself\u001b[39m\u001b[38;5;241m.\u001b[39m_validate_tuple_indexer(tup)\n",
      "File \u001b[1;32m~\\miniconda3\\envs\\sr-env\\lib\\site-packages\\pandas\\core\\indexing.py:867\u001b[0m, in \u001b[0;36m_LocationIndexer._getitem_lowerdim\u001b[1;34m(self, tup)\u001b[0m\n\u001b[0;32m    863\u001b[0m \u001b[38;5;28;01mfor\u001b[39;00m i, key \u001b[38;5;129;01min\u001b[39;00m \u001b[38;5;28menumerate\u001b[39m(tup):\n\u001b[0;32m    864\u001b[0m     \u001b[38;5;28;01mif\u001b[39;00m is_label_like(key):\n\u001b[0;32m    865\u001b[0m         \u001b[38;5;66;03m# We don't need to check for tuples here because those are\u001b[39;00m\n\u001b[0;32m    866\u001b[0m         \u001b[38;5;66;03m#  caught by the _is_nested_tuple_indexer check above.\u001b[39;00m\n\u001b[1;32m--> 867\u001b[0m         section \u001b[38;5;241m=\u001b[39m \u001b[38;5;28;43mself\u001b[39;49m\u001b[38;5;241;43m.\u001b[39;49m\u001b[43m_getitem_axis\u001b[49m\u001b[43m(\u001b[49m\u001b[43mkey\u001b[49m\u001b[43m,\u001b[49m\u001b[43m \u001b[49m\u001b[43maxis\u001b[49m\u001b[38;5;241;43m=\u001b[39;49m\u001b[43mi\u001b[49m\u001b[43m)\u001b[49m\n\u001b[0;32m    869\u001b[0m         \u001b[38;5;66;03m# We should never have a scalar section here, because\u001b[39;00m\n\u001b[0;32m    870\u001b[0m         \u001b[38;5;66;03m#  _getitem_lowerdim is only called after a check for\u001b[39;00m\n\u001b[0;32m    871\u001b[0m         \u001b[38;5;66;03m#  is_scalar_access, which that would be.\u001b[39;00m\n\u001b[0;32m    872\u001b[0m         \u001b[38;5;28;01mif\u001b[39;00m section\u001b[38;5;241m.\u001b[39mndim \u001b[38;5;241m==\u001b[39m \u001b[38;5;28mself\u001b[39m\u001b[38;5;241m.\u001b[39mndim:\n\u001b[0;32m    873\u001b[0m             \u001b[38;5;66;03m# we're in the middle of slicing through a MultiIndex\u001b[39;00m\n\u001b[0;32m    874\u001b[0m             \u001b[38;5;66;03m# revise the key wrt to `section` by inserting an _NS\u001b[39;00m\n",
      "File \u001b[1;32m~\\miniconda3\\envs\\sr-env\\lib\\site-packages\\pandas\\core\\indexing.py:1205\u001b[0m, in \u001b[0;36m_LocIndexer._getitem_axis\u001b[1;34m(self, key, axis)\u001b[0m\n\u001b[0;32m   1203\u001b[0m \u001b[38;5;66;03m# fall thru to straight lookup\u001b[39;00m\n\u001b[0;32m   1204\u001b[0m \u001b[38;5;28mself\u001b[39m\u001b[38;5;241m.\u001b[39m_validate_key(key, axis)\n\u001b[1;32m-> 1205\u001b[0m \u001b[38;5;28;01mreturn\u001b[39;00m \u001b[38;5;28;43mself\u001b[39;49m\u001b[38;5;241;43m.\u001b[39;49m\u001b[43m_get_label\u001b[49m\u001b[43m(\u001b[49m\u001b[43mkey\u001b[49m\u001b[43m,\u001b[49m\u001b[43m \u001b[49m\u001b[43maxis\u001b[49m\u001b[38;5;241;43m=\u001b[39;49m\u001b[43maxis\u001b[49m\u001b[43m)\u001b[49m\n",
      "File \u001b[1;32m~\\miniconda3\\envs\\sr-env\\lib\\site-packages\\pandas\\core\\indexing.py:1153\u001b[0m, in \u001b[0;36m_LocIndexer._get_label\u001b[1;34m(self, label, axis)\u001b[0m\n\u001b[0;32m   1151\u001b[0m \u001b[38;5;28;01mdef\u001b[39;00m \u001b[38;5;21m_get_label\u001b[39m(\u001b[38;5;28mself\u001b[39m, label, axis: \u001b[38;5;28mint\u001b[39m):\n\u001b[0;32m   1152\u001b[0m     \u001b[38;5;66;03m# GH#5667 this will fail if the label is not present in the axis.\u001b[39;00m\n\u001b[1;32m-> 1153\u001b[0m     \u001b[38;5;28;01mreturn\u001b[39;00m \u001b[38;5;28;43mself\u001b[39;49m\u001b[38;5;241;43m.\u001b[39;49m\u001b[43mobj\u001b[49m\u001b[38;5;241;43m.\u001b[39;49m\u001b[43mxs\u001b[49m\u001b[43m(\u001b[49m\u001b[43mlabel\u001b[49m\u001b[43m,\u001b[49m\u001b[43m \u001b[49m\u001b[43maxis\u001b[49m\u001b[38;5;241;43m=\u001b[39;49m\u001b[43maxis\u001b[49m\u001b[43m)\u001b[49m\n",
      "File \u001b[1;32m~\\miniconda3\\envs\\sr-env\\lib\\site-packages\\pandas\\core\\generic.py:3864\u001b[0m, in \u001b[0;36mNDFrame.xs\u001b[1;34m(self, key, axis, level, drop_level)\u001b[0m\n\u001b[0;32m   3862\u001b[0m             new_index \u001b[38;5;241m=\u001b[39m index[loc]\n\u001b[0;32m   3863\u001b[0m \u001b[38;5;28;01melse\u001b[39;00m:\n\u001b[1;32m-> 3864\u001b[0m     loc \u001b[38;5;241m=\u001b[39m \u001b[43mindex\u001b[49m\u001b[38;5;241;43m.\u001b[39;49m\u001b[43mget_loc\u001b[49m\u001b[43m(\u001b[49m\u001b[43mkey\u001b[49m\u001b[43m)\u001b[49m\n\u001b[0;32m   3866\u001b[0m     \u001b[38;5;28;01mif\u001b[39;00m \u001b[38;5;28misinstance\u001b[39m(loc, np\u001b[38;5;241m.\u001b[39mndarray):\n\u001b[0;32m   3867\u001b[0m         \u001b[38;5;28;01mif\u001b[39;00m loc\u001b[38;5;241m.\u001b[39mdtype \u001b[38;5;241m==\u001b[39m np\u001b[38;5;241m.\u001b[39mbool_:\n",
      "File \u001b[1;32m~\\miniconda3\\envs\\sr-env\\lib\\site-packages\\pandas\\core\\indexes\\base.py:3631\u001b[0m, in \u001b[0;36mIndex.get_loc\u001b[1;34m(self, key, method, tolerance)\u001b[0m\n\u001b[0;32m   3629\u001b[0m     \u001b[38;5;28;01mreturn\u001b[39;00m \u001b[38;5;28mself\u001b[39m\u001b[38;5;241m.\u001b[39m_engine\u001b[38;5;241m.\u001b[39mget_loc(casted_key)\n\u001b[0;32m   3630\u001b[0m \u001b[38;5;28;01mexcept\u001b[39;00m \u001b[38;5;167;01mKeyError\u001b[39;00m \u001b[38;5;28;01mas\u001b[39;00m err:\n\u001b[1;32m-> 3631\u001b[0m     \u001b[38;5;28;01mraise\u001b[39;00m \u001b[38;5;167;01mKeyError\u001b[39;00m(key) \u001b[38;5;28;01mfrom\u001b[39;00m \u001b[38;5;21;01merr\u001b[39;00m\n\u001b[0;32m   3632\u001b[0m \u001b[38;5;28;01mexcept\u001b[39;00m \u001b[38;5;167;01mTypeError\u001b[39;00m:\n\u001b[0;32m   3633\u001b[0m     \u001b[38;5;66;03m# If we have a listlike key, _check_indexing_error will raise\u001b[39;00m\n\u001b[0;32m   3634\u001b[0m     \u001b[38;5;66;03m#  InvalidIndexError. Otherwise we fall through and re-raise\u001b[39;00m\n\u001b[0;32m   3635\u001b[0m     \u001b[38;5;66;03m#  the TypeError.\u001b[39;00m\n\u001b[0;32m   3636\u001b[0m     \u001b[38;5;28mself\u001b[39m\u001b[38;5;241m.\u001b[39m_check_indexing_error(key)\n",
      "\u001b[1;31mKeyError\u001b[0m: datetime.date(2022, 5, 31)"
     ]
    },
    {
     "data": {
      "image/png": "[encoded data removed]",
      "text/plain": [
       "<Figure size 2000x800 with 1 Axes>"
      ]
     },
     "metadata": {},
     "output_type": "display_data"
    }
   ],
   "source": [
    "fig, ax = plt.subplots(figsize=(20,8))\n",
    "\n",
    "for group in grouped:\n",
    "    for day in group[1]['day'].unique():\n",
    "        ax.scatter(day, group[1].loc[day,['CO2_Flux']].mean())\n",
    "    \n",
    "    \n",
    "    plt.xticks(rotation=90)\n",
    "    "
   ]
  },
  {
   "cell_type": "code",
   "execution_count": null,
   "id": "5a9ca644-3787-4895-9adc-8bc036af1f3d",
   "metadata": {},
   "outputs": [],
   "source": []
  }
 ],
 "metadata": {
  "kernelspec": {
   "display_name": "Python 3 (ipykernel)",
   "language": "python",
   "name": "python3"
  },
  "language_info": {
   "codemirror_mode": {
    "name": "ipython",
    "version": 3
   },
   "file_extension": ".py",
   "mimetype": "text/x-python",
   "name": "python",
   "nbconvert_exporter": "python",
   "pygments_lexer": "ipython3",
   "version": "3.9.13 (tags/v3.9.13:6de2ca5, May 17 2022, 16:36:42) [MSC v.1929 64 bit (AMD64)]"
  },
  "vscode": {
   "interpreter": {
    "hash": "1e72fda7ef3dd4911a27925058310348183bb4195b98c6164beba0132874cc59"
   }
  }
 },
 "nbformat": 4,
 "nbformat_minor": 5
}
