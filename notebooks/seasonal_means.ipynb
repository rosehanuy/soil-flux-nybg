{
 "cells": [
  {
   "cell_type": "code",
   "execution_count": 1,
   "id": "4ccb8838-3274-4997-aebd-79e56d4f0bc9",
   "metadata": {},
   "outputs": [],
   "source": [
    "import pandas as pd\n",
    "import numpy as np\n",
    "import os\n",
    "import matplotlib.pyplot as plt"
   ]
  },
  {
   "cell_type": "markdown",
   "id": "8d4225b2-eebc-4831-974b-fa09755e7a22",
   "metadata": {},
   "source": [
    "### Create Seasonal Mean df - all temps, lst, ndvi and evi"
   ]
  },
  {
   "cell_type": "code",
   "execution_count": 2,
   "id": "c767f3fd-78a4-4eef-bf5b-896fcfe12d46",
   "metadata": {},
   "outputs": [],
   "source": [
    "data_path = r'C:\\Users\\roseh\\Desktop\\NYBG_R\\data'"
   ]
  },
  {
   "cell_type": "code",
   "execution_count": 3,
   "id": "9e6d1d53-6465-4d0d-b40e-e7dcf81f7385",
   "metadata": {},
   "outputs": [],
   "source": [
    "lst_df = pd.read_csv(os.path.join(data_path,'lst_nybg_may_nov.csv'))"
   ]
  },
  {
   "cell_type": "code",
   "execution_count": 4,
   "id": "fa70e80b-3244-4406-91ed-c4ee0ca79729",
   "metadata": {},
   "outputs": [],
   "source": [
    "nybg_df = pd.read_csv(os.path.join(data_path,'nybg_all_main.csv'))"
   ]
  },
  {
   "cell_type": "code",
   "execution_count": 5,
   "id": "01fed3dc-61d3-47eb-a7b0-a6392010c38d",
   "metadata": {},
   "outputs": [],
   "source": [
    "ndvi_df = pd.read_csv(os.path.join(data_path,'ndvi_sentinel_nybg_may_nov.csv'))"
   ]
  },
  {
   "cell_type": "code",
   "execution_count": 6,
   "id": "3b7d23dc-8e69-4d93-b8de-e2b4b7a95ef6",
   "metadata": {},
   "outputs": [],
   "source": [
    "evi_df = pd.read_csv(os.path.join(data_path,'evi_may_nov_nybg.csv'))"
   ]
  },
  {
   "cell_type": "code",
   "execution_count": 7,
   "id": "a614b466-0aef-456a-8b98-33a782961345",
   "metadata": {},
   "outputs": [],
   "source": [
    "evi_mean = evi_df.mean(numeric_only=True)\n",
    "evi_mean_df = pd.DataFrame(evi_mean)\n",
    "evi_mean_df = evi_mean_df.reset_index()\n",
    "evi_mean_df = evi_mean_df.rename(columns={'index':'labels',0:'evi'})"
   ]
  },
  {
   "cell_type": "code",
   "execution_count": 8,
   "id": "ffd4ad0a-ff6d-43a9-a9cc-4f1ae2879590",
   "metadata": {},
   "outputs": [
    {
     "data": {
      "text/html": [
       "<div>\n",
       "<style scoped>\n",
       "    .dataframe tbody tr th:only-of-type {\n",
       "        vertical-align: middle;\n",
       "    }\n",
       "\n",
       "    .dataframe tbody tr th {\n",
       "        vertical-align: top;\n",
       "    }\n",
       "\n",
       "    .dataframe thead th {\n",
       "        text-align: right;\n",
       "    }\n",
       "</style>\n",
       "<table border=\"1\" class=\"dataframe\">\n",
       "  <thead>\n",
       "    <tr style=\"text-align: right;\">\n",
       "      <th></th>\n",
       "      <th>labels</th>\n",
       "      <th>evi</th>\n",
       "    </tr>\n",
       "  </thead>\n",
       "  <tbody>\n",
       "    <tr>\n",
       "      <th>0</th>\n",
       "      <td>BE_UL1</td>\n",
       "      <td>0.454000</td>\n",
       "    </tr>\n",
       "    <tr>\n",
       "      <th>1</th>\n",
       "      <td>BL_ML1</td>\n",
       "      <td>0.732630</td>\n",
       "    </tr>\n",
       "    <tr>\n",
       "      <th>2</th>\n",
       "      <td>BR_HL3</td>\n",
       "      <td>0.448185</td>\n",
       "    </tr>\n",
       "    <tr>\n",
       "      <th>3</th>\n",
       "      <td>BT_FE2</td>\n",
       "      <td>0.516778</td>\n",
       "    </tr>\n",
       "    <tr>\n",
       "      <th>4</th>\n",
       "      <td>BT_FE3</td>\n",
       "      <td>0.506333</td>\n",
       "    </tr>\n",
       "    <tr>\n",
       "      <th>5</th>\n",
       "      <td>BT_FI1</td>\n",
       "      <td>0.597815</td>\n",
       "    </tr>\n",
       "    <tr>\n",
       "      <th>6</th>\n",
       "      <td>BT_FI3</td>\n",
       "      <td>0.573185</td>\n",
       "    </tr>\n",
       "    <tr>\n",
       "      <th>7</th>\n",
       "      <td>BW_HL1</td>\n",
       "      <td>0.376519</td>\n",
       "    </tr>\n",
       "    <tr>\n",
       "      <th>8</th>\n",
       "      <td>BE_UL3</td>\n",
       "      <td>0.575815</td>\n",
       "    </tr>\n",
       "    <tr>\n",
       "      <th>9</th>\n",
       "      <td>BG_ML3</td>\n",
       "      <td>0.535519</td>\n",
       "    </tr>\n",
       "  </tbody>\n",
       "</table>\n",
       "</div>"
      ],
      "text/plain": [
       "   labels       evi\n",
       "0  BE_UL1  0.454000\n",
       "1  BL_ML1  0.732630\n",
       "2  BR_HL3  0.448185\n",
       "3  BT_FE2  0.516778\n",
       "4  BT_FE3  0.506333\n",
       "5  BT_FI1  0.597815\n",
       "6  BT_FI3  0.573185\n",
       "7  BW_HL1  0.376519\n",
       "8  BE_UL3  0.575815\n",
       "9  BG_ML3  0.535519"
      ]
     },
     "execution_count": 8,
     "metadata": {},
     "output_type": "execute_result"
    }
   ],
   "source": [
    "evi_mean_df"
   ]
  },
  {
   "cell_type": "code",
   "execution_count": 9,
   "id": "2d044fa5-9e15-47fc-961d-c6f5cb462361",
   "metadata": {},
   "outputs": [],
   "source": [
    "nybg_df['date'] = pd.to_datetime(nybg_df['date'])"
   ]
  },
  {
   "cell_type": "code",
   "execution_count": 10,
   "id": "561103ca-f7c1-4d78-999c-b92a11cb26af",
   "metadata": {},
   "outputs": [],
   "source": [
    "#nybg_df = nybg_df.loc[nybg_df['date'] < '2022-11-01']"
   ]
  },
  {
   "cell_type": "code",
   "execution_count": 11,
   "id": "71e9ab99-68db-430f-aa88-659f6d965588",
   "metadata": {},
   "outputs": [],
   "source": [
    "# sensors_df = pd.read_csv(os.path.join(data_path,'all_temp_sensors.csv'), parse_dates = ['Date'],na_values= ' ',dtype={'Temp_F': np.float32})\n",
    "# sensors_df.dropna(inplace=True)\n",
    "# sensors_df['Temp_C'] = (sensors_df['Temp_F'] - 32) * (5/9)\n",
    "# sensors_df.info()"
   ]
  },
  {
   "cell_type": "code",
   "execution_count": 12,
   "id": "b3daf0d7-6752-4356-a2de-92fe3e042290",
   "metadata": {},
   "outputs": [],
   "source": [
    "#sensors_df.to_csv(os.path.join(data_path,'all_temp_sensors.csv'))"
   ]
  },
  {
   "cell_type": "code",
   "execution_count": 13,
   "id": "c437c8cc-9fc8-4e7a-9fcc-3a73ce793539",
   "metadata": {},
   "outputs": [],
   "source": [
    "# grouped_s = sensors_df.groupby('collar')\n",
    "# sensor_temps = []\n",
    "# sensor_names = []\n",
    "# for name, group in grouped_s:\n",
    "#     if name in ['BE_UL1', 'BL_ML1', 'BR_HL3', 'BT_FE2', 'BT_FE3',\n",
    "#        'BT_FI1', 'BT_FI3', 'BW_HL1', 'BE_SV3', 'BG_UL3']:\n",
    "#         sensor_names.append(name)\n",
    "#         sensor_temps.append(group['Temp_C'].mean())\n",
    "        \n",
    "# sensor_means = pd.DataFrame(data={'sensor_names':sensor_names,'sensor_temps':sensor_temps})"
   ]
  },
  {
   "cell_type": "code",
   "execution_count": 14,
   "id": "284f171e-1d46-46a4-9f5e-1164dad66cc4",
   "metadata": {},
   "outputs": [],
   "source": [
    "# sensor_means.replace('BE_SV3','BE_UL3',inplace=True)\n",
    "# sensor_means.replace('BG_UL3','BG_ML3',inplace=True)\n",
    "# sensor_means"
   ]
  },
  {
   "cell_type": "code",
   "execution_count": 15,
   "id": "1df3a621-b3c7-4357-b84b-e8bc663ee894",
   "metadata": {},
   "outputs": [
    {
     "data": {
      "text/plain": [
       "Index(['system:time_start', 'BE_UL1', 'BL_ML1', 'BR_HL3', 'BT_FE2', 'BT_FE3',\n",
       "       'BT_FI1', 'BT_FI3', 'BW_HL1', 'BE_UL3', 'BG_ML3'],\n",
       "      dtype='object')"
      ]
     },
     "execution_count": 15,
     "metadata": {},
     "output_type": "execute_result"
    }
   ],
   "source": [
    "lst_df.columns"
   ]
  },
  {
   "cell_type": "code",
   "execution_count": 16,
   "id": "fe7899de-6a58-46a5-b318-e2aa168927af",
   "metadata": {},
   "outputs": [],
   "source": [
    "lst_mean = lst_df.mean(numeric_only=True)"
   ]
  },
  {
   "cell_type": "code",
   "execution_count": 17,
   "id": "31a88d64-540c-4ade-a87e-d2112a00452f",
   "metadata": {},
   "outputs": [],
   "source": [
    "lst_mean_df = pd.DataFrame(lst_mean)"
   ]
  },
  {
   "cell_type": "code",
   "execution_count": 18,
   "id": "2abb56f6-8601-4e6f-b8b8-0162e1307021",
   "metadata": {},
   "outputs": [],
   "source": [
    "lst_mean_df = lst_mean_df.reset_index()"
   ]
  },
  {
   "cell_type": "code",
   "execution_count": 19,
   "id": "717b6961-4a3e-4924-9dda-b6c8dfb247c5",
   "metadata": {},
   "outputs": [],
   "source": [
    "lst_mean_df = lst_mean_df.rename(columns={'index':'labels',0:'lst'})"
   ]
  },
  {
   "cell_type": "code",
   "execution_count": 20,
   "id": "4df43186-4b51-4933-82f1-0eea2b62d61d",
   "metadata": {},
   "outputs": [
    {
     "data": {
      "text/html": [
       "<div>\n",
       "<style scoped>\n",
       "    .dataframe tbody tr th:only-of-type {\n",
       "        vertical-align: middle;\n",
       "    }\n",
       "\n",
       "    .dataframe tbody tr th {\n",
       "        vertical-align: top;\n",
       "    }\n",
       "\n",
       "    .dataframe thead th {\n",
       "        text-align: right;\n",
       "    }\n",
       "</style>\n",
       "<table border=\"1\" class=\"dataframe\">\n",
       "  <thead>\n",
       "    <tr style=\"text-align: right;\">\n",
       "      <th></th>\n",
       "      <th>labels</th>\n",
       "      <th>lst</th>\n",
       "    </tr>\n",
       "  </thead>\n",
       "  <tbody>\n",
       "    <tr>\n",
       "      <th>0</th>\n",
       "      <td>BE_UL1</td>\n",
       "      <td>28.232917</td>\n",
       "    </tr>\n",
       "    <tr>\n",
       "      <th>1</th>\n",
       "      <td>BL_ML1</td>\n",
       "      <td>27.754333</td>\n",
       "    </tr>\n",
       "    <tr>\n",
       "      <th>2</th>\n",
       "      <td>BR_HL3</td>\n",
       "      <td>30.077667</td>\n",
       "    </tr>\n",
       "    <tr>\n",
       "      <th>3</th>\n",
       "      <td>BT_FE2</td>\n",
       "      <td>26.433417</td>\n",
       "    </tr>\n",
       "    <tr>\n",
       "      <th>4</th>\n",
       "      <td>BT_FE3</td>\n",
       "      <td>25.805083</td>\n",
       "    </tr>\n",
       "    <tr>\n",
       "      <th>5</th>\n",
       "      <td>BT_FI1</td>\n",
       "      <td>26.063333</td>\n",
       "    </tr>\n",
       "    <tr>\n",
       "      <th>6</th>\n",
       "      <td>BT_FI3</td>\n",
       "      <td>25.707917</td>\n",
       "    </tr>\n",
       "    <tr>\n",
       "      <th>7</th>\n",
       "      <td>BW_HL1</td>\n",
       "      <td>30.597083</td>\n",
       "    </tr>\n",
       "    <tr>\n",
       "      <th>8</th>\n",
       "      <td>BE_UL3</td>\n",
       "      <td>28.683083</td>\n",
       "    </tr>\n",
       "    <tr>\n",
       "      <th>9</th>\n",
       "      <td>BG_ML3</td>\n",
       "      <td>30.040833</td>\n",
       "    </tr>\n",
       "  </tbody>\n",
       "</table>\n",
       "</div>"
      ],
      "text/plain": [
       "   labels        lst\n",
       "0  BE_UL1  28.232917\n",
       "1  BL_ML1  27.754333\n",
       "2  BR_HL3  30.077667\n",
       "3  BT_FE2  26.433417\n",
       "4  BT_FE3  25.805083\n",
       "5  BT_FI1  26.063333\n",
       "6  BT_FI3  25.707917\n",
       "7  BW_HL1  30.597083\n",
       "8  BE_UL3  28.683083\n",
       "9  BG_ML3  30.040833"
      ]
     },
     "execution_count": 20,
     "metadata": {},
     "output_type": "execute_result"
    }
   ],
   "source": [
    "lst_mean_df"
   ]
  },
  {
   "cell_type": "code",
   "execution_count": 21,
   "id": "e438f489-a89d-4c4b-99af-a32d91d59258",
   "metadata": {},
   "outputs": [],
   "source": [
    "ndvi_mean = ndvi_df.mean(numeric_only=True)\n",
    "ndvi_mean_df = pd.DataFrame(ndvi_mean)\n",
    "ndvi_mean_df = ndvi_mean_df.reset_index()\n",
    "ndvi_mean_df = ndvi_mean_df.rename(columns={'index':'labels',0:'ndvi'})"
   ]
  },
  {
   "cell_type": "code",
   "execution_count": 22,
   "id": "6f507f31-037e-48e9-a0ae-97d8fa54da55",
   "metadata": {},
   "outputs": [
    {
     "data": {
      "text/html": [
       "<div>\n",
       "<style scoped>\n",
       "    .dataframe tbody tr th:only-of-type {\n",
       "        vertical-align: middle;\n",
       "    }\n",
       "\n",
       "    .dataframe tbody tr th {\n",
       "        vertical-align: top;\n",
       "    }\n",
       "\n",
       "    .dataframe thead th {\n",
       "        text-align: right;\n",
       "    }\n",
       "</style>\n",
       "<table border=\"1\" class=\"dataframe\">\n",
       "  <thead>\n",
       "    <tr style=\"text-align: right;\">\n",
       "      <th></th>\n",
       "      <th>labels</th>\n",
       "      <th>ndvi</th>\n",
       "    </tr>\n",
       "  </thead>\n",
       "  <tbody>\n",
       "    <tr>\n",
       "      <th>0</th>\n",
       "      <td>BE_UL1</td>\n",
       "      <td>0.473520</td>\n",
       "    </tr>\n",
       "    <tr>\n",
       "      <th>1</th>\n",
       "      <td>BL_ML1</td>\n",
       "      <td>0.622080</td>\n",
       "    </tr>\n",
       "    <tr>\n",
       "      <th>2</th>\n",
       "      <td>BR_HL3</td>\n",
       "      <td>0.417680</td>\n",
       "    </tr>\n",
       "    <tr>\n",
       "      <th>3</th>\n",
       "      <td>BT_FE2</td>\n",
       "      <td>0.511600</td>\n",
       "    </tr>\n",
       "    <tr>\n",
       "      <th>4</th>\n",
       "      <td>BT_FE3</td>\n",
       "      <td>0.524958</td>\n",
       "    </tr>\n",
       "    <tr>\n",
       "      <th>5</th>\n",
       "      <td>BT_FI1</td>\n",
       "      <td>0.564280</td>\n",
       "    </tr>\n",
       "    <tr>\n",
       "      <th>6</th>\n",
       "      <td>BT_FI3</td>\n",
       "      <td>0.564875</td>\n",
       "    </tr>\n",
       "    <tr>\n",
       "      <th>7</th>\n",
       "      <td>BW_HL1</td>\n",
       "      <td>0.342040</td>\n",
       "    </tr>\n",
       "    <tr>\n",
       "      <th>8</th>\n",
       "      <td>BE_UL3</td>\n",
       "      <td>0.518240</td>\n",
       "    </tr>\n",
       "    <tr>\n",
       "      <th>9</th>\n",
       "      <td>BG_ML3</td>\n",
       "      <td>0.507160</td>\n",
       "    </tr>\n",
       "  </tbody>\n",
       "</table>\n",
       "</div>"
      ],
      "text/plain": [
       "   labels      ndvi\n",
       "0  BE_UL1  0.473520\n",
       "1  BL_ML1  0.622080\n",
       "2  BR_HL3  0.417680\n",
       "3  BT_FE2  0.511600\n",
       "4  BT_FE3  0.524958\n",
       "5  BT_FI1  0.564280\n",
       "6  BT_FI3  0.564875\n",
       "7  BW_HL1  0.342040\n",
       "8  BE_UL3  0.518240\n",
       "9  BG_ML3  0.507160"
      ]
     },
     "execution_count": 22,
     "metadata": {},
     "output_type": "execute_result"
    }
   ],
   "source": [
    "ndvi_mean_df"
   ]
  },
  {
   "cell_type": "code",
   "execution_count": 23,
   "id": "699919c1-d87f-43be-80d9-ec3c042b6c85",
   "metadata": {},
   "outputs": [],
   "source": [
    "grouped = nybg_df.groupby('Label')\n",
    "temps = []\n",
    "tempnames = []\n",
    "for name, group in grouped:\n",
    "    if name in ['BE_UL1', 'BL_ML1', 'BR_HL3', 'BT_FE2', 'BT_FE3',\n",
    "       'BT_FI1', 'BT_FI3', 'BW_HL1', 'BE_UL3', 'BG_ML3']:\n",
    "        tempnames.append(name)\n",
    "        temps.append(group['Soil temperature'].mean())\n",
    "        \n",
    "temp_means = pd.DataFrame(data={'tempnames': tempnames,'soil_temps':temps})     "
   ]
  },
  {
   "cell_type": "code",
   "execution_count": 24,
   "id": "0b383300-42d1-4b7c-a3af-bad808882e99",
   "metadata": {},
   "outputs": [
    {
     "data": {
      "text/html": [
       "<div>\n",
       "<style scoped>\n",
       "    .dataframe tbody tr th:only-of-type {\n",
       "        vertical-align: middle;\n",
       "    }\n",
       "\n",
       "    .dataframe tbody tr th {\n",
       "        vertical-align: top;\n",
       "    }\n",
       "\n",
       "    .dataframe thead th {\n",
       "        text-align: right;\n",
       "    }\n",
       "</style>\n",
       "<table border=\"1\" class=\"dataframe\">\n",
       "  <thead>\n",
       "    <tr style=\"text-align: right;\">\n",
       "      <th></th>\n",
       "      <th>tempnames</th>\n",
       "      <th>soil_temps</th>\n",
       "    </tr>\n",
       "  </thead>\n",
       "  <tbody>\n",
       "    <tr>\n",
       "      <th>0</th>\n",
       "      <td>BE_UL1</td>\n",
       "      <td>22.344444</td>\n",
       "    </tr>\n",
       "    <tr>\n",
       "      <th>1</th>\n",
       "      <td>BE_UL3</td>\n",
       "      <td>21.366667</td>\n",
       "    </tr>\n",
       "    <tr>\n",
       "      <th>2</th>\n",
       "      <td>BG_ML3</td>\n",
       "      <td>23.200000</td>\n",
       "    </tr>\n",
       "    <tr>\n",
       "      <th>3</th>\n",
       "      <td>BL_ML1</td>\n",
       "      <td>21.428571</td>\n",
       "    </tr>\n",
       "    <tr>\n",
       "      <th>4</th>\n",
       "      <td>BR_HL3</td>\n",
       "      <td>22.983333</td>\n",
       "    </tr>\n",
       "    <tr>\n",
       "      <th>5</th>\n",
       "      <td>BT_FE2</td>\n",
       "      <td>19.590000</td>\n",
       "    </tr>\n",
       "    <tr>\n",
       "      <th>6</th>\n",
       "      <td>BT_FE3</td>\n",
       "      <td>19.977778</td>\n",
       "    </tr>\n",
       "    <tr>\n",
       "      <th>7</th>\n",
       "      <td>BT_FI1</td>\n",
       "      <td>19.100000</td>\n",
       "    </tr>\n",
       "    <tr>\n",
       "      <th>8</th>\n",
       "      <td>BT_FI3</td>\n",
       "      <td>19.811111</td>\n",
       "    </tr>\n",
       "    <tr>\n",
       "      <th>9</th>\n",
       "      <td>BW_HL1</td>\n",
       "      <td>24.100000</td>\n",
       "    </tr>\n",
       "  </tbody>\n",
       "</table>\n",
       "</div>"
      ],
      "text/plain": [
       "  tempnames  soil_temps\n",
       "0    BE_UL1   22.344444\n",
       "1    BE_UL3   21.366667\n",
       "2    BG_ML3   23.200000\n",
       "3    BL_ML1   21.428571\n",
       "4    BR_HL3   22.983333\n",
       "5    BT_FE2   19.590000\n",
       "6    BT_FE3   19.977778\n",
       "7    BT_FI1   19.100000\n",
       "8    BT_FI3   19.811111\n",
       "9    BW_HL1   24.100000"
      ]
     },
     "execution_count": 24,
     "metadata": {},
     "output_type": "execute_result"
    }
   ],
   "source": [
    "temp_means"
   ]
  },
  {
   "cell_type": "code",
   "execution_count": 25,
   "id": "e7463cd6-b248-4124-8f9b-c3a5d2d6a882",
   "metadata": {},
   "outputs": [],
   "source": [
    "chambertemp=[]\n",
    "chambernames=[]\n",
    "for name, group in grouped:\n",
    "    if name in ['BE_UL1', 'BL_ML1', 'BR_HL3', 'BT_FE2', 'BT_FE3',\n",
    "       'BT_FI1', 'BT_FI3', 'BW_HL1', 'BE_UL3', 'BG_ML3']:\n",
    "        chambernames.append(name)\n",
    "        chambertemp.append(group['Chamber_Temp'].mean())"
   ]
  },
  {
   "cell_type": "code",
   "execution_count": 26,
   "id": "3000370c-fcc9-4a5d-8557-77a5eb0685f1",
   "metadata": {},
   "outputs": [],
   "source": [
    "chamber_means = pd.DataFrame(data={'chambernames': chambernames,'chambertemp':chambertemp})"
   ]
  },
  {
   "cell_type": "code",
   "execution_count": 27,
   "id": "02f0f68b-0ce3-4d77-b320-3535c26f45c7",
   "metadata": {},
   "outputs": [
    {
     "data": {
      "text/html": [
       "<div>\n",
       "<style scoped>\n",
       "    .dataframe tbody tr th:only-of-type {\n",
       "        vertical-align: middle;\n",
       "    }\n",
       "\n",
       "    .dataframe tbody tr th {\n",
       "        vertical-align: top;\n",
       "    }\n",
       "\n",
       "    .dataframe thead th {\n",
       "        text-align: right;\n",
       "    }\n",
       "</style>\n",
       "<table border=\"1\" class=\"dataframe\">\n",
       "  <thead>\n",
       "    <tr style=\"text-align: right;\">\n",
       "      <th></th>\n",
       "      <th>chambernames</th>\n",
       "      <th>chambertemp</th>\n",
       "    </tr>\n",
       "  </thead>\n",
       "  <tbody>\n",
       "    <tr>\n",
       "      <th>0</th>\n",
       "      <td>BE_UL1</td>\n",
       "      <td>27.254509</td>\n",
       "    </tr>\n",
       "    <tr>\n",
       "      <th>1</th>\n",
       "      <td>BE_UL3</td>\n",
       "      <td>27.048180</td>\n",
       "    </tr>\n",
       "    <tr>\n",
       "      <th>2</th>\n",
       "      <td>BG_ML3</td>\n",
       "      <td>28.404220</td>\n",
       "    </tr>\n",
       "    <tr>\n",
       "      <th>3</th>\n",
       "      <td>BL_ML1</td>\n",
       "      <td>26.124994</td>\n",
       "    </tr>\n",
       "    <tr>\n",
       "      <th>4</th>\n",
       "      <td>BR_HL3</td>\n",
       "      <td>27.329333</td>\n",
       "    </tr>\n",
       "    <tr>\n",
       "      <th>5</th>\n",
       "      <td>BT_FE2</td>\n",
       "      <td>25.161228</td>\n",
       "    </tr>\n",
       "    <tr>\n",
       "      <th>6</th>\n",
       "      <td>BT_FE3</td>\n",
       "      <td>26.355140</td>\n",
       "    </tr>\n",
       "    <tr>\n",
       "      <th>7</th>\n",
       "      <td>BT_FI1</td>\n",
       "      <td>24.865863</td>\n",
       "    </tr>\n",
       "    <tr>\n",
       "      <th>8</th>\n",
       "      <td>BT_FI3</td>\n",
       "      <td>25.087134</td>\n",
       "    </tr>\n",
       "    <tr>\n",
       "      <th>9</th>\n",
       "      <td>BW_HL1</td>\n",
       "      <td>27.896989</td>\n",
       "    </tr>\n",
       "  </tbody>\n",
       "</table>\n",
       "</div>"
      ],
      "text/plain": [
       "  chambernames  chambertemp\n",
       "0       BE_UL1    27.254509\n",
       "1       BE_UL3    27.048180\n",
       "2       BG_ML3    28.404220\n",
       "3       BL_ML1    26.124994\n",
       "4       BR_HL3    27.329333\n",
       "5       BT_FE2    25.161228\n",
       "6       BT_FE3    26.355140\n",
       "7       BT_FI1    24.865863\n",
       "8       BT_FI3    25.087134\n",
       "9       BW_HL1    27.896989"
      ]
     },
     "execution_count": 27,
     "metadata": {},
     "output_type": "execute_result"
    }
   ],
   "source": [
    "chamber_means"
   ]
  },
  {
   "cell_type": "code",
   "execution_count": 28,
   "id": "fcd0a125-0542-4554-9ec9-642a3e5bd0a6",
   "metadata": {},
   "outputs": [],
   "source": [
    "res=[]\n",
    "resnames=[]\n",
    "for name, group in grouped:\n",
    "    if name in ['BE_UL1', 'BL_ML1', 'BR_HL3', 'BT_FE2', 'BT_FE3',\n",
    "       'BT_FI1', 'BT_FI3', 'BW_HL1', 'BE_UL3', 'BG_ML3']:\n",
    "        resnames.append(name)\n",
    "        res.append(group['Res'].mean())"
   ]
  },
  {
   "cell_type": "code",
   "execution_count": 29,
   "id": "129bdf3f-f6e8-48eb-a5ce-e85ab64b6997",
   "metadata": {},
   "outputs": [],
   "source": [
    "res_means = pd.DataFrame(data={'resnames': resnames,'res':res})"
   ]
  },
  {
   "cell_type": "code",
   "execution_count": 30,
   "id": "bea519b4-b30c-414b-9555-d87b73324959",
   "metadata": {},
   "outputs": [],
   "source": [
    "df = chamber_means.merge(temp_means,left_on='chambernames',right_on='tempnames')"
   ]
  },
  {
   "cell_type": "code",
   "execution_count": 31,
   "id": "1a4eb9d5-2898-4564-886a-30a2082be014",
   "metadata": {},
   "outputs": [
    {
     "data": {
      "text/html": [
       "<div>\n",
       "<style scoped>\n",
       "    .dataframe tbody tr th:only-of-type {\n",
       "        vertical-align: middle;\n",
       "    }\n",
       "\n",
       "    .dataframe tbody tr th {\n",
       "        vertical-align: top;\n",
       "    }\n",
       "\n",
       "    .dataframe thead th {\n",
       "        text-align: right;\n",
       "    }\n",
       "</style>\n",
       "<table border=\"1\" class=\"dataframe\">\n",
       "  <thead>\n",
       "    <tr style=\"text-align: right;\">\n",
       "      <th></th>\n",
       "      <th>chambernames</th>\n",
       "      <th>chambertemp</th>\n",
       "      <th>tempnames</th>\n",
       "      <th>soil_temps</th>\n",
       "    </tr>\n",
       "  </thead>\n",
       "  <tbody>\n",
       "    <tr>\n",
       "      <th>0</th>\n",
       "      <td>BE_UL1</td>\n",
       "      <td>27.254509</td>\n",
       "      <td>BE_UL1</td>\n",
       "      <td>22.344444</td>\n",
       "    </tr>\n",
       "    <tr>\n",
       "      <th>1</th>\n",
       "      <td>BE_UL3</td>\n",
       "      <td>27.048180</td>\n",
       "      <td>BE_UL3</td>\n",
       "      <td>21.366667</td>\n",
       "    </tr>\n",
       "    <tr>\n",
       "      <th>2</th>\n",
       "      <td>BG_ML3</td>\n",
       "      <td>28.404220</td>\n",
       "      <td>BG_ML3</td>\n",
       "      <td>23.200000</td>\n",
       "    </tr>\n",
       "    <tr>\n",
       "      <th>3</th>\n",
       "      <td>BL_ML1</td>\n",
       "      <td>26.124994</td>\n",
       "      <td>BL_ML1</td>\n",
       "      <td>21.428571</td>\n",
       "    </tr>\n",
       "    <tr>\n",
       "      <th>4</th>\n",
       "      <td>BR_HL3</td>\n",
       "      <td>27.329333</td>\n",
       "      <td>BR_HL3</td>\n",
       "      <td>22.983333</td>\n",
       "    </tr>\n",
       "    <tr>\n",
       "      <th>5</th>\n",
       "      <td>BT_FE2</td>\n",
       "      <td>25.161228</td>\n",
       "      <td>BT_FE2</td>\n",
       "      <td>19.590000</td>\n",
       "    </tr>\n",
       "    <tr>\n",
       "      <th>6</th>\n",
       "      <td>BT_FE3</td>\n",
       "      <td>26.355140</td>\n",
       "      <td>BT_FE3</td>\n",
       "      <td>19.977778</td>\n",
       "    </tr>\n",
       "    <tr>\n",
       "      <th>7</th>\n",
       "      <td>BT_FI1</td>\n",
       "      <td>24.865863</td>\n",
       "      <td>BT_FI1</td>\n",
       "      <td>19.100000</td>\n",
       "    </tr>\n",
       "    <tr>\n",
       "      <th>8</th>\n",
       "      <td>BT_FI3</td>\n",
       "      <td>25.087134</td>\n",
       "      <td>BT_FI3</td>\n",
       "      <td>19.811111</td>\n",
       "    </tr>\n",
       "    <tr>\n",
       "      <th>9</th>\n",
       "      <td>BW_HL1</td>\n",
       "      <td>27.896989</td>\n",
       "      <td>BW_HL1</td>\n",
       "      <td>24.100000</td>\n",
       "    </tr>\n",
       "  </tbody>\n",
       "</table>\n",
       "</div>"
      ],
      "text/plain": [
       "  chambernames  chambertemp tempnames  soil_temps\n",
       "0       BE_UL1    27.254509    BE_UL1   22.344444\n",
       "1       BE_UL3    27.048180    BE_UL3   21.366667\n",
       "2       BG_ML3    28.404220    BG_ML3   23.200000\n",
       "3       BL_ML1    26.124994    BL_ML1   21.428571\n",
       "4       BR_HL3    27.329333    BR_HL3   22.983333\n",
       "5       BT_FE2    25.161228    BT_FE2   19.590000\n",
       "6       BT_FE3    26.355140    BT_FE3   19.977778\n",
       "7       BT_FI1    24.865863    BT_FI1   19.100000\n",
       "8       BT_FI3    25.087134    BT_FI3   19.811111\n",
       "9       BW_HL1    27.896989    BW_HL1   24.100000"
      ]
     },
     "execution_count": 31,
     "metadata": {},
     "output_type": "execute_result"
    }
   ],
   "source": [
    "df"
   ]
  },
  {
   "cell_type": "code",
   "execution_count": 32,
   "id": "039d0562-01d7-4bdd-b252-cd702a745785",
   "metadata": {},
   "outputs": [],
   "source": [
    "merge1 = df.merge(lst_mean_df,left_on='tempnames',right_on='labels')"
   ]
  },
  {
   "cell_type": "code",
   "execution_count": 33,
   "id": "ca2f785a-b4aa-4fa3-94d0-a4e847eaaddb",
   "metadata": {},
   "outputs": [
    {
     "data": {
      "text/html": [
       "<div>\n",
       "<style scoped>\n",
       "    .dataframe tbody tr th:only-of-type {\n",
       "        vertical-align: middle;\n",
       "    }\n",
       "\n",
       "    .dataframe tbody tr th {\n",
       "        vertical-align: top;\n",
       "    }\n",
       "\n",
       "    .dataframe thead th {\n",
       "        text-align: right;\n",
       "    }\n",
       "</style>\n",
       "<table border=\"1\" class=\"dataframe\">\n",
       "  <thead>\n",
       "    <tr style=\"text-align: right;\">\n",
       "      <th></th>\n",
       "      <th>chambernames</th>\n",
       "      <th>chambertemp</th>\n",
       "      <th>tempnames</th>\n",
       "      <th>soil_temps</th>\n",
       "      <th>labels</th>\n",
       "      <th>lst</th>\n",
       "    </tr>\n",
       "  </thead>\n",
       "  <tbody>\n",
       "    <tr>\n",
       "      <th>0</th>\n",
       "      <td>BE_UL1</td>\n",
       "      <td>27.254509</td>\n",
       "      <td>BE_UL1</td>\n",
       "      <td>22.344444</td>\n",
       "      <td>BE_UL1</td>\n",
       "      <td>28.232917</td>\n",
       "    </tr>\n",
       "    <tr>\n",
       "      <th>1</th>\n",
       "      <td>BE_UL3</td>\n",
       "      <td>27.048180</td>\n",
       "      <td>BE_UL3</td>\n",
       "      <td>21.366667</td>\n",
       "      <td>BE_UL3</td>\n",
       "      <td>28.683083</td>\n",
       "    </tr>\n",
       "    <tr>\n",
       "      <th>2</th>\n",
       "      <td>BG_ML3</td>\n",
       "      <td>28.404220</td>\n",
       "      <td>BG_ML3</td>\n",
       "      <td>23.200000</td>\n",
       "      <td>BG_ML3</td>\n",
       "      <td>30.040833</td>\n",
       "    </tr>\n",
       "    <tr>\n",
       "      <th>3</th>\n",
       "      <td>BL_ML1</td>\n",
       "      <td>26.124994</td>\n",
       "      <td>BL_ML1</td>\n",
       "      <td>21.428571</td>\n",
       "      <td>BL_ML1</td>\n",
       "      <td>27.754333</td>\n",
       "    </tr>\n",
       "    <tr>\n",
       "      <th>4</th>\n",
       "      <td>BR_HL3</td>\n",
       "      <td>27.329333</td>\n",
       "      <td>BR_HL3</td>\n",
       "      <td>22.983333</td>\n",
       "      <td>BR_HL3</td>\n",
       "      <td>30.077667</td>\n",
       "    </tr>\n",
       "    <tr>\n",
       "      <th>5</th>\n",
       "      <td>BT_FE2</td>\n",
       "      <td>25.161228</td>\n",
       "      <td>BT_FE2</td>\n",
       "      <td>19.590000</td>\n",
       "      <td>BT_FE2</td>\n",
       "      <td>26.433417</td>\n",
       "    </tr>\n",
       "    <tr>\n",
       "      <th>6</th>\n",
       "      <td>BT_FE3</td>\n",
       "      <td>26.355140</td>\n",
       "      <td>BT_FE3</td>\n",
       "      <td>19.977778</td>\n",
       "      <td>BT_FE3</td>\n",
       "      <td>25.805083</td>\n",
       "    </tr>\n",
       "    <tr>\n",
       "      <th>7</th>\n",
       "      <td>BT_FI1</td>\n",
       "      <td>24.865863</td>\n",
       "      <td>BT_FI1</td>\n",
       "      <td>19.100000</td>\n",
       "      <td>BT_FI1</td>\n",
       "      <td>26.063333</td>\n",
       "    </tr>\n",
       "    <tr>\n",
       "      <th>8</th>\n",
       "      <td>BT_FI3</td>\n",
       "      <td>25.087134</td>\n",
       "      <td>BT_FI3</td>\n",
       "      <td>19.811111</td>\n",
       "      <td>BT_FI3</td>\n",
       "      <td>25.707917</td>\n",
       "    </tr>\n",
       "    <tr>\n",
       "      <th>9</th>\n",
       "      <td>BW_HL1</td>\n",
       "      <td>27.896989</td>\n",
       "      <td>BW_HL1</td>\n",
       "      <td>24.100000</td>\n",
       "      <td>BW_HL1</td>\n",
       "      <td>30.597083</td>\n",
       "    </tr>\n",
       "  </tbody>\n",
       "</table>\n",
       "</div>"
      ],
      "text/plain": [
       "  chambernames  chambertemp tempnames  soil_temps  labels        lst\n",
       "0       BE_UL1    27.254509    BE_UL1   22.344444  BE_UL1  28.232917\n",
       "1       BE_UL3    27.048180    BE_UL3   21.366667  BE_UL3  28.683083\n",
       "2       BG_ML3    28.404220    BG_ML3   23.200000  BG_ML3  30.040833\n",
       "3       BL_ML1    26.124994    BL_ML1   21.428571  BL_ML1  27.754333\n",
       "4       BR_HL3    27.329333    BR_HL3   22.983333  BR_HL3  30.077667\n",
       "5       BT_FE2    25.161228    BT_FE2   19.590000  BT_FE2  26.433417\n",
       "6       BT_FE3    26.355140    BT_FE3   19.977778  BT_FE3  25.805083\n",
       "7       BT_FI1    24.865863    BT_FI1   19.100000  BT_FI1  26.063333\n",
       "8       BT_FI3    25.087134    BT_FI3   19.811111  BT_FI3  25.707917\n",
       "9       BW_HL1    27.896989    BW_HL1   24.100000  BW_HL1  30.597083"
      ]
     },
     "execution_count": 33,
     "metadata": {},
     "output_type": "execute_result"
    }
   ],
   "source": [
    "merge1"
   ]
  },
  {
   "cell_type": "code",
   "execution_count": 34,
   "id": "1b45a24b-0df3-435f-9e64-a1bd2f301bc9",
   "metadata": {},
   "outputs": [],
   "source": [
    "merge2 = merge1.merge(res_means,left_on='tempnames',right_on='resnames')"
   ]
  },
  {
   "cell_type": "code",
   "execution_count": 35,
   "id": "c3a3daa2-cd17-4f71-95c3-d6e808356c42",
   "metadata": {},
   "outputs": [],
   "source": [
    "merge3 = merge2.merge(ndvi_mean_df,left_on='tempnames',right_on='labels')"
   ]
  },
  {
   "cell_type": "code",
   "execution_count": 36,
   "id": "e997d245-2ac4-484e-b63f-a6514a45d679",
   "metadata": {},
   "outputs": [],
   "source": [
    "merge4 = merge3.merge(evi_mean_df,left_on='tempnames',right_on='labels')"
   ]
  },
  {
   "cell_type": "code",
   "execution_count": 37,
   "id": "faf4fe1a-8b88-47cd-abb0-cffa7a760367",
   "metadata": {},
   "outputs": [],
   "source": [
    "merge4.to_csv(os.path.join(data_path,'seasonal_means_may_nov.csv'))"
   ]
  },
  {
   "cell_type": "code",
   "execution_count": null,
   "id": "469f1b96-dad2-4f58-9178-33b048d25e9c",
   "metadata": {},
   "outputs": [],
   "source": []
  }
 ],
 "metadata": {
  "kernelspec": {
   "display_name": "Python 3 (ipykernel)",
   "language": "python",
   "name": "python3"
  },
  "language_info": {
   "codemirror_mode": {
    "name": "ipython",
    "version": 3
   },
   "file_extension": ".py",
   "mimetype": "text/x-python",
   "name": "python",
   "nbconvert_exporter": "python",
   "pygments_lexer": "ipython3",
   "version": "3.9.13"
  }
 },
 "nbformat": 4,
 "nbformat_minor": 5
}
