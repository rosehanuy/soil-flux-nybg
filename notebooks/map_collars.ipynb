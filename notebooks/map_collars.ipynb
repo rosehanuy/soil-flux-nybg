{
 "cells": [
  {
   "cell_type": "code",
   "execution_count": 1,
   "id": "8e28aa42-9cdf-434d-8ad8-c888f14c9192",
   "metadata": {},
   "outputs": [],
   "source": [
    "import geopandas as gpd\n",
    "import pandas as pd\n",
    "from shapely.geometry import Point"
   ]
  },
  {
   "cell_type": "code",
   "execution_count": 14,
   "id": "e138967d-ebab-4e58-8a8d-a3824c1745e4",
   "metadata": {},
   "outputs": [],
   "source": [
    "y_coords = [-73.8784399, -73.8796194,-73.8833816,\n",
    "            -73.8759639,-73.8778364, -73.8762106, -73.8773107,-73.8780359]\n",
    "x_coords = [40.8568287,40.8654710, 40.8653050,40.8663435, 40.8613773, 40.8661447,\n",
    "            40.8616124,40.8676297]\n",
    "collars = ['be_ul2','bl_ml1','br_hl3', 'bt_fe2','bt_fe3', 'bt_fi1','bt_fi2',\n",
    "           'bw_hl1']"
   ]
  },
  {
   "cell_type": "code",
   "execution_count": 15,
   "id": "8df7ee40-97c1-480f-86cb-c4fc5c00d09e",
   "metadata": {},
   "outputs": [],
   "source": [
    "df = pd.DataFrame({'collars': collars,\n",
    "                        'y_coords': y_coords,\n",
    "                        'x_coords': x_coords})"
   ]
  },
  {
   "cell_type": "code",
   "execution_count": null,
   "id": "b5b5d31a-92ac-4be4-9328-29c7b5ca63d5",
   "metadata": {},
   "outputs": [],
   "source": [
    "df['geometry'] = df.apply(lambda row: Point(row['y_coords'],row['x_coords']),axis=1)"
   ]
  },
  {
   "cell_type": "code",
   "execution_count": 20,
   "id": "051b79a2-b797-4cb3-9df1-46ca2e8bcaac",
   "metadata": {},
   "outputs": [],
   "source": [
    "gdf = gpd.GeoDataFrame(df,crs=('EPSG:4326'))"
   ]
  },
  {
   "cell_type": "code",
   "execution_count": 21,
   "id": "b07b46f1-0c21-46a6-88f0-3e1ff8100f59",
   "metadata": {},
   "outputs": [
    {
     "data": {
      "text/html": [
       "<div>\n",
       "<style scoped>\n",
       "    .dataframe tbody tr th:only-of-type {\n",
       "        vertical-align: middle;\n",
       "    }\n",
       "\n",
       "    .dataframe tbody tr th {\n",
       "        vertical-align: top;\n",
       "    }\n",
       "\n",
       "    .dataframe thead th {\n",
       "        text-align: right;\n",
       "    }\n",
       "</style>\n",
       "<table border=\"1\" class=\"dataframe\">\n",
       "  <thead>\n",
       "    <tr style=\"text-align: right;\">\n",
       "      <th></th>\n",
       "      <th>collars</th>\n",
       "      <th>y_coords</th>\n",
       "      <th>x_coords</th>\n",
       "      <th>geometry</th>\n",
       "    </tr>\n",
       "  </thead>\n",
       "  <tbody>\n",
       "    <tr>\n",
       "      <th>0</th>\n",
       "      <td>be_ul2</td>\n",
       "      <td>-73.878440</td>\n",
       "      <td>40.856829</td>\n",
       "      <td>POINT (-73.87844 40.85683)</td>\n",
       "    </tr>\n",
       "    <tr>\n",
       "      <th>1</th>\n",
       "      <td>bl_ml1</td>\n",
       "      <td>-73.879619</td>\n",
       "      <td>40.865471</td>\n",
       "      <td>POINT (-73.87962 40.86547)</td>\n",
       "    </tr>\n",
       "    <tr>\n",
       "      <th>2</th>\n",
       "      <td>br_hl3</td>\n",
       "      <td>-73.883382</td>\n",
       "      <td>40.865305</td>\n",
       "      <td>POINT (-73.88338 40.86530)</td>\n",
       "    </tr>\n",
       "    <tr>\n",
       "      <th>3</th>\n",
       "      <td>bt_fe2</td>\n",
       "      <td>-73.875964</td>\n",
       "      <td>40.866343</td>\n",
       "      <td>POINT (-73.87596 40.86634)</td>\n",
       "    </tr>\n",
       "    <tr>\n",
       "      <th>4</th>\n",
       "      <td>bt_fe3</td>\n",
       "      <td>-73.877836</td>\n",
       "      <td>40.861377</td>\n",
       "      <td>POINT (-73.87784 40.86138)</td>\n",
       "    </tr>\n",
       "    <tr>\n",
       "      <th>5</th>\n",
       "      <td>bt_fi1</td>\n",
       "      <td>-73.876211</td>\n",
       "      <td>40.866145</td>\n",
       "      <td>POINT (-73.87621 40.86614)</td>\n",
       "    </tr>\n",
       "    <tr>\n",
       "      <th>6</th>\n",
       "      <td>bt_fi2</td>\n",
       "      <td>-73.877311</td>\n",
       "      <td>40.861612</td>\n",
       "      <td>POINT (-73.87731 40.86161)</td>\n",
       "    </tr>\n",
       "    <tr>\n",
       "      <th>7</th>\n",
       "      <td>bw_hl1</td>\n",
       "      <td>-73.878036</td>\n",
       "      <td>40.867630</td>\n",
       "      <td>POINT (-73.87804 40.86763)</td>\n",
       "    </tr>\n",
       "  </tbody>\n",
       "</table>\n",
       "</div>"
      ],
      "text/plain": [
       "  collars   y_coords   x_coords                    geometry\n",
       "0  be_ul2 -73.878440  40.856829  POINT (-73.87844 40.85683)\n",
       "1  bl_ml1 -73.879619  40.865471  POINT (-73.87962 40.86547)\n",
       "2  br_hl3 -73.883382  40.865305  POINT (-73.88338 40.86530)\n",
       "3  bt_fe2 -73.875964  40.866343  POINT (-73.87596 40.86634)\n",
       "4  bt_fe3 -73.877836  40.861377  POINT (-73.87784 40.86138)\n",
       "5  bt_fi1 -73.876211  40.866145  POINT (-73.87621 40.86614)\n",
       "6  bt_fi2 -73.877311  40.861612  POINT (-73.87731 40.86161)\n",
       "7  bw_hl1 -73.878036  40.867630  POINT (-73.87804 40.86763)"
      ]
     },
     "execution_count": 21,
     "metadata": {},
     "output_type": "execute_result"
    }
   ],
   "source": [
    "gdf"
   ]
  },
  {
   "cell_type": "code",
   "execution_count": 22,
   "id": "f5ec8cc4-417c-443c-a0fe-3c20dee66e9a",
   "metadata": {},
   "outputs": [
    {
     "data": {
      "text/plain": [
       "<AxesSubplot: >"
      ]
     },
     "execution_count": 22,
     "metadata": {},
     "output_type": "execute_result"
    },
    {
     "data": {
      "image/png": "[encoded data removed]",
      "text/plain": [
       "<Figure size 640x480 with 1 Axes>"
      ]
     },
     "metadata": {},
     "output_type": "display_data"
    }
   ],
   "source": [
    "gdf.plot()"
   ]
  },
  {
   "cell_type": "code",
   "execution_count": null,
   "id": "eb4df850-0582-41d8-bb45-139cec6ce9b8",
   "metadata": {},
   "outputs": [],
   "source": []
  }
 ],
 "metadata": {
  "kernelspec": {
   "display_name": "Python 3 (ipykernel)",
   "language": "python",
   "name": "python3"
  },
  "language_info": {
   "codemirror_mode": {
    "name": "ipython",
    "version": 3
   },
   "file_extension": ".py",
   "mimetype": "text/x-python",
   "name": "python",
   "nbconvert_exporter": "python",
   "pygments_lexer": "ipython3",
   "version": "3.9.13"
  }
 },
 "nbformat": 4,
 "nbformat_minor": 5
}
