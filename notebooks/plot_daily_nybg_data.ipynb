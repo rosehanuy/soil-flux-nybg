{
 "cells": [
  {
   "cell_type": "code",
   "execution_count": 2,
   "id": "a944c022-07e8-4db2-bcc6-0274d933a065",
   "metadata": {},
   "outputs": [],
   "source": [
    "import pandas as pd\n",
    "import matplotlib.pyplot as plt\n",
    "import os\n",
    "import numpy as np\n",
    "from scipy.stats import sem"
   ]
  },
  {
   "cell_type": "markdown",
   "id": "0e8224bc-8d9e-47b6-8796-544ee68dd41e",
   "metadata": {},
   "source": [
    "#### NYBG Data:\n",
    "##### Get mean and SE for each lawn type\n",
    "##### Plot data for each day"
   ]
  },
  {
   "cell_type": "code",
   "execution_count": 3,
   "id": "367a8a82-fbb3-42b4-a7fc-d2aeb679ea9a",
   "metadata": {},
   "outputs": [],
   "source": [
    "basepath = 'C:/Users/roseh/Desktop/NYBG_R/'\n",
    "file_location = 'data/processed'\n",
    "os.chdir(os.path.join(basepath,file_location))"
   ]
  },
  {
   "cell_type": "code",
   "execution_count": 227,
   "id": "e84b6d69-82bb-47e0-a8b2-cd7fa0db70da",
   "metadata": {},
   "outputs": [],
   "source": [
    "dataframe = 'NYBG_091522.csv'"
   ]
  },
  {
   "cell_type": "code",
   "execution_count": 228,
   "id": "bfa7b058-5266-4b5e-b89b-ff9dc10a0ff3",
   "metadata": {},
   "outputs": [],
   "source": [
    "df = pd.read_csv(dataframe,usecols=['Date','Flux','Collar','Site','Type','Number']) # read in csv and select columns\n",
    "date = df['Date'][0][:10]\n",
    "types = []\n",
    "means=[]\n",
    "ses=[]\n",
    "    \n",
    "type_grouped = df.groupby('Type')    # group dataframe by type"
   ]
  },
  {
   "cell_type": "code",
   "execution_count": 229,
   "id": "7ec99beb-f3ed-482c-a405-0f0e3dfb93a7",
   "metadata": {},
   "outputs": [],
   "source": [
    "if 'SV' in type_grouped.groups:         # savannah\n",
    "    SV = type_grouped.get_group('SV')    \n",
    "    SV_mean = SV['Flux'].mean()\n",
    "    SV_se = sem(SV['Flux'])\n",
    "        \n",
    "    types.append('Savannah')\n",
    "    means.append(SV_mean)\n",
    "    ses.append(SV_se)\n",
    "else:\n",
    "    pass"
   ]
  },
  {
   "cell_type": "code",
   "execution_count": 230,
   "id": "48d0ab24-dcda-476e-8102-45d49a8b70ea",
   "metadata": {},
   "outputs": [],
   "source": [
    "if 'TP' in type_grouped.groups:\n",
    "    TP = type_grouped.get_group('TP')    # tree pit\n",
    "        \n",
    "    TP_mean = TP['Flux'].mean()\n",
    "    TP_se = sem(TP['Flux'])\n",
    "                    \n",
    "    types.append('Tree Pit')\n",
    "    means.append(TP_mean)\n",
    "    ses.append(TP_se)\n",
    "else:\n",
    "    pass"
   ]
  },
  {
   "cell_type": "code",
   "execution_count": 231,
   "id": "f0834962-0f28-47c3-8854-fabedc1c37b5",
   "metadata": {},
   "outputs": [],
   "source": [
    "if 'UL' in type_grouped.groups:              #unmanaged lawn\n",
    "    UL = type_grouped.get_group('UL')\n",
    "        \n",
    "    UL_mean = UL['Flux'].mean()\n",
    "    UL_se = sem(UL['Flux'])\n",
    "        \n",
    "    types.append('Unmanaged Lawn')\n",
    "    means.append(UL_mean)\n",
    "    ses.append(UL_se)\n",
    "else:\n",
    "    pass"
   ]
  },
  {
   "cell_type": "code",
   "execution_count": 232,
   "id": "71090e1e-d82f-40b8-8382-93650e8b6f47",
   "metadata": {},
   "outputs": [],
   "source": [
    "if 'ML' in type_grouped.groups:             # managed lawn\n",
    "    ML = type_grouped.get_group('ML')\n",
    "        \n",
    "    ML_mean = ML['Flux'].mean()\n",
    "    ML_se = sem(ML['Flux'])\n",
    "        \n",
    "    types.append('Managed Lawn')\n",
    "    means.append(ML_mean)\n",
    "    ses.append(ML_se)\n",
    "else:\n",
    "    pass"
   ]
  },
  {
   "cell_type": "code",
   "execution_count": 233,
   "id": "ee780ba4-0075-4b1f-9703-b9d773a89a07",
   "metadata": {},
   "outputs": [],
   "source": [
    "if 'HL' in type_grouped.groups:                             # hot lawn\n",
    "    HL= type_grouped.get_group('HL')\n",
    "                    \n",
    "    BR_HL_mean = HL['Flux'].loc[HL['Site']=='BR'].mean()    # get mean for site 1\n",
    "    BW_HL_mean = HL['Flux'].loc[HL['Site']=='BW'].mean()    # get mean for site 2\n",
    "    HL_array = np.array([BR_HL_mean,BW_HL_mean])            \n",
    "\n",
    "    HL_mean = HL_array.mean()                               # get mean and se of the site means\n",
    "    HL_se = sem(HL_array)\n",
    "       \n",
    "    types.append('Hot Lawn')\n",
    "    means.append(HL_mean)\n",
    "    ses.append(HL_se)\n",
    "else:\n",
    "    pass"
   ]
  },
  {
   "cell_type": "code",
   "execution_count": 118,
   "id": "41674bbd-89e2-4b07-82b3-e023acfe08dc",
   "metadata": {},
   "outputs": [],
   "source": [
    "# if 'FE' in type_grouped.groups:             # added for 5.31.22\n",
    "#     FE = type_grouped.get_group('FE')\n",
    "        \n",
    "#     FE_mean = FE['Flux'].mean()\n",
    "#     FE_se = sem(FE['Flux'])\n",
    "        \n",
    "#     types.append('Forest Edge')\n",
    "#     means.append(FE_mean)\n",
    "#     ses.append(FE_se)\n",
    "# else:\n",
    "#     pass"
   ]
  },
  {
   "cell_type": "code",
   "execution_count": 119,
   "id": "272fe503-5bb5-4cc1-bb71-b0ca39a52906",
   "metadata": {},
   "outputs": [],
   "source": [
    "# if 'FI' in type_grouped.groups:             # add for 5.31.22\n",
    "#     FI = type_grouped.get_group('FI')\n",
    "        \n",
    "#     FI_mean = FI['Flux'].mean()\n",
    "#     FI_se = sem(FI['Flux'])\n",
    "        \n",
    "#     types.append('Forest Interior')\n",
    "#     means.append(FI_mean)\n",
    "#     ses.append(FI_se)\n",
    "# else:\n",
    "#     pass"
   ]
  },
  {
   "cell_type": "code",
   "execution_count": 234,
   "id": "a3030432-4912-44c4-9566-e97f6c68e4df",
   "metadata": {},
   "outputs": [],
   "source": [
    "if 'FE' in type_grouped.groups:                           # forest edge\n",
    "    FE = type_grouped.get_group('FE')    \n",
    "    FE_34_mean = FE['Flux'].loc[(FE['Number']==3) | (FE['Number']==4)].mean()\n",
    "    FE_12_mean = FE['Flux'].loc[(FE['Number']==1) | (FE['Number']==2)].mean()\n",
    "    FE_array = np.array([FE_34_mean,FE_12_mean])\n",
    "\n",
    "    FE_mean = FE_array.mean()\n",
    "    FE_se = sem(FE_array)\n",
    "        \n",
    "    types.append('Forest Edge')\n",
    "    means.append(FE_mean)\n",
    "    ses.append(FE_se)\n",
    "else:\n",
    "    pass"
   ]
  },
  {
   "cell_type": "code",
   "execution_count": 235,
   "id": "110c0a24-d09b-448c-8cd6-f2aa69b7cb00",
   "metadata": {},
   "outputs": [],
   "source": [
    "if 'FI' in type_grouped.groups:                     # forest interior\n",
    "    FI = type_grouped.get_group('FI')    \n",
    "    FI_34_mean = FI['Flux'].loc[(FI['Number']==3) | (FI['Number']==4)].mean()\n",
    "    FI_12_mean = FI['Flux'].loc[(FI['Number']==1) | (FI['Number']==2)].mean()\n",
    "    FI_array = np.array([FI_34_mean,FI_12_mean])\n",
    "\n",
    "    FI_mean = FI_array.mean()\n",
    "    FI_se = sem(FI_array)\n",
    "        \n",
    "    types.append('Forest Interior')\n",
    "    means.append(FI_mean)\n",
    "    ses.append(FI_se)\n",
    "else:\n",
    "    pass"
   ]
  },
  {
   "cell_type": "code",
   "execution_count": 236,
   "id": "3de19ce1-f297-46ca-b095-39233660f4ea",
   "metadata": {},
   "outputs": [],
   "source": [
    "data = {'date': date,\n",
    "        'type': types,\n",
    "        'mean':means,\n",
    "        'se':ses}\n",
    "                    \n",
    "plot_df = pd.DataFrame(data)"
   ]
  },
  {
   "cell_type": "code",
   "execution_count": 237,
   "id": "82332afa-59a3-4130-b39a-33d5ad7230c2",
   "metadata": {},
   "outputs": [
    {
     "data": {
      "text/html": [
       "<div>\n",
       "<style scoped>\n",
       "    .dataframe tbody tr th:only-of-type {\n",
       "        vertical-align: middle;\n",
       "    }\n",
       "\n",
       "    .dataframe tbody tr th {\n",
       "        vertical-align: top;\n",
       "    }\n",
       "\n",
       "    .dataframe thead th {\n",
       "        text-align: right;\n",
       "    }\n",
       "</style>\n",
       "<table border=\"1\" class=\"dataframe\">\n",
       "  <thead>\n",
       "    <tr style=\"text-align: right;\">\n",
       "      <th></th>\n",
       "      <th>date</th>\n",
       "      <th>type</th>\n",
       "      <th>mean</th>\n",
       "      <th>se</th>\n",
       "    </tr>\n",
       "  </thead>\n",
       "  <tbody>\n",
       "    <tr>\n",
       "      <th>0</th>\n",
       "      <td>9/15/2022</td>\n",
       "      <td>Savannah</td>\n",
       "      <td>4.266980</td>\n",
       "      <td>0.273198</td>\n",
       "    </tr>\n",
       "    <tr>\n",
       "      <th>1</th>\n",
       "      <td>9/15/2022</td>\n",
       "      <td>Tree Pit</td>\n",
       "      <td>14.938573</td>\n",
       "      <td>2.947394</td>\n",
       "    </tr>\n",
       "    <tr>\n",
       "      <th>2</th>\n",
       "      <td>9/15/2022</td>\n",
       "      <td>Unmanaged Lawn</td>\n",
       "      <td>6.027475</td>\n",
       "      <td>1.117915</td>\n",
       "    </tr>\n",
       "    <tr>\n",
       "      <th>3</th>\n",
       "      <td>9/15/2022</td>\n",
       "      <td>Managed Lawn</td>\n",
       "      <td>10.375090</td>\n",
       "      <td>0.946280</td>\n",
       "    </tr>\n",
       "    <tr>\n",
       "      <th>4</th>\n",
       "      <td>9/15/2022</td>\n",
       "      <td>Hot Lawn</td>\n",
       "      <td>14.505707</td>\n",
       "      <td>3.208517</td>\n",
       "    </tr>\n",
       "    <tr>\n",
       "      <th>5</th>\n",
       "      <td>9/15/2022</td>\n",
       "      <td>Forest Edge</td>\n",
       "      <td>4.764515</td>\n",
       "      <td>0.414260</td>\n",
       "    </tr>\n",
       "    <tr>\n",
       "      <th>6</th>\n",
       "      <td>9/15/2022</td>\n",
       "      <td>Forest Interior</td>\n",
       "      <td>5.569779</td>\n",
       "      <td>0.288236</td>\n",
       "    </tr>\n",
       "  </tbody>\n",
       "</table>\n",
       "</div>"
      ],
      "text/plain": [
       "         date             type       mean        se\n",
       "0  9/15/2022          Savannah   4.266980  0.273198\n",
       "1  9/15/2022          Tree Pit  14.938573  2.947394\n",
       "2  9/15/2022    Unmanaged Lawn   6.027475  1.117915\n",
       "3  9/15/2022      Managed Lawn  10.375090  0.946280\n",
       "4  9/15/2022          Hot Lawn  14.505707  3.208517\n",
       "5  9/15/2022       Forest Edge   4.764515  0.414260\n",
       "6  9/15/2022   Forest Interior   5.569779  0.288236"
      ]
     },
     "execution_count": 237,
     "metadata": {},
     "output_type": "execute_result"
    }
   ],
   "source": [
    "plot_df"
   ]
  },
  {
   "cell_type": "code",
   "execution_count": 238,
   "id": "ce30a8f7-3bf8-4212-b01e-5e4645f7e7af",
   "metadata": {},
   "outputs": [],
   "source": [
    "output_folder = 'C:/Users/roseh/Desktop/NYBG_R/data/processed'\n",
    "filename = 'plotdata_' + dataframe\n",
    "path = os.path.join(output_folder,filename)\n",
    "plot_df.to_csv(path)"
   ]
  },
  {
   "cell_type": "code",
   "execution_count": 239,
   "id": "9ddd9cc0-6fb5-4993-8d43-6dbf1ccb3e3d",
   "metadata": {},
   "outputs": [
    {
     "data": {
      "image/png": "[encoded data removed]",
      "text/plain": [
       "<Figure size 1200x560 with 1 Axes>"
      ]
     },
     "metadata": {},
     "output_type": "display_data"
    }
   ],
   "source": [
    "title = 'NYBG 09.15.22'\n",
    "color = 'xkcd:medium blue'\n",
    "plt.style.use('ggplot')\n",
    "\n",
    "ax = plot_df.plot(x='type',\n",
    "                  y='mean',\n",
    "                  kind='bar',\n",
    "                  yerr='se',\n",
    "                  figsize=(15,7),\n",
    "                  rot=0,\n",
    "                 fontsize=11,\n",
    "                 capsize=4,\n",
    "                 legend=False,\n",
    "                 color = color,\n",
    "                 ylim=[0,30])\n",
    "ax.set_title(title,fontsize=16)\n",
    "ax.set_ylabel('Mean CO2 Flux',fontsize=12)\n",
    "ax.set_xlabel('Land Type',fontsize=12)\n",
    "plt.show()\n",
    "    \n",
    "    "
   ]
  },
  {
   "cell_type": "code",
   "execution_count": 240,
   "id": "f906b0a0-fc5f-4096-bc57-df0fa151f02a",
   "metadata": {},
   "outputs": [],
   "source": [
    "output_folder = 'C:/Users/roseh/Desktop/NYBG_R/reports/figures'\n",
    "filename = f'{title}.png'\n",
    "ax.figure.savefig(os.path.join(output_folder,filename))"
   ]
  },
  {
   "cell_type": "code",
   "execution_count": null,
   "id": "8e1f1374-d880-40b7-85b6-f1f41dfd59c4",
   "metadata": {},
   "outputs": [],
   "source": []
  }
 ],
 "metadata": {
  "kernelspec": {
   "display_name": "Python 3 (ipykernel)",
   "language": "python",
   "name": "python3"
  },
  "language_info": {
   "codemirror_mode": {
    "name": "ipython",
    "version": 3
   },
   "file_extension": ".py",
   "mimetype": "text/x-python",
   "name": "python",
   "nbconvert_exporter": "python",
   "pygments_lexer": "ipython3",
   "version": "3.9.13"
  }
 },
 "nbformat": 4,
 "nbformat_minor": 5
}
