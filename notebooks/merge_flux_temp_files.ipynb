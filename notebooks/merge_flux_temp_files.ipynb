{
 "cells": [
  {
   "cell_type": "code",
   "execution_count": 3,
   "id": "3834b916-00d8-4632-b2cf-724958741b2c",
   "metadata": {},
   "outputs": [],
   "source": [
    "import pandas as pd\n",
    "import os"
   ]
  },
  {
   "cell_type": "code",
   "execution_count": 47,
   "id": "250419ff-62b3-44d7-a778-3d507440b937",
   "metadata": {},
   "outputs": [],
   "source": [
    "import glob"
   ]
  },
  {
   "cell_type": "markdown",
   "id": "2bf14bcc-1811-4d25-b2bb-e266b752f59d",
   "metadata": {},
   "source": [
    "#### Join CO2 flux to soil temperature data"
   ]
  },
  {
   "cell_type": "code",
   "execution_count": 84,
   "id": "82091fe9-26cc-46e7-be98-b42314cdcb0e",
   "metadata": {},
   "outputs": [],
   "source": [
    "basepath = 'C:/Users/roseh/Desktop/NYBG_R/'\n",
    "file_location = 'data/processed/merge'\n",
    "os.chdir(os.path.join(basepath, file_location))"
   ]
  },
  {
   "cell_type": "code",
   "execution_count": 92,
   "id": "68863768-0372-49d5-84e6-114b61da83a9",
   "metadata": {},
   "outputs": [],
   "source": [
    "def merge_flux_temp(flux_df,temp_df):\n",
    "    \n",
    "    \"\"\"A function to join together a co2 flux csv file with a temperature csv file \n",
    "    and save the new csv file to data/processed/merge\"\"\" \n",
    "    \n",
    "    print(f'joining {flux_df} to {temp_df}')\n",
    "    flux = pd.read_csv(flux_df, usecols=['Date','Flux','Collar','Type'])\n",
    "    flux['Collar'] = flux['Collar'].str[:6]\n",
    "    temp = pd.read_csv(temp_df)\n",
    "    merged_df = flux.merge(temp,how='inner',on='Collar')\n",
    "    \n",
    "    output_folder = 'C:/Users/roseh/Desktop/NYBG_R/data/processed/merge'\n",
    "    filename = f'merged_{flux_df}.csv'\n",
    "    path = os.path.join(output_folder,filename)\n",
    "    merged_df.to_csv(path)"
   ]
  },
  {
   "cell_type": "code",
   "execution_count": 89,
   "id": "01439662-608c-49d3-ad59-6036ec177f49",
   "metadata": {},
   "outputs": [],
   "source": [
    "all_temp_files = [i for i in glob.glob('temp*.csv')]      # create list of all temp files\n",
    "all_flux_files = [i for i in glob.glob('0*.csv')]         # create list of all flux files\n",
    "zipped = zip(all_temp_files,all_flux_files)\n",
    "all_files = list(zipped)                                  # create list of tuples: (temp_file,flux_file)"
   ]
  },
  {
   "cell_type": "code",
   "execution_count": 90,
   "id": "2481bf63-928f-4d4a-bbe3-7b74386e9d33",
   "metadata": {},
   "outputs": [
    {
     "data": {
      "text/plain": [
       "[('temp_220531.csv', '053122.csv'),\n",
       " ('temp_220607.csv', '060722.csv'),\n",
       " ('temp_220610.csv', '061022.csv'),\n",
       " ('temp_220613.csv', '061322.csv'),\n",
       " ('temp_220614.csv', '061422.csv'),\n",
       " ('temp_220617.csv', '061722.csv'),\n",
       " ('temp_220629.csv', '062922.csv'),\n",
       " ('temp_220701.csv', '070122.csv'),\n",
       " ('temp_220706.csv', '070622.csv'),\n",
       " ('temp_220707.csv', '070722.csv'),\n",
       " ('temp_220711.csv', '071122.csv'),\n",
       " ('temp_220803 LDEO.csv', '080322.csv'),\n",
       " ('temp_220804 NYBG.csv', '080422.csv'),\n",
       " ('temp_220808 LDEO.csv', '080822.csv'),\n",
       " ('temp_220816 NYBG.csv', '081622.csv'),\n",
       " ('temp_220818 LDEO.csv', '081822.csv'),\n",
       " ('temp_220902.csv', '090222.csv')]"
      ]
     },
     "execution_count": 90,
     "metadata": {},
     "output_type": "execute_result"
    }
   ],
   "source": [
    "all_files"
   ]
  },
  {
   "cell_type": "code",
   "execution_count": 91,
   "id": "64fffa7e-547f-4f85-ac18-57371c2f7b12",
   "metadata": {},
   "outputs": [
    {
     "name": "stdout",
     "output_type": "stream",
     "text": [
      "processing 053122.csv\n",
      "processing 060722.csv\n",
      "processing 061022.csv\n",
      "processing 061322.csv\n",
      "processing 061422.csv\n",
      "processing 061722.csv\n",
      "processing 062922.csv\n",
      "processing 070122.csv\n",
      "processing 070622.csv\n",
      "processing 070722.csv\n",
      "processing 071122.csv\n",
      "processing 080322.csv\n",
      "processing 080422.csv\n",
      "processing 080822.csv\n",
      "processing 081622.csv\n",
      "processing 081822.csv\n",
      "processing 090222.csv\n"
     ]
    }
   ],
   "source": [
    "for i in all_files:                                 # loop through list of tuples and apply merge function\n",
    "    flux_df = i[1]\n",
    "    temp_df = i[0]\n",
    "    merge_flux_temp(flux_df,temp_df)"
   ]
  },
  {
   "cell_type": "code",
   "execution_count": null,
   "id": "2338ade0-7f95-4439-af0f-3f6fbfc8fdb3",
   "metadata": {},
   "outputs": [],
   "source": []
  }
 ],
 "metadata": {
  "kernelspec": {
   "display_name": "Python 3 (ipykernel)",
   "language": "python",
   "name": "python3"
  },
  "language_info": {
   "codemirror_mode": {
    "name": "ipython",
    "version": 3
   },
   "file_extension": ".py",
   "mimetype": "text/x-python",
   "name": "python",
   "nbconvert_exporter": "python",
   "pygments_lexer": "ipython3",
   "version": "3.9.13"
  }
 },
 "nbformat": 4,
 "nbformat_minor": 5
}
