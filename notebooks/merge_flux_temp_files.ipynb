{
 "cells": [
  {
   "cell_type": "code",
   "execution_count": 1,
   "id": "3834b916-00d8-4632-b2cf-724958741b2c",
   "metadata": {},
   "outputs": [],
   "source": [
    "import pandas as pd\n",
    "import os"
   ]
  },
  {
   "cell_type": "code",
   "execution_count": 2,
   "id": "250419ff-62b3-44d7-a778-3d507440b937",
   "metadata": {},
   "outputs": [],
   "source": [
    "import glob"
   ]
  },
  {
   "cell_type": "markdown",
   "id": "2bf14bcc-1811-4d25-b2bb-e266b752f59d",
   "metadata": {},
   "source": [
    "#### Join CO2 flux to soil temperature data"
   ]
  },
  {
   "cell_type": "code",
   "execution_count": 15,
   "id": "82091fe9-26cc-46e7-be98-b42314cdcb0e",
   "metadata": {},
   "outputs": [],
   "source": [
    "basepath = 'C:/Users/roseh/Desktop/NYBG_R/'\n",
    "file_location = 'data/processed/QC2'\n",
    "src_path = os.path.join(basepath,'src')"
   ]
  },
  {
   "cell_type": "code",
   "execution_count": 16,
   "id": "17f5bd16-950d-41d3-b8a2-ac44fd97d738",
   "metadata": {},
   "outputs": [],
   "source": [
    "os.chdir(os.path.join(basepath,src_path))    # change directory to src\n",
    "\n",
    "from merge_files import merge_flux_temp\n",
    "\n",
    "os.chdir(os.path.join(basepath,file_location))   "
   ]
  },
  {
   "cell_type": "code",
   "execution_count": 17,
   "id": "01439662-608c-49d3-ad59-6036ec177f49",
   "metadata": {},
   "outputs": [],
   "source": [
    "all_temp_files = [i for i in glob.glob('nybg*.csv')]      # create list of all temp files\n",
    "all_flux_files = [i for i in glob.glob('2022*.csv')]         # create list of all flux files\n",
    "zipped = zip(all_temp_files,all_flux_files)\n",
    "all_files = list(zipped)                                  # create list of tuples: (temp_file,flux_file)"
   ]
  },
  {
   "cell_type": "code",
   "execution_count": 18,
   "id": "2481bf63-928f-4d4a-bbe3-7b74386e9d33",
   "metadata": {},
   "outputs": [
    {
     "data": {
      "text/plain": [
       "[('nybg_temp_220531.csv', '20220531_NYBG_8100.csv'),\n",
       " ('nybg_temp_220607.csv', '20220607_NYBG_8100.csv'),\n",
       " ('nybg_temp_220615.csv', '20220615_NYBG_8100.csv'),\n",
       " ('nybg_temp_220701.csv', '20220701_NYBG_7810.csv'),\n",
       " ('nybg_temp_220706.csv', '20220706_NYBG_7810.csv'),\n",
       " ('nybg_temp_220722.csv', '20220722_NYBG_7810.csv'),\n",
       " ('nybg_temp_220816.csv', '20220816_NYBG_7810.csv'),\n",
       " ('nybg_temp_220831.csv', '20220831_NYBG_8100.csv'),\n",
       " ('nybg_temp_220915.csv', '20220915_NYBG_7810.csv')]"
      ]
     },
     "execution_count": 18,
     "metadata": {},
     "output_type": "execute_result"
    }
   ],
   "source": [
    "all_files"
   ]
  },
  {
   "cell_type": "code",
   "execution_count": 19,
   "id": "64fffa7e-547f-4f85-ac18-57371c2f7b12",
   "metadata": {},
   "outputs": [
    {
     "name": "stdout",
     "output_type": "stream",
     "text": [
      "joining 20220531_NYBG_8100.csv to nybg_temp_220531.csv\n",
      "joining 20220607_NYBG_8100.csv to nybg_temp_220607.csv\n",
      "joining 20220615_NYBG_8100.csv to nybg_temp_220615.csv\n",
      "joining 20220701_NYBG_7810.csv to nybg_temp_220701.csv\n",
      "joining 20220706_NYBG_7810.csv to nybg_temp_220706.csv\n",
      "joining 20220722_NYBG_7810.csv to nybg_temp_220722.csv\n",
      "joining 20220816_NYBG_7810.csv to nybg_temp_220816.csv\n",
      "joining 20220831_NYBG_8100.csv to nybg_temp_220831.csv\n",
      "joining 20220915_NYBG_7810.csv to nybg_temp_220915.csv\n"
     ]
    }
   ],
   "source": [
    "for i in all_files:                                 # loop through list of tuples and apply merge function\n",
    "    flux_df = i[1]\n",
    "    temp_df = i[0]\n",
    "    merge_flux_temp(flux_df,temp_df)"
   ]
  },
  {
   "cell_type": "code",
   "execution_count": null,
   "id": "2338ade0-7f95-4439-af0f-3f6fbfc8fdb3",
   "metadata": {},
   "outputs": [],
   "source": []
  }
 ],
 "metadata": {
  "kernelspec": {
   "display_name": "Python 3 (ipykernel)",
   "language": "python",
   "name": "python3"
  },
  "language_info": {
   "codemirror_mode": {
    "name": "ipython",
    "version": 3
   },
   "file_extension": ".py",
   "mimetype": "text/x-python",
   "name": "python",
   "nbconvert_exporter": "python",
   "pygments_lexer": "ipython3",
   "version": "3.9.13"
  }
 },
 "nbformat": 4,
 "nbformat_minor": 5
}
