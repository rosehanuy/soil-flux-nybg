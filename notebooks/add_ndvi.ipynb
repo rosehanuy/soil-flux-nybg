{
 "cells": [
  {
   "cell_type": "code",
   "execution_count": 1,
   "id": "56888068-8b7b-41af-8b33-b46030234cb7",
   "metadata": {},
   "outputs": [],
   "source": [
    "import pandas as pd\n",
    "import numpy as np\n",
    "import os"
   ]
  },
  {
   "cell_type": "markdown",
   "id": "978ae2e7-151b-435e-afa3-ec745dce03d9",
   "metadata": {},
   "source": [
    "### Join Sentinel NDVI or EVI data to main dataframe\n",
    "##### Prior to reading in ndvi dataframe, create date column to match each measurement"
   ]
  },
  {
   "cell_type": "code",
   "execution_count": 2,
   "id": "f7bf915a-8e29-4287-81b8-67e96a14ac82",
   "metadata": {},
   "outputs": [],
   "source": [
    "data_path = r'C:\\Users\\roseh\\Desktop\\NYBG_R\\data'"
   ]
  },
  {
   "cell_type": "code",
   "execution_count": 29,
   "id": "8cb7e33a-2aa4-4cdf-876a-0b43e207dbbb",
   "metadata": {},
   "outputs": [],
   "source": [
    "df = pd.read_csv(os.path.join(data_path,'nybg_all_main.csv'),parse_dates=['date'])"
   ]
  },
  {
   "cell_type": "code",
   "execution_count": 11,
   "id": "815947e5-32ac-4cdb-be89-45da60f1d419",
   "metadata": {},
   "outputs": [],
   "source": [
    "evi_df = pd.read_csv(os.path.join(data_path,'evi_may_nov_nybg.csv'),parse_dates=['res_date'])"
   ]
  },
  {
   "cell_type": "code",
   "execution_count": 12,
   "id": "612ca36f-aee9-486d-8269-7d6011e93d34",
   "metadata": {},
   "outputs": [],
   "source": [
    "evi_df = evi_df.loc[evi_df['res_date'].notnull()]\n",
    "evi_df = pd.melt(evi_df,id_vars='res_date',value_vars=['BE_UL1','BL_ML1','BR_HL3','BT_FE2','BT_FE3','BT_FI1','BT_FI3','BW_HL1','BE_UL3','BG_ML3'])\n",
    "evi_df.rename(columns={'value':'evi'},inplace=True)\n",
    "evi_df_grouped = evi_df.groupby('res_date')"
   ]
  },
  {
   "cell_type": "code",
   "execution_count": 14,
   "id": "8fdafe77-4a77-4445-8862-728d744e80c6",
   "metadata": {},
   "outputs": [],
   "source": [
    "ndvi_df = pd.read_csv(os.path.join(data_path,'ndvi_sentinel_nybg_may_nov.csv'),parse_dates=['res_date'])"
   ]
  },
  {
   "cell_type": "code",
   "execution_count": 15,
   "id": "4ac72288-547c-4b36-a5c2-48a85dc8b4ef",
   "metadata": {},
   "outputs": [],
   "source": [
    "ndvi_df = ndvi_df.loc[ndvi_df['res_date'].notnull()]\n",
    "ndvi_df = pd.melt(ndvi_df,id_vars='res_date',value_vars=['BE_UL1','BL_ML1','BR_HL3','BT_FE2','BT_FE3','BT_FI1','BT_FI3','BW_HL1','BE_UL3','BG_ML3'])\n",
    "ndvi_df.rename(columns={'value':'ndvi'},inplace=True)\n",
    "ndvi_df_grouped = ndvi_df.groupby('res_date')"
   ]
  },
  {
   "cell_type": "code",
   "execution_count": 25,
   "id": "ecb8ede5-94d2-4dff-a13d-0ee81a082eee",
   "metadata": {},
   "outputs": [
    {
     "name": "stdout",
     "output_type": "stream",
     "text": [
      "<class 'pandas.core.frame.DataFrame'>\n",
      "RangeIndex: 140 entries, 0 to 139\n",
      "Data columns (total 3 columns):\n",
      " #   Column    Non-Null Count  Dtype         \n",
      "---  ------    --------------  -----         \n",
      " 0   res_date  140 non-null    datetime64[ns]\n",
      " 1   variable  140 non-null    object        \n",
      " 2   ndvi      140 non-null    float64       \n",
      "dtypes: datetime64[ns](1), float64(1), object(1)\n",
      "memory usage: 3.4+ KB\n"
     ]
    }
   ],
   "source": [
    "ndvi_df.info()"
   ]
  },
  {
   "cell_type": "code",
   "execution_count": 32,
   "id": "9d1f866d-b402-4507-94dc-0e598c304d5d",
   "metadata": {},
   "outputs": [],
   "source": [
    "df_grouped = df.groupby('date')"
   ]
  },
  {
   "cell_type": "code",
   "execution_count": 33,
   "id": "addbb30c-af39-4e1a-befa-d35f3a9a37e8",
   "metadata": {},
   "outputs": [],
   "source": [
    "df_list = []\n",
    "for name,group in df_grouped:\n",
    "    group_df = pd.DataFrame(group)\n",
    "    merge_df = group_df.merge(pd.DataFrame(evi_df_grouped.get_group(name)),\n",
    "                              left_on='Label',right_on='variable',how='outer').merge(pd.DataFrame(ndvi_df_grouped.get_group(name)),\n",
    "                                                                                     left_on='Label',right_on='variable',how='outer')\n",
    "    df_list.append(merge_df)       "
   ]
  },
  {
   "cell_type": "code",
   "execution_count": 34,
   "id": "cdff6957-5f71-4d0a-9143-98f314486eac",
   "metadata": {},
   "outputs": [],
   "source": [
    "combine=pd.concat(df_list)"
   ]
  },
  {
   "cell_type": "code",
   "execution_count": 35,
   "id": "232d85e9-c775-4e28-8fa2-ae46fca2183b",
   "metadata": {},
   "outputs": [
    {
     "name": "stdout",
     "output_type": "stream",
     "text": [
      "<class 'pandas.core.frame.DataFrame'>\n",
      "Int64Index: 395 entries, 0 to 28\n",
      "Data columns (total 22 columns):\n",
      " #   Column            Non-Null Count  Dtype         \n",
      "---  ------            --------------  -----         \n",
      " 0   Unnamed: 0.1      337 non-null    float64       \n",
      " 1   Unnamed: 0        337 non-null    float64       \n",
      " 2   date              363 non-null    datetime64[ns]\n",
      " 3   Label             363 non-null    object        \n",
      " 4   Res               235 non-null    float64       \n",
      " 5   NEE               71 non-null     float64       \n",
      " 6   GEE               77 non-null     float64       \n",
      " 7   PAR               64 non-null     float64       \n",
      " 8   Soil temperature  218 non-null    float64       \n",
      " 9   Soil_moist        204 non-null    float64       \n",
      " 10  type              363 non-null    object        \n",
      " 11  Chamber_Temp      224 non-null    float64       \n",
      " 12  sentinel_ndvi     121 non-null    float64       \n",
      " 13  hh_ndvi           28 non-null     float64       \n",
      " 14  sentinel_evi      121 non-null    float64       \n",
      " 15  landsat_ndvi      121 non-null    float64       \n",
      " 16  res_date_x        145 non-null    datetime64[ns]\n",
      " 17  variable_x        145 non-null    object        \n",
      " 18  evi               145 non-null    float64       \n",
      " 19  res_date_y        145 non-null    datetime64[ns]\n",
      " 20  variable_y        145 non-null    object        \n",
      " 21  ndvi              145 non-null    float64       \n",
      "dtypes: datetime64[ns](3), float64(15), object(4)\n",
      "memory usage: 71.0+ KB\n"
     ]
    }
   ],
   "source": [
    "combine.info()"
   ]
  },
  {
   "cell_type": "code",
   "execution_count": 37,
   "id": "60ffcc57-00d0-44e7-953a-b6c327d0023c",
   "metadata": {},
   "outputs": [],
   "source": [
    "combine['sentinel_evi'] = combine['evi']\n",
    "combine['sentinel_ndvi'] = combine['ndvi']"
   ]
  },
  {
   "cell_type": "code",
   "execution_count": 38,
   "id": "f6188b93-35b7-4a85-91ff-7b3c9504eb59",
   "metadata": {},
   "outputs": [],
   "source": [
    "combine = combine.drop(['res_date_x','variable_x','res_date_y','variable_y'],axis=1)"
   ]
  },
  {
   "cell_type": "code",
   "execution_count": 42,
   "id": "5c953bdb-7db6-47ec-be68-68b66cfb9f85",
   "metadata": {},
   "outputs": [],
   "source": [
    "combine = combine.drop(['evi','ndvi'],axis=1)"
   ]
  },
  {
   "cell_type": "code",
   "execution_count": 53,
   "id": "705156ef-3aef-4acd-9496-3f465e3a9a96",
   "metadata": {},
   "outputs": [],
   "source": [
    "combine = combine.loc[combine['date'].notnull()]"
   ]
  },
  {
   "cell_type": "code",
   "execution_count": 56,
   "id": "0bbaeb71-ce07-4524-9a99-3b8fea23c50e",
   "metadata": {},
   "outputs": [],
   "source": [
    "combine.to_csv(os.path.join(data_path,'nybg_all_main.csv'))"
   ]
  },
  {
   "cell_type": "code",
   "execution_count": 40,
   "id": "63f9571f-8416-436b-a6cc-b6345e36d2fd",
   "metadata": {},
   "outputs": [],
   "source": []
  },
  {
   "cell_type": "code",
   "execution_count": 41,
   "id": "bfde45e8-a50a-457a-ad21-fc698e42397e",
   "metadata": {},
   "outputs": [],
   "source": []
  },
  {
   "cell_type": "code",
   "execution_count": null,
   "id": "ae5e290d-ba21-4315-b0ff-364ee8d06a58",
   "metadata": {},
   "outputs": [],
   "source": []
  }
 ],
 "metadata": {
  "kernelspec": {
   "display_name": "Python 3 (ipykernel)",
   "language": "python",
   "name": "python3"
  },
  "language_info": {
   "codemirror_mode": {
    "name": "ipython",
    "version": 3
   },
   "file_extension": ".py",
   "mimetype": "text/x-python",
   "name": "python",
   "nbconvert_exporter": "python",
   "pygments_lexer": "ipython3",
   "version": "3.9.13"
  }
 },
 "nbformat": 4,
 "nbformat_minor": 5
}
