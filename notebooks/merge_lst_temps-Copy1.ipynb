{
 "cells": [
  {
   "cell_type": "code",
   "execution_count": 1,
   "id": "4ccb8838-3274-4997-aebd-79e56d4f0bc9",
   "metadata": {},
   "outputs": [],
   "source": [
    "import pandas as pd\n",
    "import numpy as np\n",
    "import os\n",
    "import matplotlib.pyplot as plt"
   ]
  },
  {
   "cell_type": "markdown",
   "id": "91fab8f0-1e56-4aa8-ac8f-69ed32396345",
   "metadata": {},
   "source": [
    "### Create Seasonal Median df - all temps, lst, ndvi"
   ]
  },
  {
   "cell_type": "code",
   "execution_count": 2,
   "id": "c767f3fd-78a4-4eef-bf5b-896fcfe12d46",
   "metadata": {},
   "outputs": [],
   "source": [
    "data_path = r'C:\\Users\\roseh\\Desktop\\NYBG_R\\data\\processed'"
   ]
  },
  {
   "cell_type": "code",
   "execution_count": 3,
   "id": "9e6d1d53-6465-4d0d-b40e-e7dcf81f7385",
   "metadata": {},
   "outputs": [],
   "source": [
    "lst_df = pd.read_csv(os.path.join(data_path,'LST_time_series.csv'))"
   ]
  },
  {
   "cell_type": "code",
   "execution_count": 4,
   "id": "fa70e80b-3244-4406-91ed-c4ee0ca79729",
   "metadata": {},
   "outputs": [],
   "source": [
    "nybg_df = pd.read_csv(os.path.join(data_path,'nybg_recat3.csv'))"
   ]
  },
  {
   "cell_type": "code",
   "execution_count": 5,
   "id": "01fed3dc-61d3-47eb-a7b0-a6392010c38d",
   "metadata": {},
   "outputs": [],
   "source": [
    "ndvi_df = pd.read_csv(os.path.join(data_path,'ndvi_timeseries.csv'))"
   ]
  },
  {
   "cell_type": "code",
   "execution_count": 6,
   "id": "2d044fa5-9e15-47fc-961d-c6f5cb462361",
   "metadata": {},
   "outputs": [
    {
     "name": "stdout",
     "output_type": "stream",
     "text": [
      "<class 'pandas.core.frame.DataFrame'>\n",
      "RangeIndex: 338 entries, 0 to 337\n",
      "Data columns (total 13 columns):\n",
      " #   Column            Non-Null Count  Dtype  \n",
      "---  ------            --------------  -----  \n",
      " 0   Unnamed: 0.1      338 non-null    int64  \n",
      " 1   Unnamed: 0        338 non-null    int64  \n",
      " 2   Date_x            338 non-null    object \n",
      " 3   Label             338 non-null    object \n",
      " 4   Res               210 non-null    float64\n",
      " 5   NEE               71 non-null     float64\n",
      " 6   GEE               77 non-null     float64\n",
      " 7   PAR               64 non-null     float64\n",
      " 8   Soil temperature  203 non-null    float64\n",
      " 9   Soil_moist        204 non-null    float64\n",
      " 10  type              338 non-null    object \n",
      " 11  Chamber_Temp      161 non-null    float64\n",
      " 12  ndvi              121 non-null    float64\n",
      "dtypes: float64(8), int64(2), object(3)\n",
      "memory usage: 34.5+ KB\n"
     ]
    }
   ],
   "source": [
    "nybg_df.info()"
   ]
  },
  {
   "cell_type": "code",
   "execution_count": 7,
   "id": "71e9ab99-68db-430f-aa88-659f6d965588",
   "metadata": {},
   "outputs": [
    {
     "name": "stdout",
     "output_type": "stream",
     "text": [
      "<class 'pandas.core.frame.DataFrame'>\n",
      "RangeIndex: 102456 entries, 0 to 102455\n",
      "Data columns (total 7 columns):\n",
      " #   Column        Non-Null Count   Dtype         \n",
      "---  ------        --------------   -----         \n",
      " 0   Unnamed: 0.2  102456 non-null  int64         \n",
      " 1   Unnamed: 0.1  102456 non-null  int64         \n",
      " 2   Unnamed: 0    102456 non-null  int64         \n",
      " 3   Date          102456 non-null  datetime64[ns]\n",
      " 4   Temp_F        102456 non-null  float32       \n",
      " 5   collar        102456 non-null  object        \n",
      " 6   Temp_C        102456 non-null  float64       \n",
      "dtypes: datetime64[ns](1), float32(1), float64(1), int64(3), object(1)\n",
      "memory usage: 5.1+ MB\n"
     ]
    }
   ],
   "source": [
    "sensors_df = pd.read_csv(os.path.join(data_path,'all_temp_sensors.csv'), parse_dates = ['Date'],na_values= ' ',dtype={'Temp_F': np.float32})\n",
    "\n",
    "sensors_df.info()"
   ]
  },
  {
   "cell_type": "code",
   "execution_count": 8,
   "id": "c437c8cc-9fc8-4e7a-9fcc-3a73ce793539",
   "metadata": {},
   "outputs": [],
   "source": [
    "grouped_s = sensors_df.groupby('collar')\n",
    "sensor_temps = []\n",
    "sensor_names = []\n",
    "for name, group in grouped_s:\n",
    "    if name in ['BE_UL1', 'BL_ML1', 'BR_HL3', 'BT_FE2', 'BT_FE3',\n",
    "       'BT_FI1', 'BT_FI3', 'BW_HL1', 'BE_SV3', 'BG_UL3']:\n",
    "        sensor_names.append(name)\n",
    "        sensor_temps.append(group['Temp_C'].median())\n",
    "        \n",
    "sensor_meds = pd.DataFrame(data={'sensor_names':sensor_names,'sensor_temps':sensor_temps})"
   ]
  },
  {
   "cell_type": "code",
   "execution_count": 9,
   "id": "284f171e-1d46-46a4-9f5e-1164dad66cc4",
   "metadata": {},
   "outputs": [
    {
     "data": {
      "text/html": [
       "<div>\n",
       "<style scoped>\n",
       "    .dataframe tbody tr th:only-of-type {\n",
       "        vertical-align: middle;\n",
       "    }\n",
       "\n",
       "    .dataframe tbody tr th {\n",
       "        vertical-align: top;\n",
       "    }\n",
       "\n",
       "    .dataframe thead th {\n",
       "        text-align: right;\n",
       "    }\n",
       "</style>\n",
       "<table border=\"1\" class=\"dataframe\">\n",
       "  <thead>\n",
       "    <tr style=\"text-align: right;\">\n",
       "      <th></th>\n",
       "      <th>sensor_names</th>\n",
       "      <th>sensor_temps</th>\n",
       "    </tr>\n",
       "  </thead>\n",
       "  <tbody>\n",
       "    <tr>\n",
       "      <th>0</th>\n",
       "      <td>BE_UL3</td>\n",
       "      <td>19.733332</td>\n",
       "    </tr>\n",
       "    <tr>\n",
       "      <th>1</th>\n",
       "      <td>BE_UL1</td>\n",
       "      <td>20.633333</td>\n",
       "    </tr>\n",
       "    <tr>\n",
       "      <th>2</th>\n",
       "      <td>BG_ML3</td>\n",
       "      <td>21.488890</td>\n",
       "    </tr>\n",
       "    <tr>\n",
       "      <th>3</th>\n",
       "      <td>BL_ML1</td>\n",
       "      <td>21.577776</td>\n",
       "    </tr>\n",
       "    <tr>\n",
       "      <th>4</th>\n",
       "      <td>BR_HL3</td>\n",
       "      <td>22.433332</td>\n",
       "    </tr>\n",
       "    <tr>\n",
       "      <th>5</th>\n",
       "      <td>BT_FE2</td>\n",
       "      <td>16.855556</td>\n",
       "    </tr>\n",
       "    <tr>\n",
       "      <th>6</th>\n",
       "      <td>BT_FE3</td>\n",
       "      <td>19.388891</td>\n",
       "    </tr>\n",
       "    <tr>\n",
       "      <th>7</th>\n",
       "      <td>BT_FI1</td>\n",
       "      <td>16.300001</td>\n",
       "    </tr>\n",
       "    <tr>\n",
       "      <th>8</th>\n",
       "      <td>BT_FI3</td>\n",
       "      <td>19.472225</td>\n",
       "    </tr>\n",
       "  </tbody>\n",
       "</table>\n",
       "</div>"
      ],
      "text/plain": [
       "  sensor_names  sensor_temps\n",
       "0       BE_UL3     19.733332\n",
       "1       BE_UL1     20.633333\n",
       "2       BG_ML3     21.488890\n",
       "3       BL_ML1     21.577776\n",
       "4       BR_HL3     22.433332\n",
       "5       BT_FE2     16.855556\n",
       "6       BT_FE3     19.388891\n",
       "7       BT_FI1     16.300001\n",
       "8       BT_FI3     19.472225"
      ]
     },
     "execution_count": 9,
     "metadata": {},
     "output_type": "execute_result"
    }
   ],
   "source": [
    "sensor_meds.replace('BE_SV3','BE_UL3',inplace=True)\n",
    "sensor_meds.replace('BG_UL3','BG_ML3',inplace=True)\n",
    "sensor_meds"
   ]
  },
  {
   "cell_type": "code",
   "execution_count": 10,
   "id": "fe7899de-6a58-46a5-b318-e2aa168927af",
   "metadata": {},
   "outputs": [],
   "source": [
    "lst_med = lst_df.median(numeric_only=True)"
   ]
  },
  {
   "cell_type": "code",
   "execution_count": 11,
   "id": "31a88d64-540c-4ade-a87e-d2112a00452f",
   "metadata": {},
   "outputs": [],
   "source": [
    "lst_med_df = pd.DataFrame(lst_med)"
   ]
  },
  {
   "cell_type": "code",
   "execution_count": 12,
   "id": "2abb56f6-8601-4e6f-b8b8-0162e1307021",
   "metadata": {},
   "outputs": [],
   "source": [
    "lst_med_df = lst_med_df.reset_index()"
   ]
  },
  {
   "cell_type": "code",
   "execution_count": 13,
   "id": "717b6961-4a3e-4924-9dda-b6c8dfb247c5",
   "metadata": {},
   "outputs": [],
   "source": [
    "lst_med_df = lst_med_df.rename(columns={'index':'labels',0:'lst'})"
   ]
  },
  {
   "cell_type": "code",
   "execution_count": 14,
   "id": "e438f489-a89d-4c4b-99af-a32d91d59258",
   "metadata": {},
   "outputs": [],
   "source": [
    "ndvi_med = ndvi_df.median(numeric_only=True)\n",
    "ndvi_med_df = pd.DataFrame(ndvi_med)\n",
    "ndvi_med_df = ndvi_med_df.reset_index()\n",
    "ndvi_med_df = ndvi_med_df.rename(columns={'index':'labels',0:'ndvi'})"
   ]
  },
  {
   "cell_type": "code",
   "execution_count": 15,
   "id": "6f507f31-037e-48e9-a0ae-97d8fa54da55",
   "metadata": {},
   "outputs": [
    {
     "data": {
      "text/html": [
       "<div>\n",
       "<style scoped>\n",
       "    .dataframe tbody tr th:only-of-type {\n",
       "        vertical-align: middle;\n",
       "    }\n",
       "\n",
       "    .dataframe tbody tr th {\n",
       "        vertical-align: top;\n",
       "    }\n",
       "\n",
       "    .dataframe thead th {\n",
       "        text-align: right;\n",
       "    }\n",
       "</style>\n",
       "<table border=\"1\" class=\"dataframe\">\n",
       "  <thead>\n",
       "    <tr style=\"text-align: right;\">\n",
       "      <th></th>\n",
       "      <th>labels</th>\n",
       "      <th>ndvi</th>\n",
       "    </tr>\n",
       "  </thead>\n",
       "  <tbody>\n",
       "    <tr>\n",
       "      <th>0</th>\n",
       "      <td>BE_UL1</td>\n",
       "      <td>0.8380</td>\n",
       "    </tr>\n",
       "    <tr>\n",
       "      <th>1</th>\n",
       "      <td>BL_ML1</td>\n",
       "      <td>0.8220</td>\n",
       "    </tr>\n",
       "    <tr>\n",
       "      <th>2</th>\n",
       "      <td>BR_HL3</td>\n",
       "      <td>0.6315</td>\n",
       "    </tr>\n",
       "    <tr>\n",
       "      <th>3</th>\n",
       "      <td>BT_FE2</td>\n",
       "      <td>0.7675</td>\n",
       "    </tr>\n",
       "    <tr>\n",
       "      <th>4</th>\n",
       "      <td>BT_FE3</td>\n",
       "      <td>0.8270</td>\n",
       "    </tr>\n",
       "    <tr>\n",
       "      <th>5</th>\n",
       "      <td>BT_FI1</td>\n",
       "      <td>0.8755</td>\n",
       "    </tr>\n",
       "    <tr>\n",
       "      <th>6</th>\n",
       "      <td>BT_FI3</td>\n",
       "      <td>0.8740</td>\n",
       "    </tr>\n",
       "    <tr>\n",
       "      <th>7</th>\n",
       "      <td>BW_HL1</td>\n",
       "      <td>0.4000</td>\n",
       "    </tr>\n",
       "    <tr>\n",
       "      <th>8</th>\n",
       "      <td>BE_UL3</td>\n",
       "      <td>0.8110</td>\n",
       "    </tr>\n",
       "    <tr>\n",
       "      <th>9</th>\n",
       "      <td>BG_ML3</td>\n",
       "      <td>0.7615</td>\n",
       "    </tr>\n",
       "  </tbody>\n",
       "</table>\n",
       "</div>"
      ],
      "text/plain": [
       "   labels    ndvi\n",
       "0  BE_UL1  0.8380\n",
       "1  BL_ML1  0.8220\n",
       "2  BR_HL3  0.6315\n",
       "3  BT_FE2  0.7675\n",
       "4  BT_FE3  0.8270\n",
       "5  BT_FI1  0.8755\n",
       "6  BT_FI3  0.8740\n",
       "7  BW_HL1  0.4000\n",
       "8  BE_UL3  0.8110\n",
       "9  BG_ML3  0.7615"
      ]
     },
     "execution_count": 15,
     "metadata": {},
     "output_type": "execute_result"
    }
   ],
   "source": [
    "ndvi_med_df"
   ]
  },
  {
   "cell_type": "code",
   "execution_count": 16,
   "id": "699919c1-d87f-43be-80d9-ec3c042b6c85",
   "metadata": {},
   "outputs": [],
   "source": [
    "grouped = nybg_df.groupby('Label')\n",
    "temps = []\n",
    "tempnames = []\n",
    "for name, group in grouped:\n",
    "    if name in ['BE_UL1', 'BL_ML1', 'BR_HL3', 'BT_FE2', 'BT_FE3',\n",
    "       'BT_FI1', 'BT_FI3', 'BW_HL1', 'BE_UL3', 'BG_ML3']:\n",
    "        tempnames.append(name)\n",
    "        temps.append(group['Soil temperature'].median())\n",
    "        \n",
    "temp_meds = pd.DataFrame(data={'tempnames': tempnames,'soil_temps':temps})     "
   ]
  },
  {
   "cell_type": "code",
   "execution_count": 17,
   "id": "0b383300-42d1-4b7c-a3af-bad808882e99",
   "metadata": {},
   "outputs": [
    {
     "data": {
      "text/html": [
       "<div>\n",
       "<style scoped>\n",
       "    .dataframe tbody tr th:only-of-type {\n",
       "        vertical-align: middle;\n",
       "    }\n",
       "\n",
       "    .dataframe tbody tr th {\n",
       "        vertical-align: top;\n",
       "    }\n",
       "\n",
       "    .dataframe thead th {\n",
       "        text-align: right;\n",
       "    }\n",
       "</style>\n",
       "<table border=\"1\" class=\"dataframe\">\n",
       "  <thead>\n",
       "    <tr style=\"text-align: right;\">\n",
       "      <th></th>\n",
       "      <th>tempnames</th>\n",
       "      <th>soil_temps</th>\n",
       "    </tr>\n",
       "  </thead>\n",
       "  <tbody>\n",
       "    <tr>\n",
       "      <th>0</th>\n",
       "      <td>BE_UL1</td>\n",
       "      <td>22.80</td>\n",
       "    </tr>\n",
       "    <tr>\n",
       "      <th>1</th>\n",
       "      <td>BE_UL3</td>\n",
       "      <td>20.90</td>\n",
       "    </tr>\n",
       "    <tr>\n",
       "      <th>2</th>\n",
       "      <td>BG_ML3</td>\n",
       "      <td>22.80</td>\n",
       "    </tr>\n",
       "    <tr>\n",
       "      <th>3</th>\n",
       "      <td>BL_ML1</td>\n",
       "      <td>24.70</td>\n",
       "    </tr>\n",
       "    <tr>\n",
       "      <th>4</th>\n",
       "      <td>BR_HL3</td>\n",
       "      <td>23.40</td>\n",
       "    </tr>\n",
       "    <tr>\n",
       "      <th>5</th>\n",
       "      <td>BT_FE2</td>\n",
       "      <td>19.35</td>\n",
       "    </tr>\n",
       "    <tr>\n",
       "      <th>6</th>\n",
       "      <td>BT_FE3</td>\n",
       "      <td>20.20</td>\n",
       "    </tr>\n",
       "    <tr>\n",
       "      <th>7</th>\n",
       "      <td>BT_FI1</td>\n",
       "      <td>19.20</td>\n",
       "    </tr>\n",
       "    <tr>\n",
       "      <th>8</th>\n",
       "      <td>BT_FI3</td>\n",
       "      <td>20.10</td>\n",
       "    </tr>\n",
       "    <tr>\n",
       "      <th>9</th>\n",
       "      <td>BW_HL1</td>\n",
       "      <td>24.90</td>\n",
       "    </tr>\n",
       "  </tbody>\n",
       "</table>\n",
       "</div>"
      ],
      "text/plain": [
       "  tempnames  soil_temps\n",
       "0    BE_UL1       22.80\n",
       "1    BE_UL3       20.90\n",
       "2    BG_ML3       22.80\n",
       "3    BL_ML1       24.70\n",
       "4    BR_HL3       23.40\n",
       "5    BT_FE2       19.35\n",
       "6    BT_FE3       20.20\n",
       "7    BT_FI1       19.20\n",
       "8    BT_FI3       20.10\n",
       "9    BW_HL1       24.90"
      ]
     },
     "execution_count": 17,
     "metadata": {},
     "output_type": "execute_result"
    }
   ],
   "source": [
    "temp_meds"
   ]
  },
  {
   "cell_type": "code",
   "execution_count": 18,
   "id": "e7463cd6-b248-4124-8f9b-c3a5d2d6a882",
   "metadata": {},
   "outputs": [
    {
     "name": "stderr",
     "output_type": "stream",
     "text": [
      "C:\\Users\\roseh\\miniconda3\\envs\\rs-env\\lib\\site-packages\\numpy\\lib\\nanfunctions.py:1216: RuntimeWarning: Mean of empty slice\n",
      "  return np.nanmean(a, axis, out=out, keepdims=keepdims)\n",
      "C:\\Users\\roseh\\miniconda3\\envs\\rs-env\\lib\\site-packages\\numpy\\lib\\nanfunctions.py:1216: RuntimeWarning: Mean of empty slice\n",
      "  return np.nanmean(a, axis, out=out, keepdims=keepdims)\n"
     ]
    }
   ],
   "source": [
    "chambertemp=[]\n",
    "chambernames=[]\n",
    "for name, group in grouped:\n",
    "    if name in ['BE_UL1', 'BL_ML1', 'BR_HL3', 'BT_FE2', 'BT_FE3',\n",
    "       'BT_FI1', 'BT_FI3', 'BW_HL1', 'BE_UL3', 'BG_ML3']:\n",
    "        chambernames.append(name)\n",
    "        chambertemp.append(group['Chamber_Temp'].median())"
   ]
  },
  {
   "cell_type": "code",
   "execution_count": 19,
   "id": "3000370c-fcc9-4a5d-8557-77a5eb0685f1",
   "metadata": {},
   "outputs": [],
   "source": [
    "chamber_meds = pd.DataFrame(data={'chambernames': chambernames,'chambertemp':chambertemp})"
   ]
  },
  {
   "cell_type": "code",
   "execution_count": 20,
   "id": "02f0f68b-0ce3-4d77-b320-3535c26f45c7",
   "metadata": {},
   "outputs": [
    {
     "data": {
      "text/html": [
       "<div>\n",
       "<style scoped>\n",
       "    .dataframe tbody tr th:only-of-type {\n",
       "        vertical-align: middle;\n",
       "    }\n",
       "\n",
       "    .dataframe tbody tr th {\n",
       "        vertical-align: top;\n",
       "    }\n",
       "\n",
       "    .dataframe thead th {\n",
       "        text-align: right;\n",
       "    }\n",
       "</style>\n",
       "<table border=\"1\" class=\"dataframe\">\n",
       "  <thead>\n",
       "    <tr style=\"text-align: right;\">\n",
       "      <th></th>\n",
       "      <th>chambernames</th>\n",
       "      <th>chambertemp</th>\n",
       "    </tr>\n",
       "  </thead>\n",
       "  <tbody>\n",
       "    <tr>\n",
       "      <th>0</th>\n",
       "      <td>BE_UL1</td>\n",
       "      <td>26.034140</td>\n",
       "    </tr>\n",
       "    <tr>\n",
       "      <th>1</th>\n",
       "      <td>BE_UL3</td>\n",
       "      <td>NaN</td>\n",
       "    </tr>\n",
       "    <tr>\n",
       "      <th>2</th>\n",
       "      <td>BG_ML3</td>\n",
       "      <td>NaN</td>\n",
       "    </tr>\n",
       "    <tr>\n",
       "      <th>3</th>\n",
       "      <td>BL_ML1</td>\n",
       "      <td>25.999595</td>\n",
       "    </tr>\n",
       "    <tr>\n",
       "      <th>4</th>\n",
       "      <td>BR_HL3</td>\n",
       "      <td>27.560450</td>\n",
       "    </tr>\n",
       "    <tr>\n",
       "      <th>5</th>\n",
       "      <td>BT_FE2</td>\n",
       "      <td>24.859090</td>\n",
       "    </tr>\n",
       "    <tr>\n",
       "      <th>6</th>\n",
       "      <td>BT_FE3</td>\n",
       "      <td>26.549750</td>\n",
       "    </tr>\n",
       "    <tr>\n",
       "      <th>7</th>\n",
       "      <td>BT_FI1</td>\n",
       "      <td>25.003640</td>\n",
       "    </tr>\n",
       "    <tr>\n",
       "      <th>8</th>\n",
       "      <td>BT_FI3</td>\n",
       "      <td>25.252270</td>\n",
       "    </tr>\n",
       "    <tr>\n",
       "      <th>9</th>\n",
       "      <td>BW_HL1</td>\n",
       "      <td>29.405000</td>\n",
       "    </tr>\n",
       "  </tbody>\n",
       "</table>\n",
       "</div>"
      ],
      "text/plain": [
       "  chambernames  chambertemp\n",
       "0       BE_UL1    26.034140\n",
       "1       BE_UL3          NaN\n",
       "2       BG_ML3          NaN\n",
       "3       BL_ML1    25.999595\n",
       "4       BR_HL3    27.560450\n",
       "5       BT_FE2    24.859090\n",
       "6       BT_FE3    26.549750\n",
       "7       BT_FI1    25.003640\n",
       "8       BT_FI3    25.252270\n",
       "9       BW_HL1    29.405000"
      ]
     },
     "execution_count": 20,
     "metadata": {},
     "output_type": "execute_result"
    }
   ],
   "source": [
    "chamber_meds"
   ]
  },
  {
   "cell_type": "code",
   "execution_count": 21,
   "id": "fcd0a125-0542-4554-9ec9-642a3e5bd0a6",
   "metadata": {},
   "outputs": [],
   "source": [
    "res=[]\n",
    "resnames=[]\n",
    "for name, group in grouped:\n",
    "    if name in ['BE_UL1', 'BL_ML1', 'BR_HL3', 'BT_FE2', 'BT_FE3',\n",
    "       'BT_FI1', 'BT_FI3', 'BW_HL1', 'BE_UL3', 'BG_ML3']:\n",
    "        resnames.append(name)\n",
    "        res.append(group['Res'].median())"
   ]
  },
  {
   "cell_type": "code",
   "execution_count": 22,
   "id": "129bdf3f-f6e8-48eb-a5ce-e85ab64b6997",
   "metadata": {},
   "outputs": [],
   "source": [
    "res_meds = pd.DataFrame(data={'resnames': resnames,'res':res})"
   ]
  },
  {
   "cell_type": "code",
   "execution_count": 23,
   "id": "bea519b4-b30c-414b-9555-d87b73324959",
   "metadata": {},
   "outputs": [],
   "source": [
    "df = chamber_meds.merge(temp_meds,left_on='chambernames',right_on='tempnames')"
   ]
  },
  {
   "cell_type": "code",
   "execution_count": 25,
   "id": "039d0562-01d7-4bdd-b252-cd702a745785",
   "metadata": {},
   "outputs": [],
   "source": [
    "merge1 = df.merge(lst_med_df,left_on='tempnames',right_on='labels')"
   ]
  },
  {
   "cell_type": "code",
   "execution_count": 26,
   "id": "8daebfb8-61c5-41d7-af9e-4b6c96f503fa",
   "metadata": {},
   "outputs": [],
   "source": [
    "merge2 = merge1.merge(sensor_meds,left_on='tempnames',right_on='sensor_names')"
   ]
  },
  {
   "cell_type": "code",
   "execution_count": 27,
   "id": "1b45a24b-0df3-435f-9e64-a1bd2f301bc9",
   "metadata": {},
   "outputs": [],
   "source": [
    "merge3 = merge2.merge(res_meds,left_on='tempnames',right_on='resnames')"
   ]
  },
  {
   "cell_type": "code",
   "execution_count": 28,
   "id": "c3a3daa2-cd17-4f71-95c3-d6e808356c42",
   "metadata": {},
   "outputs": [],
   "source": [
    "merge4 = merge3.merge(ndvi_med_df,left_on='tempnames',right_on='labels')"
   ]
  },
  {
   "cell_type": "code",
   "execution_count": 29,
   "id": "faf4fe1a-8b88-47cd-abb0-cffa7a760367",
   "metadata": {},
   "outputs": [],
   "source": [
    "merge4.to_csv(os.path.join(data_path,'seasonal_medians.csv'))"
   ]
  },
  {
   "cell_type": "code",
   "execution_count": null,
   "id": "95771b6f-bed6-4ed8-8f4e-82e241cb7c0e",
   "metadata": {},
   "outputs": [],
   "source": [
    "merge.plot('soil_temps','lst',kind='scatter')"
   ]
  },
  {
   "cell_type": "code",
   "execution_count": null,
   "id": "da7823e2-7981-4e91-ace3-52394901fcf3",
   "metadata": {},
   "outputs": [],
   "source": [
    "merge.plot('chambertemp','lst',kind='scatter')"
   ]
  },
  {
   "cell_type": "code",
   "execution_count": null,
   "id": "a30d81ee-5522-47db-94b0-374228b82a15",
   "metadata": {},
   "outputs": [],
   "source": [
    "merge.plot('sensor_temps','lst',kind='scatter')"
   ]
  },
  {
   "cell_type": "code",
   "execution_count": null,
   "id": "91ebde08-a9cc-4aa4-88ed-dd5311dd3d41",
   "metadata": {},
   "outputs": [],
   "source": [
    "merge.to_csv('lst_and_ground_temps.csv')"
   ]
  },
  {
   "cell_type": "code",
   "execution_count": null,
   "id": "469f1b96-dad2-4f58-9178-33b048d25e9c",
   "metadata": {},
   "outputs": [],
   "source": []
  }
 ],
 "metadata": {
  "kernelspec": {
   "display_name": "Python 3 (ipykernel)",
   "language": "python",
   "name": "python3"
  },
  "language_info": {
   "codemirror_mode": {
    "name": "ipython",
    "version": 3
   },
   "file_extension": ".py",
   "mimetype": "text/x-python",
   "name": "python",
   "nbconvert_exporter": "python",
   "pygments_lexer": "ipython3",
   "version": "3.9.13"
  }
 },
 "nbformat": 4,
 "nbformat_minor": 5
}
