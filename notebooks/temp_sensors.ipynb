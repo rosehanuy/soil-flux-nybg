{
 "cells": [
  {
   "cell_type": "code",
   "execution_count": 1,
   "id": "0c936bf1-1b65-4a1a-bfe2-9673b3850e5b",
   "metadata": {},
   "outputs": [],
   "source": [
    "import pandas as pd\n",
    "import numpy as np\n",
    "import os\n",
    "import matplotlib.pyplot as plt"
   ]
  },
  {
   "cell_type": "markdown",
   "id": "26f6eaf4-6eab-4437-9a8f-7d6a357c7fdc",
   "metadata": {},
   "source": [
    "#### Find Mean Hourly Bluetooth Temperature Sensor Readings and Match with CO2 Flux Data"
   ]
  },
  {
   "cell_type": "code",
   "execution_count": 2,
   "id": "b1fef6bb-d3ea-4ecf-99ff-ef7b09ca97db",
   "metadata": {},
   "outputs": [],
   "source": [
    "pd.options.mode.chained_assignment = None"
   ]
  },
  {
   "cell_type": "code",
   "execution_count": 25,
   "id": "3249ffe0-e53b-4530-b7c2-73976e1eed44",
   "metadata": {},
   "outputs": [],
   "source": [
    "basepath = 'C:/Users/roseh/Desktop/NYBG_R/'\n",
    "file_location = 'data/processed/QC2/Temp_Sensors'\n",
    "os.chdir(os.path.join(basepath, file_location))"
   ]
  },
  {
   "cell_type": "markdown",
   "id": "cd0b0bec-df53-4f30-b092-9adbe100d64e",
   "metadata": {},
   "source": [
    "#### Read in and format temperature sensor data"
   ]
  },
  {
   "cell_type": "code",
   "execution_count": 26,
   "id": "8a9fcbd9-0c42-432f-9295-8fb61f2b1a6f",
   "metadata": {},
   "outputs": [
    {
     "name": "stdout",
     "output_type": "stream",
     "text": [
      "<class 'pandas.core.frame.DataFrame'>\n",
      "Int64Index: 102456 entries, 0 to 102546\n",
      "Data columns (total 4 columns):\n",
      " #   Column  Non-Null Count   Dtype         \n",
      "---  ------  --------------   -----         \n",
      " 0   Date    102456 non-null  datetime64[ns]\n",
      " 1   Temp_F  102456 non-null  float32       \n",
      " 2   collar  102456 non-null  object        \n",
      " 3   Temp_C  102456 non-null  float32       \n",
      "dtypes: datetime64[ns](1), float32(2), object(1)\n",
      "memory usage: 3.1+ MB\n"
     ]
    }
   ],
   "source": [
    "all_temps = pd.read_csv('all_temp_sensors.csv', parse_dates = ['Date'],na_values= ' ',dtype={'Temp_F': np.float32})\n",
    "all_temps.dropna(inplace=True)\n",
    "all_temps['Temp_C'] = (all_temps['Temp_F'] - 32) * (5/9)\n",
    "all_temps.info()"
   ]
  },
  {
   "cell_type": "code",
   "execution_count": 27,
   "id": "29e5f060-2943-4de6-8472-51fcb63b2a31",
   "metadata": {},
   "outputs": [],
   "source": [
    "def split_date_columns(df):\n",
    "    \"\"\"Split the original Date column into three 'date', 'time', and 'hour' columns\n",
    "    and also convert the new 'date' column to a string\"\"\"\n",
    "    df['date'] = df['Date'].dt.date\n",
    "    df['date'] = df['date'].astype(str)\n",
    "    df['time'] = df['Date'].dt.time\n",
    "    df['hour'] = df['Date'].dt.hour"
   ]
  },
  {
   "cell_type": "code",
   "execution_count": 28,
   "id": "b5aec4ef-2cc4-4273-a63e-122c1033c22f",
   "metadata": {},
   "outputs": [
    {
     "data": {
      "text/html": [
       "<div>\n",
       "<style scoped>\n",
       "    .dataframe tbody tr th:only-of-type {\n",
       "        vertical-align: middle;\n",
       "    }\n",
       "\n",
       "    .dataframe tbody tr th {\n",
       "        vertical-align: top;\n",
       "    }\n",
       "\n",
       "    .dataframe thead th {\n",
       "        text-align: right;\n",
       "    }\n",
       "</style>\n",
       "<table border=\"1\" class=\"dataframe\">\n",
       "  <thead>\n",
       "    <tr style=\"text-align: right;\">\n",
       "      <th></th>\n",
       "      <th>Date</th>\n",
       "      <th>Temp_F</th>\n",
       "      <th>collar</th>\n",
       "      <th>Temp_C</th>\n",
       "      <th>date</th>\n",
       "      <th>time</th>\n",
       "      <th>hour</th>\n",
       "    </tr>\n",
       "  </thead>\n",
       "  <tbody>\n",
       "    <tr>\n",
       "      <th>0</th>\n",
       "      <td>2022-04-25 13:40:00</td>\n",
       "      <td>65.199997</td>\n",
       "      <td>BE_SV3</td>\n",
       "      <td>18.444443</td>\n",
       "      <td>2022-04-25</td>\n",
       "      <td>13:40:00</td>\n",
       "      <td>13</td>\n",
       "    </tr>\n",
       "    <tr>\n",
       "      <th>1</th>\n",
       "      <td>2022-04-25 13:55:00</td>\n",
       "      <td>57.400002</td>\n",
       "      <td>BE_SV3</td>\n",
       "      <td>14.111113</td>\n",
       "      <td>2022-04-25</td>\n",
       "      <td>13:55:00</td>\n",
       "      <td>13</td>\n",
       "    </tr>\n",
       "    <tr>\n",
       "      <th>2</th>\n",
       "      <td>2022-04-25 14:10:00</td>\n",
       "      <td>56.240002</td>\n",
       "      <td>BE_SV3</td>\n",
       "      <td>13.466668</td>\n",
       "      <td>2022-04-25</td>\n",
       "      <td>14:10:00</td>\n",
       "      <td>14</td>\n",
       "    </tr>\n",
       "    <tr>\n",
       "      <th>3</th>\n",
       "      <td>2022-04-25 14:25:00</td>\n",
       "      <td>56.320000</td>\n",
       "      <td>BE_SV3</td>\n",
       "      <td>13.511111</td>\n",
       "      <td>2022-04-25</td>\n",
       "      <td>14:25:00</td>\n",
       "      <td>14</td>\n",
       "    </tr>\n",
       "    <tr>\n",
       "      <th>4</th>\n",
       "      <td>2022-04-25 14:40:00</td>\n",
       "      <td>56.400002</td>\n",
       "      <td>BE_SV3</td>\n",
       "      <td>13.555557</td>\n",
       "      <td>2022-04-25</td>\n",
       "      <td>14:40:00</td>\n",
       "      <td>14</td>\n",
       "    </tr>\n",
       "  </tbody>\n",
       "</table>\n",
       "</div>"
      ],
      "text/plain": [
       "                 Date     Temp_F  collar     Temp_C        date      time  \\\n",
       "0 2022-04-25 13:40:00  65.199997  BE_SV3  18.444443  2022-04-25  13:40:00   \n",
       "1 2022-04-25 13:55:00  57.400002  BE_SV3  14.111113  2022-04-25  13:55:00   \n",
       "2 2022-04-25 14:10:00  56.240002  BE_SV3  13.466668  2022-04-25  14:10:00   \n",
       "3 2022-04-25 14:25:00  56.320000  BE_SV3  13.511111  2022-04-25  14:25:00   \n",
       "4 2022-04-25 14:40:00  56.400002  BE_SV3  13.555557  2022-04-25  14:40:00   \n",
       "\n",
       "   hour  \n",
       "0    13  \n",
       "1    13  \n",
       "2    14  \n",
       "3    14  \n",
       "4    14  "
      ]
     },
     "execution_count": 28,
     "metadata": {},
     "output_type": "execute_result"
    }
   ],
   "source": [
    "split_date_columns(all_temps)    # apply split dates function and display dataframe\n",
    "all_temps.head()"
   ]
  },
  {
   "cell_type": "code",
   "execution_count": 29,
   "id": "10b54471-de64-43e3-88c0-8fe1d88a312e",
   "metadata": {},
   "outputs": [],
   "source": [
    "all_temps.replace(to_replace=['bw_tp1','BW-HL1'],value=['BW_TP1','BW_HL1'],inplace=True)"
   ]
  },
  {
   "cell_type": "code",
   "execution_count": 30,
   "id": "5be25ef2-ea61-4c78-a7b1-828ece80a07d",
   "metadata": {},
   "outputs": [
    {
     "name": "stdout",
     "output_type": "stream",
     "text": [
      "<class 'pandas.core.frame.DataFrame'>\n",
      "Int64Index: 102456 entries, 0 to 102546\n",
      "Data columns (total 7 columns):\n",
      " #   Column  Non-Null Count   Dtype         \n",
      "---  ------  --------------   -----         \n",
      " 0   Date    102456 non-null  datetime64[ns]\n",
      " 1   Temp_F  102456 non-null  float32       \n",
      " 2   collar  102456 non-null  object        \n",
      " 3   Temp_C  102456 non-null  float32       \n",
      " 4   date    102456 non-null  object        \n",
      " 5   time    102456 non-null  object        \n",
      " 6   hour    102456 non-null  int64         \n",
      "dtypes: datetime64[ns](1), float32(2), int64(1), object(3)\n",
      "memory usage: 5.5+ MB\n"
     ]
    }
   ],
   "source": [
    "all_temps.info()"
   ]
  },
  {
   "cell_type": "markdown",
   "id": "e9ead8d1-aba4-495f-ac8f-9a419c8bef3e",
   "metadata": {},
   "source": [
    "#### Group dataframe by collar, date, and hour and find mean temperature for each hour"
   ]
  },
  {
   "cell_type": "code",
   "execution_count": 31,
   "id": "4e39f9b9-a214-4433-b26f-e3e3f1c86a9e",
   "metadata": {},
   "outputs": [],
   "source": [
    "collar_groups = all_temps.groupby(by = ['collar', 'date', 'hour'])    # group temperatures by collar, date, and hour"
   ]
  },
  {
   "cell_type": "code",
   "execution_count": 32,
   "id": "6a4df59a-5807-4204-b739-2b45d0e561c5",
   "metadata": {},
   "outputs": [
    {
     "data": {
      "text/html": [
       "<div>\n",
       "<style scoped>\n",
       "    .dataframe tbody tr th:only-of-type {\n",
       "        vertical-align: middle;\n",
       "    }\n",
       "\n",
       "    .dataframe tbody tr th {\n",
       "        vertical-align: top;\n",
       "    }\n",
       "\n",
       "    .dataframe thead th {\n",
       "        text-align: right;\n",
       "    }\n",
       "</style>\n",
       "<table border=\"1\" class=\"dataframe\">\n",
       "  <thead>\n",
       "    <tr style=\"text-align: right;\">\n",
       "      <th></th>\n",
       "      <th></th>\n",
       "      <th></th>\n",
       "      <th>Date</th>\n",
       "      <th>Temp_F</th>\n",
       "      <th>Temp_C</th>\n",
       "      <th>time</th>\n",
       "    </tr>\n",
       "    <tr>\n",
       "      <th>collar</th>\n",
       "      <th>date</th>\n",
       "      <th>hour</th>\n",
       "      <th></th>\n",
       "      <th></th>\n",
       "      <th></th>\n",
       "      <th></th>\n",
       "    </tr>\n",
       "  </thead>\n",
       "  <tbody>\n",
       "    <tr>\n",
       "      <th rowspan=\"5\" valign=\"top\">BE_SV3</th>\n",
       "      <th rowspan=\"5\" valign=\"top\">2022-04-25</th>\n",
       "      <th>13</th>\n",
       "      <td>2022-04-25 13:40:00</td>\n",
       "      <td>65.199997</td>\n",
       "      <td>18.444443</td>\n",
       "      <td>13:40:00</td>\n",
       "    </tr>\n",
       "    <tr>\n",
       "      <th>14</th>\n",
       "      <td>2022-04-25 14:10:00</td>\n",
       "      <td>56.240002</td>\n",
       "      <td>13.466668</td>\n",
       "      <td>14:10:00</td>\n",
       "    </tr>\n",
       "    <tr>\n",
       "      <th>15</th>\n",
       "      <td>2022-04-25 15:10:00</td>\n",
       "      <td>56.630001</td>\n",
       "      <td>13.683334</td>\n",
       "      <td>15:10:00</td>\n",
       "    </tr>\n",
       "    <tr>\n",
       "      <th>16</th>\n",
       "      <td>2022-04-25 16:10:00</td>\n",
       "      <td>56.779999</td>\n",
       "      <td>13.766666</td>\n",
       "      <td>16:10:00</td>\n",
       "    </tr>\n",
       "    <tr>\n",
       "      <th>17</th>\n",
       "      <td>2022-04-25 17:10:00</td>\n",
       "      <td>56.470001</td>\n",
       "      <td>13.594446</td>\n",
       "      <td>17:10:00</td>\n",
       "    </tr>\n",
       "    <tr>\n",
       "      <th>...</th>\n",
       "      <th>...</th>\n",
       "      <th>...</th>\n",
       "      <td>...</td>\n",
       "      <td>...</td>\n",
       "      <td>...</td>\n",
       "      <td>...</td>\n",
       "    </tr>\n",
       "    <tr>\n",
       "      <th rowspan=\"5\" valign=\"top\">BW_TP3</th>\n",
       "      <th rowspan=\"5\" valign=\"top\">2022-08-16</th>\n",
       "      <th>7</th>\n",
       "      <td>2022-08-16 07:02:00</td>\n",
       "      <td>75.930000</td>\n",
       "      <td>24.405558</td>\n",
       "      <td>07:02:00</td>\n",
       "    </tr>\n",
       "    <tr>\n",
       "      <th>8</th>\n",
       "      <td>2022-08-16 08:02:00</td>\n",
       "      <td>75.860001</td>\n",
       "      <td>24.366669</td>\n",
       "      <td>08:02:00</td>\n",
       "    </tr>\n",
       "    <tr>\n",
       "      <th>9</th>\n",
       "      <td>2022-08-16 09:02:00</td>\n",
       "      <td>76.010002</td>\n",
       "      <td>24.450003</td>\n",
       "      <td>09:02:00</td>\n",
       "    </tr>\n",
       "    <tr>\n",
       "      <th>10</th>\n",
       "      <td>2022-08-16 10:02:00</td>\n",
       "      <td>77.320000</td>\n",
       "      <td>25.177778</td>\n",
       "      <td>10:02:00</td>\n",
       "    </tr>\n",
       "    <tr>\n",
       "      <th>11</th>\n",
       "      <td>2022-08-16 11:02:00</td>\n",
       "      <td>79.019997</td>\n",
       "      <td>26.122221</td>\n",
       "      <td>11:02:00</td>\n",
       "    </tr>\n",
       "  </tbody>\n",
       "</table>\n",
       "<p>25623 rows × 4 columns</p>\n",
       "</div>"
      ],
      "text/plain": [
       "                                      Date     Temp_F     Temp_C      time\n",
       "collar date       hour                                                    \n",
       "BE_SV3 2022-04-25 13   2022-04-25 13:40:00  65.199997  18.444443  13:40:00\n",
       "                  14   2022-04-25 14:10:00  56.240002  13.466668  14:10:00\n",
       "                  15   2022-04-25 15:10:00  56.630001  13.683334  15:10:00\n",
       "                  16   2022-04-25 16:10:00  56.779999  13.766666  16:10:00\n",
       "                  17   2022-04-25 17:10:00  56.470001  13.594446  17:10:00\n",
       "...                                    ...        ...        ...       ...\n",
       "BW_TP3 2022-08-16 7    2022-08-16 07:02:00  75.930000  24.405558  07:02:00\n",
       "                  8    2022-08-16 08:02:00  75.860001  24.366669  08:02:00\n",
       "                  9    2022-08-16 09:02:00  76.010002  24.450003  09:02:00\n",
       "                  10   2022-08-16 10:02:00  77.320000  25.177778  10:02:00\n",
       "                  11   2022-08-16 11:02:00  79.019997  26.122221  11:02:00\n",
       "\n",
       "[25623 rows x 4 columns]"
      ]
     },
     "execution_count": 32,
     "metadata": {},
     "output_type": "execute_result"
    }
   ],
   "source": [
    "collar_groups.first()                                           # display grouped dataframe"
   ]
  },
  {
   "cell_type": "code",
   "execution_count": 33,
   "id": "44138aec-b9ef-497c-a85c-86162c713a16",
   "metadata": {},
   "outputs": [],
   "source": [
    "mean_temps = collar_groups['Temp_C'].mean()                                # get the mean temperature for each hour of each day, for each collar"
   ]
  },
  {
   "cell_type": "code",
   "execution_count": 49,
   "id": "854a7d17-c112-46c4-8dac-5f404bb954af",
   "metadata": {},
   "outputs": [
    {
     "data": {
      "text/plain": [
       "hour\n",
       "14    17.844446\n",
       "15    15.915278\n",
       "16    15.677778\n",
       "17    15.473612\n",
       "18    15.238890\n",
       "19    14.969445\n",
       "20    14.691668\n",
       "21    14.434723\n",
       "22    14.208334\n",
       "23    14.058334\n",
       "Name: Temp_C, dtype: float32"
      ]
     },
     "execution_count": 49,
     "metadata": {},
     "output_type": "execute_result"
    }
   ],
   "source": [
    "mean_temps['BW_TP3','2022-04-25']                                            # display mean hourly temps for one collar on one date"
   ]
  },
  {
   "cell_type": "markdown",
   "id": "40ab97e7-ea83-470c-8867-58e0bed879ff",
   "metadata": {},
   "source": [
    "#### Read in and format flux dataframe. Group by collar."
   ]
  },
  {
   "cell_type": "code",
   "execution_count": 35,
   "id": "8930be3b-5d4a-48d6-8bd5-f365a12cb3a8",
   "metadata": {},
   "outputs": [],
   "source": [
    "file_location = 'data/processed/QC2'                                     # read in CO2 flux dataframe\n",
    "os.chdir(os.path.join(basepath, file_location))\n",
    "\n",
    "df = pd.read_csv('NYBG_CO2_Flux_and_Temps.csv',parse_dates = ['Date'])\n",
    "df.drop('Unnamed: 0', axis=1,inplace=True)"
   ]
  },
  {
   "cell_type": "code",
   "execution_count": 36,
   "id": "2fd0a465-c97e-47a6-983c-942fef1c718e",
   "metadata": {},
   "outputs": [
    {
     "data": {
      "text/html": [
       "<div>\n",
       "<style scoped>\n",
       "    .dataframe tbody tr th:only-of-type {\n",
       "        vertical-align: middle;\n",
       "    }\n",
       "\n",
       "    .dataframe tbody tr th {\n",
       "        vertical-align: top;\n",
       "    }\n",
       "\n",
       "    .dataframe thead th {\n",
       "        text-align: right;\n",
       "    }\n",
       "</style>\n",
       "<table border=\"1\" class=\"dataframe\">\n",
       "  <thead>\n",
       "    <tr style=\"text-align: right;\">\n",
       "      <th></th>\n",
       "      <th>Date</th>\n",
       "      <th>Chamber_Temp</th>\n",
       "      <th>Collar</th>\n",
       "      <th>CO2_Flux</th>\n",
       "      <th>Site</th>\n",
       "      <th>Type</th>\n",
       "      <th>Chamber Used</th>\n",
       "      <th>Temperature</th>\n",
       "      <th>Moisture</th>\n",
       "      <th>date</th>\n",
       "      <th>time</th>\n",
       "      <th>hour</th>\n",
       "    </tr>\n",
       "  </thead>\n",
       "  <tbody>\n",
       "    <tr>\n",
       "      <th>0</th>\n",
       "      <td>2022-05-31 08:13:00</td>\n",
       "      <td>31.95000</td>\n",
       "      <td>BW_TP1</td>\n",
       "      <td>33.04108</td>\n",
       "      <td>BW</td>\n",
       "      <td>TP</td>\n",
       "      <td>R</td>\n",
       "      <td>23.1</td>\n",
       "      <td>38.0</td>\n",
       "      <td>2022-05-31</td>\n",
       "      <td>08:13:00</td>\n",
       "      <td>8</td>\n",
       "    </tr>\n",
       "    <tr>\n",
       "      <th>1</th>\n",
       "      <td>2022-05-31 08:17:00</td>\n",
       "      <td>31.07364</td>\n",
       "      <td>BW_TP2</td>\n",
       "      <td>21.48947</td>\n",
       "      <td>BW</td>\n",
       "      <td>TP</td>\n",
       "      <td>R</td>\n",
       "      <td>23.4</td>\n",
       "      <td>38.0</td>\n",
       "      <td>2022-05-31</td>\n",
       "      <td>08:17:00</td>\n",
       "      <td>8</td>\n",
       "    </tr>\n",
       "    <tr>\n",
       "      <th>2</th>\n",
       "      <td>2022-05-31 08:22:00</td>\n",
       "      <td>32.25500</td>\n",
       "      <td>BW_TP3</td>\n",
       "      <td>15.38946</td>\n",
       "      <td>BW</td>\n",
       "      <td>TP</td>\n",
       "      <td>R</td>\n",
       "      <td>23.6</td>\n",
       "      <td>51.1</td>\n",
       "      <td>2022-05-31</td>\n",
       "      <td>08:22:00</td>\n",
       "      <td>8</td>\n",
       "    </tr>\n",
       "    <tr>\n",
       "      <th>3</th>\n",
       "      <td>2022-05-31 08:55:00</td>\n",
       "      <td>30.45091</td>\n",
       "      <td>BR_HL3</td>\n",
       "      <td>22.07139</td>\n",
       "      <td>BR</td>\n",
       "      <td>HL</td>\n",
       "      <td>R</td>\n",
       "      <td>22.3</td>\n",
       "      <td>47.1</td>\n",
       "      <td>2022-05-31</td>\n",
       "      <td>08:55:00</td>\n",
       "      <td>8</td>\n",
       "    </tr>\n",
       "    <tr>\n",
       "      <th>4</th>\n",
       "      <td>2022-05-31 09:49:00</td>\n",
       "      <td>33.74273</td>\n",
       "      <td>BW_HL1</td>\n",
       "      <td>24.25844</td>\n",
       "      <td>BW</td>\n",
       "      <td>HL</td>\n",
       "      <td>R</td>\n",
       "      <td>23.0</td>\n",
       "      <td>32.3</td>\n",
       "      <td>2022-05-31</td>\n",
       "      <td>09:49:00</td>\n",
       "      <td>9</td>\n",
       "    </tr>\n",
       "  </tbody>\n",
       "</table>\n",
       "</div>"
      ],
      "text/plain": [
       "                 Date  Chamber_Temp  Collar  CO2_Flux Site Type Chamber Used  \\\n",
       "0 2022-05-31 08:13:00      31.95000  BW_TP1  33.04108   BW   TP            R   \n",
       "1 2022-05-31 08:17:00      31.07364  BW_TP2  21.48947   BW   TP            R   \n",
       "2 2022-05-31 08:22:00      32.25500  BW_TP3  15.38946   BW   TP            R   \n",
       "3 2022-05-31 08:55:00      30.45091  BR_HL3  22.07139   BR   HL            R   \n",
       "4 2022-05-31 09:49:00      33.74273  BW_HL1  24.25844   BW   HL            R   \n",
       "\n",
       "   Temperature  Moisture        date      time  hour  \n",
       "0         23.1      38.0  2022-05-31  08:13:00     8  \n",
       "1         23.4      38.0  2022-05-31  08:17:00     8  \n",
       "2         23.6      51.1  2022-05-31  08:22:00     8  \n",
       "3         22.3      47.1  2022-05-31  08:55:00     8  \n",
       "4         23.0      32.3  2022-05-31  09:49:00     9  "
      ]
     },
     "execution_count": 36,
     "metadata": {},
     "output_type": "execute_result"
    }
   ],
   "source": [
    "split_date_columns(df)   # apply split dates function and display dataframe\n",
    "df.head()"
   ]
  },
  {
   "cell_type": "code",
   "execution_count": 37,
   "id": "d6a21ec1-b233-4d08-adbe-47ac24567fdd",
   "metadata": {},
   "outputs": [],
   "source": [
    "collar_list = ['BW_TP1','BW_HL1','BW_TP3','BG_UL3','BT_FE3','BT_FI3','BE_SV3','BE_UL1','BR_HL3','BL_ML1','BT_FI1','BT_FE2']  # select only collars that have temp sensor data\n",
    "df = df.loc[df['Collar'].isin(collar_list)]"
   ]
  },
  {
   "cell_type": "code",
   "execution_count": 38,
   "id": "8a5c2873-e3e2-40dc-b92b-e538337b5873",
   "metadata": {},
   "outputs": [],
   "source": [
    "df_collar_groups = df.groupby('Collar')        # group flux dataframe by collar"
   ]
  },
  {
   "cell_type": "markdown",
   "id": "22392feb-7f0c-45f4-8547-278d7ab2b45c",
   "metadata": {
    "tags": []
   },
   "source": [
    "#### Loop through grouped flux dataframe and match each flux reading to mean temperature based on collar, date, and hour"
   ]
  },
  {
   "cell_type": "code",
   "execution_count": 39,
   "id": "fb790190-cb57-49c9-ae49-8f035344f875",
   "metadata": {},
   "outputs": [],
   "source": [
    "group_list = []\n",
    "\n",
    "for name, group in df_collar_groups:\n",
    "            group['sensor_mean'] = group.apply(lambda row: mean_temps[name,row['date'],row['hour']] if row['date'] in mean_temps[name].index.get_level_values('date') else np.NaN, axis=1)\n",
    "            group_list.append(group) "
   ]
  },
  {
   "cell_type": "markdown",
   "id": "04fca649-9cd5-4f01-84f1-0115b05a85c8",
   "metadata": {},
   "source": [
    "#### Concatenate dataframes into on single df and export to csv file"
   ]
  },
  {
   "cell_type": "code",
   "execution_count": 43,
   "id": "ec863d71-c1fe-4783-8772-81966bc76f2f",
   "metadata": {},
   "outputs": [],
   "source": [
    "combined_df = pd.concat(group_list)"
   ]
  },
  {
   "cell_type": "code",
   "execution_count": 45,
   "id": "66f3f0ef-88c8-4865-ab43-8b619519ed6c",
   "metadata": {},
   "outputs": [
    {
     "name": "stdout",
     "output_type": "stream",
     "text": [
      "<class 'pandas.core.frame.DataFrame'>\n",
      "Int64Index: 95 entries, 10 to 170\n",
      "Data columns (total 13 columns):\n",
      " #   Column        Non-Null Count  Dtype         \n",
      "---  ------        --------------  -----         \n",
      " 0   Date          95 non-null     datetime64[ns]\n",
      " 1   Chamber_Temp  95 non-null     float64       \n",
      " 2   Collar        95 non-null     object        \n",
      " 3   CO2_Flux      95 non-null     float64       \n",
      " 4   Site          95 non-null     object        \n",
      " 5   Type          95 non-null     object        \n",
      " 6   Chamber Used  95 non-null     object        \n",
      " 7   Temperature   93 non-null     float64       \n",
      " 8   Moisture      93 non-null     float64       \n",
      " 9   date          95 non-null     object        \n",
      " 10  time          95 non-null     object        \n",
      " 11  hour          95 non-null     int64         \n",
      " 12  sensor_mean   62 non-null     float64       \n",
      "dtypes: datetime64[ns](1), float64(5), int64(1), object(6)\n",
      "memory usage: 10.4+ KB\n"
     ]
    }
   ],
   "source": [
    "combined_df.info()"
   ]
  },
  {
   "cell_type": "code",
   "execution_count": 47,
   "id": "2adea033-5c67-48fa-b227-3bd2a6ffb9f8",
   "metadata": {},
   "outputs": [],
   "source": [
    "file_location = 'data/processed/QC2/Temp_Sensors'\n",
    "combined_df.to_csv(os.path.join(basepath,file_location,'temp_sensor_means.csv'))"
   ]
  },
  {
   "cell_type": "code",
   "execution_count": null,
   "id": "197b04ff-954f-42a7-b590-db0f837440cb",
   "metadata": {},
   "outputs": [],
   "source": []
  }
 ],
 "metadata": {
  "kernelspec": {
   "display_name": "Python 3",
   "language": "python",
   "name": "python3"
  },
  "language_info": {
   "codemirror_mode": {
    "name": "ipython",
    "version": 3
   },
   "file_extension": ".py",
   "mimetype": "text/x-python",
   "name": "python",
   "nbconvert_exporter": "python",
   "pygments_lexer": "ipython3",
   "version": "3.9.13 (tags/v3.9.13:6de2ca5, May 17 2022, 16:36:42) [MSC v.1929 64 bit (AMD64)]"
  },
  "vscode": {
   "interpreter": {
    "hash": "1e72fda7ef3dd4911a27925058310348183bb4195b98c6164beba0132874cc59"
   }
  }
 },
 "nbformat": 4,
 "nbformat_minor": 5
}
