{
 "cells": [
  {
   "cell_type": "code",
   "execution_count": 1,
   "id": "08852fab-4eeb-4c26-a64b-50fbcc79de76",
   "metadata": {},
   "outputs": [],
   "source": [
    "import os\n",
    "import glob\n",
    "import pandas as pd"
   ]
  },
  {
   "cell_type": "markdown",
   "id": "52aafe04-de06-4612-b029-db2f491b2e4c",
   "metadata": {},
   "source": [
    "#### Concatenate multiple csv files into one file"
   ]
  },
  {
   "cell_type": "code",
   "execution_count": 17,
   "id": "604a2b8a-37c5-4717-a5bf-36d6c965c238",
   "metadata": {},
   "outputs": [],
   "source": [
    "basepath = 'C:/Users/roseh/Desktop/NYBG_R/'\n",
    "file_location = 'data/processed/QC2/Temp_Sensors'\n",
    "os.chdir(os.path.join(basepath, file_location))"
   ]
  },
  {
   "cell_type": "code",
   "execution_count": 27,
   "id": "e791fef6-9bf9-445c-a12b-1ce18b4e379f",
   "metadata": {},
   "outputs": [],
   "source": [
    "extension = 'csv'\n",
    "all_filenames = [i for i in glob.glob('B*.{}'.format(extension))]"
   ]
  },
  {
   "cell_type": "code",
   "execution_count": 19,
   "id": "09cc0d1d-85cb-4e89-9e0c-f6fa873209cf",
   "metadata": {},
   "outputs": [],
   "source": [
    "combined_csv = pd.concat([pd.read_csv(f) for f in all_filenames ])"
   ]
  },
  {
   "cell_type": "code",
   "execution_count": 5,
   "id": "4e44bc27-d678-40b3-bcec-5100535805a7",
   "metadata": {},
   "outputs": [],
   "source": [
    "combined_csv.to_csv( \"combined-file-name\", index=False, encoding='utf-8-sig')"
   ]
  },
  {
   "cell_type": "markdown",
   "id": "615fce17-4aaf-4ebe-84fc-a662a3d9b460",
   "metadata": {},
   "source": [
    "#### Extra function to format temperature sensor files before concatenating"
   ]
  },
  {
   "cell_type": "code",
   "execution_count": 46,
   "id": "9d78237d-4b6b-4320-ada3-9e8e68414388",
   "metadata": {},
   "outputs": [],
   "source": [
    "def format_csv(f):\n",
    "    df = pd.read_csv(f)\n",
    "    format_df = df.iloc[:,[0,1]].copy()\n",
    "    format_df['collar'] = f[:6]\n",
    "    return format_df"
   ]
  },
  {
   "cell_type": "code",
   "execution_count": 47,
   "id": "6fe3329e-9dc6-458a-a362-d971aea2e098",
   "metadata": {},
   "outputs": [],
   "source": [
    "combined_csv = pd.concat([format_csv(f) for f in all_filenames])    # call function on files before concat "
   ]
  },
  {
   "cell_type": "code",
   "execution_count": 45,
   "id": "b59f52e8-703c-4d74-a771-68d3e84b7230",
   "metadata": {},
   "outputs": [],
   "source": [
    "combined_csv.to_csv( \"all_temp_sensors.csv\", index=False, encoding='utf-8-sig')"
   ]
  },
  {
   "cell_type": "code",
   "execution_count": null,
   "id": "ef5f2fd4-f976-47f7-9dcd-3c1177c097e9",
   "metadata": {},
   "outputs": [],
   "source": []
  }
 ],
 "metadata": {
  "kernelspec": {
   "display_name": "Python 3 (ipykernel)",
   "language": "python",
   "name": "python3"
  },
  "language_info": {
   "codemirror_mode": {
    "name": "ipython",
    "version": 3
   },
   "file_extension": ".py",
   "mimetype": "text/x-python",
   "name": "python",
   "nbconvert_exporter": "python",
   "pygments_lexer": "ipython3",
   "version": "3.9.13"
  }
 },
 "nbformat": 4,
 "nbformat_minor": 5
}
