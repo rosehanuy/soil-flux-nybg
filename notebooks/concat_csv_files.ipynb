{
 "cells": [
  {
   "cell_type": "code",
   "execution_count": 1,
   "id": "08852fab-4eeb-4c26-a64b-50fbcc79de76",
   "metadata": {},
   "outputs": [],
   "source": [
    "import os\n",
    "import glob\n",
    "import pandas as pd"
   ]
  },
  {
   "cell_type": "markdown",
   "id": "52aafe04-de06-4612-b029-db2f491b2e4c",
   "metadata": {},
   "source": [
    "#### Concatenate multiple csv files into one file"
   ]
  },
  {
   "cell_type": "code",
   "execution_count": 2,
   "id": "604a2b8a-37c5-4717-a5bf-36d6c965c238",
   "metadata": {},
   "outputs": [],
   "source": [
    "basepath = 'C:/Users/roseh/Desktop/NYBG_R/'\n",
    "file_location = 'data/processed/QC2'\n",
    "os.chdir(os.path.join(basepath, file_location))"
   ]
  },
  {
   "cell_type": "code",
   "execution_count": 3,
   "id": "e791fef6-9bf9-445c-a12b-1ce18b4e379f",
   "metadata": {},
   "outputs": [],
   "source": [
    "extension = 'csv'\n",
    "all_filenames = [i for i in glob.glob('merged*.{}'.format(extension))]"
   ]
  },
  {
   "cell_type": "code",
   "execution_count": 4,
   "id": "09cc0d1d-85cb-4e89-9e0c-f6fa873209cf",
   "metadata": {},
   "outputs": [],
   "source": [
    "combined_csv = pd.concat([pd.read_csv(f) for f in all_filenames ])"
   ]
  },
  {
   "cell_type": "code",
   "execution_count": 5,
   "id": "4e44bc27-d678-40b3-bcec-5100535805a7",
   "metadata": {},
   "outputs": [],
   "source": [
    "combined_csv.to_csv( \"NYBG_CO2_Flux_and_Temps.csv\", index=False, encoding='utf-8-sig')"
   ]
  },
  {
   "cell_type": "code",
   "execution_count": null,
   "id": "3805f07c-fda3-4ab4-b985-4955d1d780b9",
   "metadata": {},
   "outputs": [],
   "source": []
  }
 ],
 "metadata": {
  "kernelspec": {
   "display_name": "Python 3 (ipykernel)",
   "language": "python",
   "name": "python3"
  },
  "language_info": {
   "codemirror_mode": {
    "name": "ipython",
    "version": 3
   },
   "file_extension": ".py",
   "mimetype": "text/x-python",
   "name": "python",
   "nbconvert_exporter": "python",
   "pygments_lexer": "ipython3",
   "version": "3.9.13"
  }
 },
 "nbformat": 4,
 "nbformat_minor": 5
}
