{
 "cells": [
  {
   "cell_type": "code",
   "execution_count": 1,
   "id": "16548ce9-dd55-47b4-b255-5e8d550cc2e2",
   "metadata": {},
   "outputs": [],
   "source": [
    "import os\n",
    "import pandas as pd"
   ]
  },
  {
   "cell_type": "markdown",
   "id": "cc7d363f-ac3a-4033-93e5-a6ad510c6d8a",
   "metadata": {
    "tags": []
   },
   "source": [
    "Format csv files from Soil Flux Pro. \n",
    "Save output to NYBG_R/data/processed."
   ]
  },
  {
   "cell_type": "code",
   "execution_count": 2,
   "id": "b4c6b83a-96ec-4616-93a3-df6b9e70e4c8",
   "metadata": {},
   "outputs": [],
   "source": [
    "basepath = 'C:/Users/roseh/Desktop/NYBG_R/'\n",
    "file_location = 'data/interim'\n",
    "src_path = os.path.join(basepath,'src')"
   ]
  },
  {
   "cell_type": "code",
   "execution_count": 3,
   "id": "3e5da665-05f2-4df5-976d-8bf2ed8b570d",
   "metadata": {},
   "outputs": [],
   "source": [
    "os.chdir(os.path.join(basepath,src_path))    # change directory to src\n",
    "\n",
    "from clean_csv import clean_csv              # import clean_csv function \n",
    "\n",
    "os.chdir(os.path.join(basepath,file_location))   # change directory to data/interim"
   ]
  },
  {
   "cell_type": "code",
   "execution_count": 4,
   "id": "90d757a9-b5df-4d59-8d68-81e5db284b72",
   "metadata": {},
   "outputs": [],
   "source": [
    "import glob                        # loop through all files in directory and apply function\n",
    "\n",
    "extension = 'csv'\n",
    "all_filenames = [i for i in glob.glob('*.{}'.format(extension))]\n",
    "\n",
    "for f in all_filenames:\n",
    "    clean_csv(f)"
   ]
  },
  {
   "cell_type": "code",
   "execution_count": null,
   "id": "bcb825cf-07fd-42aa-8afb-927095f98001",
   "metadata": {},
   "outputs": [],
   "source": []
  }
 ],
 "metadata": {
  "kernelspec": {
   "display_name": "Python 3 (ipykernel)",
   "language": "python",
   "name": "python3"
  },
  "language_info": {
   "codemirror_mode": {
    "name": "ipython",
    "version": 3
   },
   "file_extension": ".py",
   "mimetype": "text/x-python",
   "name": "python",
   "nbconvert_exporter": "python",
   "pygments_lexer": "ipython3",
   "version": "3.9.13"
  }
 },
 "nbformat": 4,
 "nbformat_minor": 5
}
