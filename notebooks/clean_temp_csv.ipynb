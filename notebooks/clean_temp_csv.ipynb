{
 "cells": [
  {
   "cell_type": "code",
   "execution_count": 1,
   "id": "91ce13f8-ca15-4f1d-b415-35208108f4b7",
   "metadata": {},
   "outputs": [],
   "source": [
    "import pandas as pd\n",
    "import os"
   ]
  },
  {
   "cell_type": "code",
   "execution_count": 2,
   "id": "9ab21efc-f84a-415c-bbe4-b5eff06e0d02",
   "metadata": {},
   "outputs": [],
   "source": [
    "import glob"
   ]
  },
  {
   "cell_type": "markdown",
   "id": "b455585d-12bb-48b9-9cee-27f34d015197",
   "metadata": {},
   "source": [
    "#### Get soil temperature data from Metadata excel workbook. Save clean csv files to data/processed folder"
   ]
  },
  {
   "cell_type": "code",
   "execution_count": 3,
   "id": "ebd06ff2-ec98-4b49-bece-229e67546cc6",
   "metadata": {},
   "outputs": [],
   "source": [
    "basepath = 'C:/Users/roseh/Desktop/NYBG_R/data/interim'\n",
    "\n",
    "os.chdir(basepath)"
   ]
  },
  {
   "cell_type": "code",
   "execution_count": 4,
   "id": "f0ef6986-1a27-48c2-b5e4-c009c29591b4",
   "metadata": {},
   "outputs": [],
   "source": [
    "for sheet_name, df in pd.read_excel(r\"Metadata.xlsx\",sheet_name=None).items():  # save excel sheets as csv files\n",
    "    df.to_csv(f'temp_{sheet_name}.csv', index=False, encoding='utf-8')"
   ]
  },
  {
   "cell_type": "code",
   "execution_count": 5,
   "id": "ce6704f4-1423-4528-99c9-b16e81207979",
   "metadata": {},
   "outputs": [],
   "source": [
    "extension = 'csv'                                                      # clean csv files and save to processed folder\n",
    "all_filenames = [i for i in glob.glob('*.{}'.format(extension))]\n",
    "\n",
    "for csv_file in all_filenames:\n",
    "    df = pd.read_csv(csv_file,skiprows=3,usecols=[0,2,4,5])\n",
    "    df = df.loc[df['Chamber Used']!='NEE']\n",
    "    output_folder = 'C:/Users/roseh/Desktop/NYBG_R/data/processed/new_temps'    \n",
    "    file_name = csv_file\n",
    "    path = os.path.join(output_folder,file_name)\n",
    "    \n",
    "    df.to_csv(path,index=False)"
   ]
  },
  {
   "cell_type": "code",
   "execution_count": null,
   "id": "c712f8c6-f1a3-4711-9d39-5178b022ffed",
   "metadata": {},
   "outputs": [],
   "source": []
  }
 ],
 "metadata": {
  "kernelspec": {
   "display_name": "Python 3 (ipykernel)",
   "language": "python",
   "name": "python3"
  },
  "language_info": {
   "codemirror_mode": {
    "name": "ipython",
    "version": 3
   },
   "file_extension": ".py",
   "mimetype": "text/x-python",
   "name": "python",
   "nbconvert_exporter": "python",
   "pygments_lexer": "ipython3",
   "version": "3.9.13"
  }
 },
 "nbformat": 4,
 "nbformat_minor": 5
}
