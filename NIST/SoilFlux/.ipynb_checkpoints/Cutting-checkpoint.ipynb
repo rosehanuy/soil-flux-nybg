{
 "cells": [
  {
   "cell_type": "code",
   "execution_count": 13,
   "id": "6bc4e8f1",
   "metadata": {},
   "outputs": [],
   "source": [
    "import pandas as pd\n",
    "import numpy as np\n",
    "import datetime as dt\n",
    "import matplotlib.pyplot as plt\n",
    "import matplotlib.dates as mdates\n",
    "from matplotlib.dates import DateFormatter\n",
    "import glob\n",
    "import itertools\n",
    "import warnings\n",
    "warnings.filterwarnings(\"ignore\")\n",
    "\n",
    "def get_variables_8100(file):\n",
    "    # Colume variables\n",
    "    SoilFlx = pd.read_csv(file, header=2)\n",
    "    SoilFlx = SoilFlx.to_numpy() # convert to array\n",
    "    Timestamps = SoilFlx[:, 0]\n",
    "    Temp_chamb = SoilFlx[:, 1]\n",
    "    Labels=SoilFlx[:, 4]\n",
    "    Flx_linear = SoilFlx[:, 5]\n",
    "    Flx_expone = SoilFlx[:, 6]\n",
    "    Flx_CV = SoilFlx[:, 7]\n",
    "    # Derived variables\n",
    "    DT = np.array([dt.datetime.strptime(d, '%Y-%m-%d %H:%M:%S') for d in Timestamps])\n",
    "    Hours= [dt.hour for dt in DT]\n",
    "    Dates= [dt.date() for dt in DT]\n",
    "    bNEE = np.array(['_NEE' in lab for lab in Labels])\n",
    "    bR = np.array(['_R' in lab for lab in Labels])\n",
    "    return DT, Labels, Flx_linear, Flx_expone, Flx_CV, bNEE, bR\n",
    "\n",
    "def simple_QC(Flx_CV, Flx_linear, Flx_expone):\n",
    "    Flx_real= np.empty(len(Flx_linear))\n",
    "    Flx_real[:]=np.nan\n",
    "    threshold = 0.1\n",
    "    \n",
    "    boo_qc1 = Flx_CV <1.2  #(r2 > 0.99 and) flx_CV <1.2\n",
    "    for i in range(0, len(Flx_linear)):\n",
    "        if Flx_CV[i]<1.2:\n",
    "            Flx_real[i] = Flx_linear[i]\n",
    "        else:\n",
    "            if abs((Flx_linear[i]-Flx_expone[i])/Flx_linear[i])<threshold: # and Flx_CV[i]<5.0:\n",
    "                Flx_real[i] = Flx_linear[i]  \n",
    "    return Flx_real\n",
    "\n",
    "Labels_LDEO = ['LC_HL1', 'LC_HL2','LC_HL3','LC_HL4','LC_HL5','LC_HL6',\n",
    "               'LH_UL1', 'LH_UL2','LH_UL3','LH_UL4','LH_UL5','LH_UL6',\n",
    "               'LH_SV1', 'LH_SV2']\n",
    "\n"
   ]
  },
  {
   "cell_type": "code",
   "execution_count": 16,
   "id": "d3cef3c6",
   "metadata": {},
   "outputs": [
    {
     "name": "stdout",
     "output_type": "stream",
     "text": [
      "['LH_UL1_R' 'LH_UL2_R' 'LH_UL3_R' 'LH_UL4_R' 'LH_UL5_R' 'LH_UL6_R'\n",
      " 'LH_UL1_R_C0' 'LH_UL2_R_C0' 'LH_UL3_R_C0' 'LH_UL4_R_C0' 'LH_UL5_R_C0'\n",
      " 'LH_UL6_R_C0' 'LH_SV2_R' 'LH_SV1_R' 'LH_SV2_R_C0' 'LH_SV1_R_C0'\n",
      " 'LC_HL1_R' 'LC_HL2_R' 'LC_HL3_R' 'LC_HL4_R' 'LC_HL5_R' 'LC_HL6_R'\n",
      " 'LC_HL6_R_C0' 'LC_HL5_R_C0' 'LC_HL4_R_C0' 'LC_HL3_R_C0' 'LC_HL2_R_C0'\n",
      " 'LC_HL1_R_C0']\n",
      "['LH_UL1_NEE' 'LH_UL2_NEE' 'LH_UL3_NEE' 'LH_UL4_NEE' 'LH_UL5_NEE'\n",
      " 'LH_UL6_NEE' 'LH_UL1_NEE_C0' 'LH_UL2_NEE_C0' 'LH_UL3_NEE_C0'\n",
      " 'LH_UL4_NEE_C0' 'LH_UL5_NEE_C0' 'LH_UL6_NEE_C0' 'LH_SV1_NEE' 'LH_SV2_NEE'\n",
      " 'LH_SV2_NEE_C0' 'LH_SV1_NEE_C0' 'LC_HL5_NEE' 'LC_HL4_NEE' 'LC_HL3_NEE'\n",
      " 'LC_HL2_NEE' 'LC_HL1_NEE' 'LC_HL1_NEE_C0' 'LC_HL2_NEE_C0' 'LC_HL3_NEE_C0'\n",
      " 'LC_HL4_NEE_C0' 'LC_HL5_NEE_C0' 'LC_HL6_NEE_C0']\n"
     ]
    }
   ],
   "source": [
    "Datadir='/Users/dandanwei/Desktop/Measurements-2022/SoilFlux/data/cutting/'\n",
    "file='20220613_LDEO_8100.csv'\n",
    "DT, Labels, Flx_linear, Flx_expone, Flx_CV, bNEE, bR=get_variables_8100(Datadir+file)\n",
    "Flx_real = simple_QC(Flx_CV, Flx_linear, Flx_expone)\n",
    "bC0 = np.array(['_C0' in lab for lab in Labels])\n",
    "bnoC0 = np.array(['_C0' not in lab for lab in Labels])\n",
    "# for lab in Labels:\n",
    "#     print(lab)\n",
    "\n",
    "print(Labels[bR])\n",
    "print(Labels[bNEE])"
   ]
  },
  {
   "cell_type": "code",
   "execution_count": 36,
   "id": "e6abb662",
   "metadata": {},
   "outputs": [],
   "source": [
    "Flx_R_bC = np.empty(len(Labels_LDEO)) # before cutting\n",
    "Flx_R_C0 = np.empty(len(Labels_LDEO)) # after cutting\n",
    "Flx_R_bC[:]=np.nan\n",
    "Flx_R_C0[:]=np.nan\n",
    "\n",
    "Flx_NEE_bC = np.empty(len(Labels_LDEO)) # before cutting\n",
    "Flx_NEE_C0 = np.empty(len(Labels_LDEO)) # after cutting\n",
    "Flx_NEE_bC[:]=np.nan\n",
    "Flx_NEE_C0[:]=np.nan\n",
    "\n",
    "ind=0\n",
    "for label in Labels_LDEO:\n",
    "    bLabel = np.array([label in lab for lab in Labels])\n",
    "    bLabR = np.logical_and(bLabel, bR) \n",
    "    bLabNEE=np.logical_and(bLabel, bNEE) \n",
    "    bRC0 = np.logical_and(bC0, bLabR) \n",
    "    bRnotC0 = np.logical_and(bnoC0, bLabR) \n",
    "    bNEEC0 = np.logical_and(bC0, bLabNEE) \n",
    "    bNEEnotC0 = np.logical_and(bnoC0, bLabNEE) \n",
    "\n",
    "    Flx_R_bC[ind] = Flx_real[bRnotC0]  # before cutting\n",
    "    Flx_R_C0[ind] = Flx_real[bRC0]     # after cutting \n",
    "    if Flx_real[bNEEnotC0]:\n",
    "        Flx_NEE_bC[ind]=Flx_real[bNEEnotC0]\n",
    "    Flx_NEE_C0[ind]=Flx_real[bNEEC0]\n",
    "    \n",
    "    ind+=1\n",
    "    \n",
    "Flx_GPP_bC = -Flx_R_bC+Flx_NEE_bC\n",
    "Flx_GPP_C0 = -Flx_R_C0+Flx_NEE_C0\n",
    "    "
   ]
  },
  {
   "cell_type": "code",
   "execution_count": 40,
   "id": "14e3a2c3",
   "metadata": {},
   "outputs": [
    {
     "data": {
      "text/plain": [
       "[<matplotlib.lines.Line2D at 0x7f78d062b910>]"
      ]
     },
     "execution_count": 40,
     "metadata": {},
     "output_type": "execute_result"
    },
    {
     "data": {
      "image/png": "[encoded data removed]",
      "text/plain": [
       "<Figure size 1152x288 with 1 Axes>"
      ]
     },
     "metadata": {
      "needs_background": "light"
     },
     "output_type": "display_data"
    },
    {
     "data": {
      "image/png": "[encoded data removed]",
      "text/plain": [
       "<Figure size 1152x288 with 1 Axes>"
      ]
     },
     "metadata": {
      "needs_background": "light"
     },
     "output_type": "display_data"
    },
    {
     "data": {
      "image/png": "[encoded data removed]",
      "text/plain": [
       "<Figure size 1152x288 with 1 Axes>"
      ]
     },
     "metadata": {
      "needs_background": "light"
     },
     "output_type": "display_data"
    }
   ],
   "source": [
    "# for lab in Labels_LDEO:\n",
    "#     print(lab)\n",
    "\n",
    "plt.figure(figsize=(16, 4))\n",
    "plt.plot(Labels_LDEO, Flx_R_bC, linestyle='none',marker='o',color='lawngreen')\n",
    "plt.plot(Labels_LDEO, Flx_R_C0, linestyle='none',marker='o',color='orange') \n",
    "\n",
    "plt.figure(figsize=(16, 4))\n",
    "plt.plot(Labels_LDEO, Flx_NEE_bC, linestyle='none',marker='o',color='lawngreen')\n",
    "plt.plot(Labels_LDEO, Flx_NEE_C0, linestyle='none',marker='o',color='orange') \n",
    "plt.plot([0, 14], [0, 0], linestyle='--', color='grey')\n",
    "\n",
    "plt.figure(figsize=(16, 4))\n",
    "plt.plot(Labels_LDEO, Flx_GPP_bC, linestyle='none',marker='o',color='lawngreen')\n",
    "plt.plot(Labels_LDEO, Flx_GPP_C0, linestyle='none',marker='o',color='orange') \n",
    "plt.plot([0, 14], [0, 0], linestyle='--', color='grey')\n",
    "\n"
   ]
  }
 ],
 "metadata": {
  "kernelspec": {
   "display_name": "Python 3",
   "language": "python",
   "name": "python3"
  },
  "language_info": {
   "codemirror_mode": {
    "name": "ipython",
    "version": 3
   },
   "file_extension": ".py",
   "mimetype": "text/x-python",
   "name": "python",
   "nbconvert_exporter": "python",
   "pygments_lexer": "ipython3",
   "version": "3.8.8"
  }
 },
 "nbformat": 4,
 "nbformat_minor": 5
}
