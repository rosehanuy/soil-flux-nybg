{
 "cells": [
  {
   "cell_type": "code",
   "execution_count": 56,
   "id": "e1e9393d",
   "metadata": {},
   "outputs": [
    {
     "name": "stdout",
     "output_type": "stream",
     "text": [
      "BT_FE1_R [nan]\n",
      "BT_FE2_R_2 [3.80751]\n",
      "BT_FI1_R [4.76368]\n",
      "BT_FI2_R [2.06597]\n",
      "BW_TP2_R [12.56358]\n",
      "BW_TP3_R [7.89737]\n",
      "BW_TP4_R [8.03875]\n",
      "BL_ML1_R [15.11188]\n",
      "BL_SV2_R [5.16786]\n",
      "BR_HL3_R [25.5118]\n",
      "BR_HL4_R [12.82211]\n",
      "BE_SV3_R [2.2783]\n",
      "BE_UL2_R [5.6933]\n",
      "BE_UL1_R [7.29958]\n",
      "BG_UL3_R [9.1954]\n",
      "BT_FE3_R [3.69927]\n",
      "BT_FE4_R [3.55842]\n",
      "BT_FI4_R [2.90948]\n",
      "BT_FI3_R [4.80825]\n",
      "BW_HL1_R [19.31336]\n",
      "BW_HL2_R [22.02053]\n",
      "BL_SV2_NEE [5.56689]\n",
      "BL_ML1_NEE [6.53893]\n",
      "BR_HL3_NE [24.78252]\n",
      "BR_HL4_NE [-0.58862]\n",
      "BE_SV3_NEE [4.24143]\n",
      "BE_UL1_NEE [4.82301]\n",
      "BE_UL2_NEE [6.83975]\n",
      "BG_UL3_NEE_V2 [-0.53197]\n",
      "BW_HL2_NEE [-7.54735]\n",
      "BW_HL1_NEE_v2 [-8.54719]\n"
     ]
    }
   ],
   "source": [
    "import numpy as np\n",
    "from SoilFlux_fun import get_variables_7810,get_variables_8100,simple_QC\n",
    "\n",
    "Lawn_Label_NYBG = np.array([\n",
    "               'BE_UL1', 'BE_UL2', 'BG_UL3','Fand'\n",
    "               'BL_SV2', 'BE_SV3',\n",
    "               'BL_ML1', \n",
    "               'BW_HL1', 'BW_HL2', 'BR_HL3', 'BR_HL4',\n",
    "               ])\n",
    "\n",
    "# Check daily data\n",
    "f7810='/Users/dandanwei/Desktop/Measurements-2022/SoilFlux/data/20220816_NYBG_7810.csv'\n",
    "f8100='/Users/dandanwei/Desktop/Measurements-2022/SoilFlux/data/20220816_NYBG_8100.csv'\n",
    "DT1, Labels1, Flx_linear1, Flx_expone1, Flx_CV1, bNEE1, bR1, Tcham78101 = get_variables_7810(f7810)\n",
    "Res_real = simple_QC(Flx_CV1, Flx_linear1, Flx_expone1) # Simple Quality Control\n",
    "\n",
    "DT, Labels, Flx_linear, Flx_expone, Flx_CV, bNEE, bR,Tcham8100 = get_variables_8100(f8100)\n",
    "NEE_real = simple_QC(Flx_CV, Flx_linear, Flx_expone) # Simple Quality Control\n",
    "# print(np.shape(Res_real))\n",
    "# print(np.shape(NEE_real))\n",
    "for l in Labels1:\n",
    "    print(l, Res_real[Labels1==l])\n",
    "for l in Labels:\n",
    "    print(l, NEE_real[Labels==l])"
   ]
  },
  {
   "cell_type": "code",
   "execution_count": 59,
   "id": "24f55300",
   "metadata": {},
   "outputs": [
    {
     "name": "stdout",
     "output_type": "stream",
     "text": [
      "False\n",
      "BE_UL1 GPP= -2.4765699999999997\n",
      "False\n",
      "BE_UL2 GPP= 1.1464500000000006\n",
      "False\n",
      "BG_UL3 GPP= -9.727369999999999\n",
      "False\n"
     ]
    },
    {
     "ename": "ValueError",
     "evalue": "setting an array element with a sequence.",
     "output_type": "error",
     "traceback": [
      "\u001b[0;31m---------------------------------------------------------------------------\u001b[0m",
      "\u001b[0;31mTypeError\u001b[0m                                 Traceback (most recent call last)",
      "\u001b[0;31mTypeError\u001b[0m: only size-1 arrays can be converted to Python scalars",
      "\nThe above exception was the direct cause of the following exception:\n",
      "\u001b[0;31mValueError\u001b[0m                                Traceback (most recent call last)",
      "\u001b[0;32m<ipython-input-59-ba9780b43b3f>\u001b[0m in \u001b[0;36m<module>\u001b[0;34m\u001b[0m\n\u001b[1;32m      8\u001b[0m     \u001b[0;32melse\u001b[0m\u001b[0;34m:\u001b[0m\u001b[0;34m\u001b[0m\u001b[0;34m\u001b[0m\u001b[0m\n\u001b[1;32m      9\u001b[0m         \u001b[0mprint\u001b[0m\u001b[0;34m(\u001b[0m\u001b[0mboo_R\u001b[0m\u001b[0;34m.\u001b[0m\u001b[0many\u001b[0m\u001b[0;34m(\u001b[0m\u001b[0;34m)\u001b[0m \u001b[0;32mis\u001b[0m \u001b[0;32mFalse\u001b[0m\u001b[0;34m)\u001b[0m\u001b[0;34m\u001b[0m\u001b[0;34m\u001b[0m\u001b[0m\n\u001b[0;32m---> 10\u001b[0;31m         \u001b[0mGPP\u001b[0m\u001b[0;34m[\u001b[0m\u001b[0mind\u001b[0m\u001b[0;34m]\u001b[0m \u001b[0;34m=\u001b[0m \u001b[0mNEE_real\u001b[0m\u001b[0;34m[\u001b[0m\u001b[0mboo_NEE\u001b[0m\u001b[0;34m]\u001b[0m\u001b[0;34m-\u001b[0m\u001b[0mRes_real\u001b[0m\u001b[0;34m[\u001b[0m\u001b[0mboo_R\u001b[0m\u001b[0;34m]\u001b[0m\u001b[0;34m\u001b[0m\u001b[0;34m\u001b[0m\u001b[0m\n\u001b[0m\u001b[1;32m     11\u001b[0m     \u001b[0mprint\u001b[0m\u001b[0;34m(\u001b[0m\u001b[0mlab\u001b[0m\u001b[0;34m,\u001b[0m \u001b[0;34m'GPP='\u001b[0m\u001b[0;34m,\u001b[0m \u001b[0mGPP\u001b[0m\u001b[0;34m[\u001b[0m\u001b[0mind\u001b[0m\u001b[0;34m]\u001b[0m\u001b[0;34m)\u001b[0m\u001b[0;34m\u001b[0m\u001b[0;34m\u001b[0m\u001b[0m\n\u001b[1;32m     12\u001b[0m \u001b[0;34m\u001b[0m\u001b[0m\n",
      "\u001b[0;31mValueError\u001b[0m: setting an array element with a sequence."
     ]
    }
   ],
   "source": [
    "ind=0\n",
    "GPP = np.empty(len(Lawn_Label_NYBG))\n",
    "for lab in Lawn_Label_NYBG:\n",
    "    boo_R = np.array([lab in label for label in Labels1])\n",
    "    boo_NEE = np.array([lab in label for label in Labels])\n",
    "    if boo_R.all() is False or boo_NEE.all() is False:\n",
    "        GPP[ind]=np.nan\n",
    "    else:\n",
    "        print(boo_R.any() is False)\n",
    "        GPP[ind] = NEE_real[boo_NEE]-Res_real[boo_R]\n",
    "    print(lab, 'GPP=', GPP[ind])\n",
    "    ind+=1\n",
    "\n"
   ]
  },
  {
   "cell_type": "code",
   "execution_count": null,
   "id": "188c0568",
   "metadata": {},
   "outputs": [],
   "source": [
    "def get_GPP(Res, NEE):\n",
    "    GPP=NEE-Res_real"
   ]
  }
 ],
 "metadata": {
  "kernelspec": {
   "display_name": "Python 3",
   "language": "python",
   "name": "python3"
  },
  "language_info": {
   "codemirror_mode": {
    "name": "ipython",
    "version": 3
   },
   "file_extension": ".py",
   "mimetype": "text/x-python",
   "name": "python",
   "nbconvert_exporter": "python",
   "pygments_lexer": "ipython3",
   "version": "3.8.8"
  }
 },
 "nbformat": 4,
 "nbformat_minor": 5
}
